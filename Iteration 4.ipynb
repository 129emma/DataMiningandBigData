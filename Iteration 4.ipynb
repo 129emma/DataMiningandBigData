{
 "cells": [
  {
   "cell_type": "markdown",
   "metadata": {},
   "source": [
    "Iteration 4_INFOSYS 722"
   ]
  },
  {
   "cell_type": "code",
   "execution_count": 1,
   "metadata": {},
   "outputs": [],
   "source": [
    "# This part starts Data Preparation of Iteration 4\n",
    "# I will number each relevant cell as answer"
   ]
  },
  {
   "cell_type": "code",
   "execution_count": 6,
   "metadata": {},
   "outputs": [],
   "source": [
    "import findspark\n",
    "findspark.init('/home/ubuntu/spark-2.1.1-bin-hadoop2.7')\n",
    "import pyspark\n",
    "from pyspark.sql import SparkSession\n",
    "spark = SparkSession.builder.appName('iteration4').getOrCreate()"
   ]
  },
  {
   "cell_type": "code",
   "execution_count": 7,
   "metadata": {},
   "outputs": [],
   "source": [
    "# Import dataset \n",
    "dataFrame = spark.read.csv('Dataset/data.csv',header=True,inferSchema=True)"
   ]
  },
  {
   "cell_type": "code",
   "execution_count": 8,
   "metadata": {
    "scrolled": true
   },
   "outputs": [
    {
     "name": "stdout",
     "output_type": "stream",
     "text": [
      "+--------------------+--------------------+----------------+----------------------+---------------+-------------------+-------------+---------+\n",
      "|         ANZSOCGroup|       MapDetailName|          Region|NumberofVictimisations|NumberofRecords|OccurrenceDayOfWeek|       Weapon|YearMonth|\n",
      "+--------------------+--------------------+----------------+----------------------+---------------+-------------------+-------------+---------+\n",
      "|AggravatedSexualA...|      HillcrestWest.|   WaikatoRegion|                     1|              1|            UNKNOWN|NotApplicable|  1/07/14|\n",
      "|Non-AggravatedSex...|   TeAwamutuCentral.|   WaikatoRegion|                     1|              1|                Sun|NotApplicable|  1/07/14|\n",
      "|AggravatedSexualA...|      TotaraHeights.|  AucklandRegion|                     1|              1|                Tue|    NotStated|  1/07/14|\n",
      "|AggravatedSexualA...|       FlaxmereEast.|Hawke'sBayRegion|                     1|              1|                Sun|    NotStated|  1/07/14|\n",
      "|AggravatedSexualA...|             Wairoa.|Hawke'sBayRegion|                     1|              1|            UNKNOWN|    NotStated|  1/07/14|\n",
      "|AggravatedSexualA...|             Wairoa.|Hawke'sBayRegion|                     1|              1|            UNKNOWN|    NotStated|  1/07/14|\n",
      "|AggravatedSexualA...|          Brentwood.|WellingtonRegion|                     1|              1|            UNKNOWN|    NotStated|  1/07/14|\n",
      "|AggravatedSexualA...|       GlenEdenEast.|  AucklandRegion|                     1|              1|                Mon|    NotStated|  1/07/14|\n",
      "|AggravatedSexualA...|        GraftonEast.|  AucklandRegion|                     1|              1|                Mon|    NotStated|  1/07/14|\n",
      "|AggravatedSexualA...|      PukekoheNorth.|  AucklandRegion|                     1|              1|                Wed|NotApplicable|  1/09/14|\n",
      "|AggravatedSexualA...|               Wiri.|  AucklandRegion|                     1|              1|                Sat|NotApplicable|  1/09/14|\n",
      "|AggravatedSexualA...|         MellonsBay.|  AucklandRegion|                     1|              1|            UNKNOWN|NotApplicable|  1/09/14|\n",
      "|AggravatedSexualA...|       StarlingPark.|  AucklandRegion|                     1|              1|                Mon|NotApplicable|  1/09/14|\n",
      "|AggravatedSexualA...|AucklandHarbourside.|  AucklandRegion|                     1|              1|                Mon|NotApplicable|  1/09/14|\n",
      "|AggravatedSexualA...|AucklandCentralWest.|  AucklandRegion|                     1|              1|                Sat|    NotStated|  1/09/14|\n",
      "|AggravatedSexualA...|AucklandCentralEast.|  AucklandRegion|                     1|              1|            UNKNOWN|    NotStated|  1/09/14|\n",
      "|Non-AggravatedSex...|    TakapunaCentral.|  AucklandRegion|                     1|              1|                Fri|NotApplicable|  1/09/14|\n",
      "|AggravatedSexualA...|    CathedralSquare.|CanterburyRegion|                     1|              1|                Tue|NotApplicable|  1/09/14|\n",
      "|AggravatedSexualA...|    CathedralSquare.|CanterburyRegion|                     1|              1|                Tue|    NotStated|  1/09/14|\n",
      "|Non-AggravatedSex...|        NewtownEast.|WellingtonRegion|                     3|              1|            UNKNOWN|NotApplicable|  1/09/14|\n",
      "+--------------------+--------------------+----------------+----------------------+---------------+-------------------+-------------+---------+\n",
      "only showing top 20 rows\n",
      "\n"
     ]
    }
   ],
   "source": [
    "# Show the dataset\n",
    "dataFrame.show()"
   ]
  },
  {
   "cell_type": "code",
   "execution_count": 27,
   "metadata": {
    "scrolled": true
   },
   "outputs": [
    {
     "name": "stdout",
     "output_type": "stream",
     "text": [
      "[Row(ANZSOCGroup='AggravatedSexualAssault', MapDetailName='HillcrestWest.', Region='WaikatoRegion', NumberofVictimisations=1, NumberofRecords=1, OccurrenceDayOfWeek='UNKNOWN', Weapon='NotApplicable', YearMonth='1/07/14'), Row(ANZSOCGroup='Non-AggravatedSexualAssault', MapDetailName='TeAwamutuCentral.', Region='WaikatoRegion', NumberofVictimisations=1, NumberofRecords=1, OccurrenceDayOfWeek='Sun', Weapon='NotApplicable', YearMonth='1/07/14')]\n",
      "\n",
      "Total of aggravatedSexualAssault reports: 6199\n",
      "\n",
      "Total of Non-AggravatedSexualAssault reports: 2155\n"
     ]
    }
   ],
   "source": [
    "# 2.3 Data Exploration\n",
    "print(dataFrame.head(2))\n",
    "\n",
    "# Number of AggrabatedSexualAssault report\n",
    "aggSexAssuaultTable = dataFrame[dataFrame.ANZSOCGroup.isin(\"AggravatedSexualAssault\")]\n",
    "print('\\n' + \"Total of aggravatedSexualAssault reports:\", aggSexAssuaultTable.count())\n",
    "\n",
    "# Number of Non-AggravatedSexualAssault report\n",
    "nonAggravatedSexualAssault = dataFrame[dataFrame.ANZSOCGroup.isin(\"Non-AggravatedSexualAssault\")]\n",
    "print('\\n' + \"Total of Non-AggravatedSexualAssault reports:\", nonAggravatedSexualAssault.count())\n"
   ]
  },
  {
   "cell_type": "code",
   "execution_count": 28,
   "metadata": {},
   "outputs": [
    {
     "name": "stdout",
     "output_type": "stream",
     "text": [
      "Total data columns before cleaning: 8354\n"
     ]
    }
   ],
   "source": [
    "# 3.2 To clean the data, issues must be made explicit, then explicitly resolved.\n",
    "# Show orginal columns before cleaning\n",
    "print(\"Total data columns before cleaning:\", dataFrame.count())"
   ]
  },
  {
   "cell_type": "code",
   "execution_count": 18,
   "metadata": {
    "scrolled": true
   },
   "outputs": [],
   "source": [
    "# Drop empty rows\n",
    "droppedTable = dataFrame.na.drop()"
   ]
  },
  {
   "cell_type": "code",
   "execution_count": 19,
   "metadata": {},
   "outputs": [
    {
     "name": "stdout",
     "output_type": "stream",
     "text": [
      "Total data columns after cleaning: 7734\n"
     ]
    }
   ],
   "source": [
    "# Show columns after cleaning\n",
    "print(\"Total data columns after cleaning:\", droppedTable.count())\n"
   ]
  },
  {
   "cell_type": "code",
   "execution_count": 22,
   "metadata": {},
   "outputs": [
    {
     "ename": "AttributeError",
     "evalue": "'GroupedData' object has no attribute 'show'",
     "output_type": "error",
     "traceback": [
      "\u001b[0;31m---------------------------------------------------------------------------\u001b[0m",
      "\u001b[0;31mAttributeError\u001b[0m                            Traceback (most recent call last)",
      "\u001b[0;32m<ipython-input-22-c4fa961c32f4>\u001b[0m in \u001b[0;36m<module>\u001b[0;34m()\u001b[0m\n\u001b[1;32m      1\u001b[0m \u001b[0;31m#\u001b[0m\u001b[0;34m\u001b[0m\u001b[0;34m\u001b[0m\u001b[0m\n\u001b[0;32m----> 2\u001b[0;31m \u001b[0mdroppedTable\u001b[0m\u001b[0;34m.\u001b[0m\u001b[0mgroupBy\u001b[0m\u001b[0;34m(\u001b[0m\u001b[0;34m'ANZSOCGroup'\u001b[0m\u001b[0;34m)\u001b[0m\u001b[0;34m.\u001b[0m\u001b[0mshow\u001b[0m\u001b[0;34m(\u001b[0m\u001b[0;34m)\u001b[0m\u001b[0;34m\u001b[0m\u001b[0m\n\u001b[0m",
      "\u001b[0;31mAttributeError\u001b[0m: 'GroupedData' object has no attribute 'show'"
     ]
    }
   ],
   "source": [
    "#\n",
    "droppedTable.groupBy('ANZSOCGroup').mean().show()"
   ]
  },
  {
   "cell_type": "code",
   "execution_count": null,
   "metadata": {},
   "outputs": [],
   "source": []
  }
 ],
 "metadata": {
  "kernelspec": {
   "display_name": "Python 3",
   "language": "python",
   "name": "python3"
  },
  "language_info": {
   "codemirror_mode": {
    "name": "ipython",
    "version": 3
   },
   "file_extension": ".py",
   "mimetype": "text/x-python",
   "name": "python",
   "nbconvert_exporter": "python",
   "pygments_lexer": "ipython3",
   "version": "3.5.2"
  }
 },
 "nbformat": 4,
 "nbformat_minor": 2
}
