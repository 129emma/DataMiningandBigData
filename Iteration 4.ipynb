{
 "cells": [
  {
   "cell_type": "markdown",
   "metadata": {},
   "source": [
    "Iteration 4"
   ]
  },
  {
   "cell_type": "code",
   "execution_count": 5,
   "metadata": {},
   "outputs": [],
   "source": [
    "import findspark\n",
    "findspark.init('/home/ubuntu/spark-2.1.1-bin-hadoop2.7')\n",
    "import pyspark\n",
    "from pyspark.sql import SparkSession\n",
    "spark = SparkSession.builder.appName('basics').getOrCreate()"
   ]
  },
  {
   "cell_type": "code",
   "execution_count": 40,
   "metadata": {},
   "outputs": [],
   "source": [
    "# Import dataset\n",
    "dataFrame = spark.read.csv('Dataset/violenceData.csv',header=True,inferSchema=True)"
   ]
  },
  {
   "cell_type": "code",
   "execution_count": 41,
   "metadata": {},
   "outputs": [
    {
     "name": "stdout",
     "output_type": "stream",
     "text": [
      "+-----------------+--------------------+----+------+-----+-----+-------+------+------+------+-------+\n",
      "|CountiresandAreas|AnyViolentDiscipline|Male|Female|Urban|Rural|Poorest|Second|Middle|Fourth|Richest|\n",
      "+-----------------+--------------------+----+------+-----+-----+-------+------+------+------+-------+\n",
      "|      Afghanistan|                  74|  75|    74|   78|   74|     74|    74|    75|    74|     76|\n",
      "|          Albania|                  77|  81|    73|   70|   82|     86|    80|    80|    74|     60|\n",
      "|          Algeria|                  86|  88|    85|   87|   86|     86|    88|    87|    87|     84|\n",
      "|          Andorra|                null|null|  null| null| null|   null|  null|  null|  null|   null|\n",
      "|           Angola|                null|null|  null| null| null|   null|  null|  null|  null|   null|\n",
      "|AntiguaandBarbuda|                null|null|  null| null| null|   null|  null|  null|  null|   null|\n",
      "|        Argentina|                  72|  74|    71| null| null|     76|    74|    75|    70|     67|\n",
      "|          Armenia|                  69|  71|    67|   68|   71|     73|    69|    69|    65|     68|\n",
      "|        Australia|                null|null|  null| null| null|   null|  null|  null|  null|   null|\n",
      "|          Austria|                null|null|  null| null| null|   null|  null|  null|  null|   null|\n",
      "|       Azerbaijan|                  77|  80|    74|   76|   78|     81|    76|    76|    75|     74|\n",
      "|          Bahamas|                null|null|  null| null| null|   null|  null|  null|  null|   null|\n",
      "|          Bahrain|                null|null|  null| null| null|   null|  null|  null|  null|   null|\n",
      "|       Bangladesh|                  82|  83|    82|   77|   84|     87|    85|    83|    81|     73|\n",
      "|         Barbados|                  75|  78|    72|   77|   72|     80|    71|    78|    75|     72|\n",
      "|          Belarus|                  65|  67|    62|   66|   62|     64|    67|    62|    65|     65|\n",
      "|          Belgium|                null|null|  null| null| null|   null|  null|  null|  null|   null|\n",
      "|           Belize|                  65|  67|    63|   68|   64|     72|    69|    61|    61|     59|\n",
      "|            Benin|                  91|  92|    90|   92|   90|     90|    91|    90|    94|     91|\n",
      "|           Bhutan|                null|null|  null| null| null|   null|  null|  null|  null|   null|\n",
      "+-----------------+--------------------+----+------+-----+-----+-------+------+------+------+-------+\n",
      "only showing top 20 rows\n",
      "\n"
     ]
    }
   ],
   "source": [
    "# Show the dataset\n",
    "dataFrame.show()"
   ]
  },
  {
   "cell_type": "code",
   "execution_count": 10,
   "metadata": {},
   "outputs": [
    {
     "name": "stdout",
     "output_type": "stream",
     "text": [
      "Total data columns: 197\n"
     ]
    }
   ],
   "source": [
    "# Show orginal columns before cleaning\n",
    "print(\"Total data columns:\", dataFrame.count())\n"
   ]
  },
  {
   "cell_type": "code",
   "execution_count": 46,
   "metadata": {
    "scrolled": true
   },
   "outputs": [
    {
     "name": "stdout",
     "output_type": "stream",
     "text": [
      "+--------------------+--------------------+----+------+-----+-----+-------+------+------+------+-------+\n",
      "|   CountiresandAreas|AnyViolentDiscipline|Male|Female|Urban|Rural|Poorest|Second|Middle|Fourth|Richest|\n",
      "+--------------------+--------------------+----+------+-----+-----+-------+------+------+------+-------+\n",
      "|         Afghanistan|                  74|  75|    74|   78|   74|     74|    74|    75|    74|     76|\n",
      "|             Albania|                  77|  81|    73|   70|   82|     86|    80|    80|    74|     60|\n",
      "|             Algeria|                  86|  88|    85|   87|   86|     86|    88|    87|    87|     84|\n",
      "|             Armenia|                  69|  71|    67|   68|   71|     73|    69|    69|    65|     68|\n",
      "|          Azerbaijan|                  77|  80|    74|   76|   78|     81|    76|    76|    75|     74|\n",
      "|          Bangladesh|                  82|  83|    82|   77|   84|     87|    85|    83|    81|     73|\n",
      "|            Barbados|                  75|  78|    72|   77|   72|     80|    71|    78|    75|     72|\n",
      "|             Belarus|                  65|  67|    62|   66|   62|     64|    67|    62|    65|     65|\n",
      "|              Belize|                  65|  67|    63|   68|   64|     72|    69|    61|    61|     59|\n",
      "|               Benin|                  91|  92|    90|   92|   90|     90|    91|    90|    94|     91|\n",
      "|BosniaandHerzegovina|                  55|  60|    50|   54|   56|     59|    54|    54|    59|     51|\n",
      "|         BurkinaFaso|                  83|  84|    82|   86|   82|     81|    83|    82|    82|     86|\n",
      "|            Cameroon|                  85|  85|    85|   87|   84|     80|    86|    87|    88|     87|\n",
      "|CentralAfricanRep...|                  92|  92|    92|   92|   92|     92|    94|    91|    91|     92|\n",
      "|                Chad|                  71|  72|    71|   72|   71|     70|    72|    72|    70|     71|\n",
      "|           CostaRica|                  46|  52|    39|   47|   45|     47|    47|    44|    53|     35|\n",
      "|          IvoryCoast|                  91|  91|    91|   92|   90|     91|    91|    91|    92|     89|\n",
      "|DemocraticRepubli...|                  82|  82|    81|   83|   81|     79|    79|    84|    81|     85|\n",
      "|   DominicanRepublic|                  63|  64|    61|   63|   64|     61|    63|    63|    65|     62|\n",
      "|               Egypt|                  93|  93|    93|   92|   93|     93|    94|    94|    94|     91|\n",
      "+--------------------+--------------------+----+------+-----+-----+-------+------+------+------+-------+\n",
      "only showing top 20 rows\n",
      "\n"
     ]
    },
    {
     "data": {
      "text/plain": [
       "64"
      ]
     },
     "execution_count": 46,
     "metadata": {},
     "output_type": "execute_result"
    }
   ],
   "source": [
    "# drop empty rows\n",
    "droppedTable = dataFrame.na.drop()\n",
    "droppedTable.show()\n",
    "droppedTable.count()\n",
    "\n",
    "\n"
   ]
  },
  {
   "cell_type": "code",
   "execution_count": null,
   "metadata": {},
   "outputs": [],
   "source": [
    "#"
   ]
  }
 ],
 "metadata": {
  "kernelspec": {
   "display_name": "Python 3",
   "language": "python",
   "name": "python3"
  },
  "language_info": {
   "codemirror_mode": {
    "name": "ipython",
    "version": 3
   },
   "file_extension": ".py",
   "mimetype": "text/x-python",
   "name": "python",
   "nbconvert_exporter": "python",
   "pygments_lexer": "ipython3",
   "version": "3.5.2"
  }
 },
 "nbformat": 4,
 "nbformat_minor": 2
}
