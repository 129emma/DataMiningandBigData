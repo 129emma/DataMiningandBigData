{
 "cells": [
  {
   "cell_type": "markdown",
   "metadata": {},
   "source": [
    "Iteration 4"
   ]
  },
  {
   "cell_type": "code",
   "execution_count": 1,
   "metadata": {},
   "outputs": [],
   "source": [
    "# Section must be included at the beginning of each new notebook. Remember to change the app name. \n",
    "# If you're using VirtualBox, change the below to '/home/user/spark-2.1.1-bin-hadoop2.7'\n",
    "import findspark\n",
    "findspark.init('/home/ubuntu/spark-2.1.1-bin-hadoop2.7')\n",
    "import pyspark\n",
    "from pyspark.sql import SparkSession\n",
    "spark = SparkSession.builder.appName('basics').getOrCreate()"
   ]
  },
  {
   "cell_type": "code",
   "execution_count": 5,
   "metadata": {},
   "outputs": [],
   "source": [
    "# Import dataset\n",
    "dataFrame = spark.read.csv('Dataset/violence.csv',header=True,inferSchema=True)"
   ]
  },
  {
   "cell_type": "code",
   "execution_count": 6,
   "metadata": {},
   "outputs": [
    {
     "name": "stdout",
     "output_type": "stream",
     "text": [
      "+-------------------+-----------------------+----+------+-----+-----+----+----+----+\n",
      "|Countries and areas|Any violent discipline |Male|Female|Urban|Rural| _c6| _c7| _c8|\n",
      "+-------------------+-----------------------+----+------+-----+-----+----+----+----+\n",
      "|        Afghanistan|                   74.4|74.8|  74.1| 77.5| 73.8|null|null|null|\n",
      "|            Albania|                   76.9|80.5|  73.3| 69.5| 81.8|null|null|null|\n",
      "|            Algeria|                   86.3|87.7|  84.9| 86.8| 85.6|null|null|null|\n",
      "|            Andorra|                   null|null|  null| null| null|null|null|null|\n",
      "|             Angola|                   null|null|  null| null| null|null|null|null|\n",
      "|Antigua and Barbuda|                   null|null|  null| null| null|null|null|null|\n",
      "|          Argentina|                   72.4|74.0|  70.8| null| null|null|null|null|\n",
      "|            Armenia|                   68.9|70.8|  66.8| 67.6| 70.7|null|null|null|\n",
      "|          Australia|                   null|null|  null| null| null|null|null|null|\n",
      "|            Austria|                   null|null|  null| null| null|null|null|null|\n",
      "|         Azerbaijan|                   76.8|80.0|  73.8| 76.0| 77.6|null|null|null|\n",
      "|            Bahamas|                   null|null|  null| null| null|null|null|null|\n",
      "|            Bahrain|                   null|null|  null| null| null|null|null|null|\n",
      "|         Bangladesh|                   82.3|82.9|  81.6| 76.9| 83.5|null|null|null|\n",
      "|           Barbados|                   75.1|78.1|  72.1| 76.7| 72.3|null|null|null|\n",
      "|            Belarus|                   64.5|67.4|  61.7| 65.7| 61.7|null|null|null|\n",
      "|            Belgium|                   null|null|  null| null| null|null|null|null|\n",
      "|             Belize|                   65.1|66.9|  63.2| 67.5| 63.7|null|null|null|\n",
      "|              Benin|                   91.1|92.2|  89.9| 92.2| 90.2|null|null|null|\n",
      "|             Bhutan|                   null|null|  null| null| null|null|null|    |\n",
      "+-------------------+-----------------------+----+------+-----+-----+----+----+----+\n",
      "only showing top 20 rows\n",
      "\n"
     ]
    }
   ],
   "source": [
    "# Show the dataset\n",
    "dataFrame.show()"
   ]
  },
  {
   "cell_type": "code",
   "execution_count": null,
   "metadata": {},
   "outputs": [],
   "source": []
  }
 ],
 "metadata": {
  "kernelspec": {
   "display_name": "Python 3",
   "language": "python",
   "name": "python3"
  },
  "language_info": {
   "codemirror_mode": {
    "name": "ipython",
    "version": 3
   },
   "file_extension": ".py",
   "mimetype": "text/x-python",
   "name": "python",
   "nbconvert_exporter": "python",
   "pygments_lexer": "ipython3",
   "version": "3.5.2"
  }
 },
 "nbformat": 4,
 "nbformat_minor": 2
}
