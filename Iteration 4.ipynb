{
 "cells": [
  {
   "cell_type": "markdown",
   "metadata": {},
   "source": [
    "# Iteration 4_INFOSYS 722"
   ]
  },
  {
   "cell_type": "code",
   "execution_count": 1,
   "metadata": {},
   "outputs": [],
   "source": [
    "# This part starts Data Preparation of Iteration 4\n",
    "# I will number each relevant cell as answer"
   ]
  },
  {
   "cell_type": "code",
   "execution_count": 6,
   "metadata": {},
   "outputs": [],
   "source": [
    "import findspark\n",
    "findspark.init('/home/ubuntu/spark-2.1.1-bin-hadoop2.7')\n",
    "import pyspark\n",
    "from pyspark.sql import SparkSession\n",
    "spark = SparkSession.builder.appName('iteration4').getOrCreate()"
   ]
  },
  {
   "cell_type": "code",
   "execution_count": 7,
   "metadata": {},
   "outputs": [],
   "source": [
    "# Import dataset \n",
    "dataFrame = spark.read.csv('Dataset/data.csv',header=True,inferSchema=True)"
   ]
  },
  {
   "cell_type": "code",
   "execution_count": 8,
   "metadata": {
    "scrolled": false
   },
   "outputs": [
    {
     "name": "stdout",
     "output_type": "stream",
     "text": [
      "+--------------------+--------------------+----------------+----------------------+---------------+-------------------+-------------+---------+\n",
      "|         ANZSOCGroup|       MapDetailName|          Region|NumberofVictimisations|NumberofRecords|OccurrenceDayOfWeek|       Weapon|YearMonth|\n",
      "+--------------------+--------------------+----------------+----------------------+---------------+-------------------+-------------+---------+\n",
      "|AggravatedSexualA...|      HillcrestWest.|   WaikatoRegion|                     1|              1|            UNKNOWN|NotApplicable|  1/07/14|\n",
      "|Non-AggravatedSex...|   TeAwamutuCentral.|   WaikatoRegion|                     1|              1|                Sun|NotApplicable|  1/07/14|\n",
      "|AggravatedSexualA...|      TotaraHeights.|  AucklandRegion|                     1|              1|                Tue|    NotStated|  1/07/14|\n",
      "|AggravatedSexualA...|       FlaxmereEast.|Hawke'sBayRegion|                     1|              1|                Sun|    NotStated|  1/07/14|\n",
      "|AggravatedSexualA...|             Wairoa.|Hawke'sBayRegion|                     1|              1|            UNKNOWN|    NotStated|  1/07/14|\n",
      "|AggravatedSexualA...|             Wairoa.|Hawke'sBayRegion|                     1|              1|            UNKNOWN|    NotStated|  1/07/14|\n",
      "|AggravatedSexualA...|          Brentwood.|WellingtonRegion|                     1|              1|            UNKNOWN|    NotStated|  1/07/14|\n",
      "|AggravatedSexualA...|       GlenEdenEast.|  AucklandRegion|                     1|              1|                Mon|    NotStated|  1/07/14|\n",
      "|AggravatedSexualA...|        GraftonEast.|  AucklandRegion|                     1|              1|                Mon|    NotStated|  1/07/14|\n",
      "|AggravatedSexualA...|      PukekoheNorth.|  AucklandRegion|                     1|              1|                Wed|NotApplicable|  1/09/14|\n",
      "|AggravatedSexualA...|               Wiri.|  AucklandRegion|                     1|              1|                Sat|NotApplicable|  1/09/14|\n",
      "|AggravatedSexualA...|         MellonsBay.|  AucklandRegion|                     1|              1|            UNKNOWN|NotApplicable|  1/09/14|\n",
      "|AggravatedSexualA...|       StarlingPark.|  AucklandRegion|                     1|              1|                Mon|NotApplicable|  1/09/14|\n",
      "|AggravatedSexualA...|AucklandHarbourside.|  AucklandRegion|                     1|              1|                Mon|NotApplicable|  1/09/14|\n",
      "|AggravatedSexualA...|AucklandCentralWest.|  AucklandRegion|                     1|              1|                Sat|    NotStated|  1/09/14|\n",
      "|AggravatedSexualA...|AucklandCentralEast.|  AucklandRegion|                     1|              1|            UNKNOWN|    NotStated|  1/09/14|\n",
      "|Non-AggravatedSex...|    TakapunaCentral.|  AucklandRegion|                     1|              1|                Fri|NotApplicable|  1/09/14|\n",
      "|AggravatedSexualA...|    CathedralSquare.|CanterburyRegion|                     1|              1|                Tue|NotApplicable|  1/09/14|\n",
      "|AggravatedSexualA...|    CathedralSquare.|CanterburyRegion|                     1|              1|                Tue|    NotStated|  1/09/14|\n",
      "|Non-AggravatedSex...|        NewtownEast.|WellingtonRegion|                     3|              1|            UNKNOWN|NotApplicable|  1/09/14|\n",
      "+--------------------+--------------------+----------------+----------------------+---------------+-------------------+-------------+---------+\n",
      "only showing top 20 rows\n",
      "\n"
     ]
    }
   ],
   "source": [
    "# Show the dataset\n",
    "dataFrame.show()"
   ]
  },
  {
   "cell_type": "markdown",
   "metadata": {},
   "source": [
    "## 2.3 Data Exporation"
   ]
  },
  {
   "cell_type": "code",
   "execution_count": 29,
   "metadata": {
    "scrolled": false
   },
   "outputs": [
    {
     "name": "stdout",
     "output_type": "stream",
     "text": [
      "+-------+--------------------+-------------+---------------+----------------------+---------------+-------------------+-----------+---------+\n",
      "|summary|         ANZSOCGroup|MapDetailName|         Region|NumberofVictimisations|NumberofRecords|OccurrenceDayOfWeek|     Weapon|YearMonth|\n",
      "+-------+--------------------+-------------+---------------+----------------------+---------------+-------------------+-----------+---------+\n",
      "|  count|                8354|         7734|           7734|                  8354|           8354|               8354|       8354|     8354|\n",
      "|   mean|                null|         null|           null|    0.9547522145080201|            1.0|               null|       null|     null|\n",
      "| stddev|                null|         null|           null|      0.52938282883613|            0.0|               null|       null|     null|\n",
      "|    min|AggravatedSexualA...|  AbbeyCaves.| AucklandRegion|                     0|              1|                Fri|   Bludgeon|  1/01/15|\n",
      "|    max|Non-AggravatedSex...|  YattonPark.|WestCoastRegion|                    36|              1|                Wed|OtherWeapon|  1/12/17|\n",
      "+-------+--------------------+-------------+---------------+----------------------+---------------+-------------------+-----------+---------+\n",
      "\n",
      "\n",
      "Total of aggravatedSexualAssault reports: 6199\n",
      "\n",
      "Total of Non-AggravatedSexualAssault reports: 2155\n"
     ]
    }
   ],
   "source": [
    "# Computer summary of the data\n",
    "dataFrame.describe().show()\n",
    "\n",
    "# Number of AggrabatedSexualAssault report\n",
    "aggSexAssuaultTable = dataFrame[dataFrame.ANZSOCGroup.isin(\"AggravatedSexualAssault\")]\n",
    "print('\\n' + \"Total of aggravatedSexualAssault reports:\", aggSexAssuaultTable.count())\n",
    "\n",
    "# Number of Non-AggravatedSexualAssault report\n",
    "nonAggravatedSexualAssault = dataFrame[dataFrame.ANZSOCGroup.isin(\"Non-AggravatedSexualAssault\")]\n",
    "print('\\n' + \"Total of Non-AggravatedSexualAssault reports:\", nonAggravatedSexualAssault.count())\n"
   ]
  },
  {
   "cell_type": "markdown",
   "metadata": {},
   "source": [
    "## 3 Data  Preparation\n",
    "### 3.2 To clean the data, issues must be made explicit, then explicitly resolved."
   ]
  },
  {
   "cell_type": "code",
   "execution_count": 28,
   "metadata": {
    "scrolled": true
   },
   "outputs": [
    {
     "name": "stdout",
     "output_type": "stream",
     "text": [
      "Total data columns before cleaning: 8354\n"
     ]
    }
   ],
   "source": [
    "# Show orginal columns before cleaning\n",
    "print(\"Total data columns before cleaning:\", dataFrame.count())"
   ]
  },
  {
   "cell_type": "code",
   "execution_count": 31,
   "metadata": {
    "scrolled": true
   },
   "outputs": [],
   "source": [
    "# Drop null values with their rows\n",
    "droppedTable = dataFrame.na.drop()"
   ]
  },
  {
   "cell_type": "code",
   "execution_count": 19,
   "metadata": {},
   "outputs": [
    {
     "name": "stdout",
     "output_type": "stream",
     "text": [
      "Total data columns after cleaning: 7734\n"
     ]
    }
   ],
   "source": [
    "# Show columns after cleaning\n",
    "print(\"Total data columns after cleaning:\", droppedTable.count())"
   ]
  },
  {
   "cell_type": "code",
   "execution_count": null,
   "metadata": {},
   "outputs": [],
   "source": []
  }
 ],
 "metadata": {
  "kernelspec": {
   "display_name": "Python 3",
   "language": "python",
   "name": "python3"
  },
  "language_info": {
   "codemirror_mode": {
    "name": "ipython",
    "version": 3
   },
   "file_extension": ".py",
   "mimetype": "text/x-python",
   "name": "python",
   "nbconvert_exporter": "python",
   "pygments_lexer": "ipython3",
   "version": "3.5.2"
  }
 },
 "nbformat": 4,
 "nbformat_minor": 2
}
