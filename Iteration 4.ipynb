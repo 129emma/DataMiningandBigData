{
 "cells": [
  {
   "cell_type": "markdown",
   "metadata": {},
   "source": [
    "# Iteration 4_INFOSYS 722  \n",
    "yzhb363 Emma"
   ]
  },
  {
   "cell_type": "markdown",
   "metadata": {},
   "source": [
    "- This part starts from Data Preparation of Iteration 4\n",
    "- I will number each relevant cell as answers\n",
    "- please run **all cells** at the same time, since all packages are imported at the begining"
   ]
  },
  {
   "cell_type": "code",
   "execution_count": 1,
   "metadata": {},
   "outputs": [],
   "source": [
    "import findspark\n",
    "findspark.init('/home/ubuntu/spark-2.1.1-bin-hadoop2.7')\n",
    "import pyspark\n",
    "from pyspark.sql import SparkSession\n",
    "from pyspark.sql import Row\n",
    "from pyspark.sql.functions import format_number, col\n",
    "\n",
    "spark = SparkSession.builder.appName('iteration4').getOrCreate()"
   ]
  },
  {
   "cell_type": "code",
   "execution_count": 2,
   "metadata": {},
   "outputs": [],
   "source": [
    "# Import pandas.\n",
    "import pandas as pd"
   ]
  },
  {
   "cell_type": "code",
   "execution_count": 3,
   "metadata": {},
   "outputs": [],
   "source": [
    "# Import dataset \n",
    "dataFrame = spark.read.csv('Dataset/data.csv',header=True,inferSchema=True)"
   ]
  },
  {
   "cell_type": "code",
   "execution_count": 4,
   "metadata": {
    "scrolled": false
   },
   "outputs": [
    {
     "data": {
      "text/html": [
       "<div>\n",
       "<style scoped>\n",
       "    .dataframe tbody tr th:only-of-type {\n",
       "        vertical-align: middle;\n",
       "    }\n",
       "\n",
       "    .dataframe tbody tr th {\n",
       "        vertical-align: top;\n",
       "    }\n",
       "\n",
       "    .dataframe thead th {\n",
       "        text-align: right;\n",
       "    }\n",
       "</style>\n",
       "<table border=\"1\" class=\"dataframe\">\n",
       "  <thead>\n",
       "    <tr style=\"text-align: right;\">\n",
       "      <th></th>\n",
       "      <th>ANZSOCGroup</th>\n",
       "      <th>MapDetailName</th>\n",
       "      <th>Region</th>\n",
       "      <th>NumberofVictimisations</th>\n",
       "      <th>NumberofRecords</th>\n",
       "      <th>OccurrenceDayOfWeek</th>\n",
       "      <th>Weapon</th>\n",
       "      <th>YearMonth</th>\n",
       "    </tr>\n",
       "  </thead>\n",
       "  <tbody>\n",
       "    <tr>\n",
       "      <th>0</th>\n",
       "      <td>AggravatedSexualAssault</td>\n",
       "      <td>HillcrestWest.</td>\n",
       "      <td>WaikatoRegion</td>\n",
       "      <td>1</td>\n",
       "      <td>1</td>\n",
       "      <td>UNKNOWN</td>\n",
       "      <td>NotApplicable</td>\n",
       "      <td>1/07/14</td>\n",
       "    </tr>\n",
       "    <tr>\n",
       "      <th>1</th>\n",
       "      <td>Non-AggravatedSexualAssault</td>\n",
       "      <td>TeAwamutuCentral.</td>\n",
       "      <td>WaikatoRegion</td>\n",
       "      <td>1</td>\n",
       "      <td>1</td>\n",
       "      <td>Sun</td>\n",
       "      <td>NotApplicable</td>\n",
       "      <td>1/07/14</td>\n",
       "    </tr>\n",
       "    <tr>\n",
       "      <th>2</th>\n",
       "      <td>AggravatedSexualAssault</td>\n",
       "      <td>TotaraHeights.</td>\n",
       "      <td>AucklandRegion</td>\n",
       "      <td>1</td>\n",
       "      <td>1</td>\n",
       "      <td>Tue</td>\n",
       "      <td>NotStated</td>\n",
       "      <td>1/07/14</td>\n",
       "    </tr>\n",
       "    <tr>\n",
       "      <th>3</th>\n",
       "      <td>AggravatedSexualAssault</td>\n",
       "      <td>FlaxmereEast.</td>\n",
       "      <td>Hawke'sBayRegion</td>\n",
       "      <td>1</td>\n",
       "      <td>1</td>\n",
       "      <td>Sun</td>\n",
       "      <td>NotStated</td>\n",
       "      <td>1/07/14</td>\n",
       "    </tr>\n",
       "    <tr>\n",
       "      <th>4</th>\n",
       "      <td>AggravatedSexualAssault</td>\n",
       "      <td>Wairoa.</td>\n",
       "      <td>Hawke'sBayRegion</td>\n",
       "      <td>1</td>\n",
       "      <td>1</td>\n",
       "      <td>UNKNOWN</td>\n",
       "      <td>NotStated</td>\n",
       "      <td>1/07/14</td>\n",
       "    </tr>\n",
       "    <tr>\n",
       "      <th>5</th>\n",
       "      <td>AggravatedSexualAssault</td>\n",
       "      <td>Wairoa.</td>\n",
       "      <td>Hawke'sBayRegion</td>\n",
       "      <td>1</td>\n",
       "      <td>1</td>\n",
       "      <td>UNKNOWN</td>\n",
       "      <td>NotStated</td>\n",
       "      <td>1/07/14</td>\n",
       "    </tr>\n",
       "    <tr>\n",
       "      <th>6</th>\n",
       "      <td>AggravatedSexualAssault</td>\n",
       "      <td>Brentwood.</td>\n",
       "      <td>WellingtonRegion</td>\n",
       "      <td>1</td>\n",
       "      <td>1</td>\n",
       "      <td>UNKNOWN</td>\n",
       "      <td>NotStated</td>\n",
       "      <td>1/07/14</td>\n",
       "    </tr>\n",
       "    <tr>\n",
       "      <th>7</th>\n",
       "      <td>AggravatedSexualAssault</td>\n",
       "      <td>GlenEdenEast.</td>\n",
       "      <td>AucklandRegion</td>\n",
       "      <td>1</td>\n",
       "      <td>1</td>\n",
       "      <td>Mon</td>\n",
       "      <td>NotStated</td>\n",
       "      <td>1/07/14</td>\n",
       "    </tr>\n",
       "    <tr>\n",
       "      <th>8</th>\n",
       "      <td>AggravatedSexualAssault</td>\n",
       "      <td>GraftonEast.</td>\n",
       "      <td>AucklandRegion</td>\n",
       "      <td>1</td>\n",
       "      <td>1</td>\n",
       "      <td>Mon</td>\n",
       "      <td>NotStated</td>\n",
       "      <td>1/07/14</td>\n",
       "    </tr>\n",
       "    <tr>\n",
       "      <th>9</th>\n",
       "      <td>AggravatedSexualAssault</td>\n",
       "      <td>PukekoheNorth.</td>\n",
       "      <td>AucklandRegion</td>\n",
       "      <td>1</td>\n",
       "      <td>1</td>\n",
       "      <td>Wed</td>\n",
       "      <td>NotApplicable</td>\n",
       "      <td>1/09/14</td>\n",
       "    </tr>\n",
       "    <tr>\n",
       "      <th>10</th>\n",
       "      <td>AggravatedSexualAssault</td>\n",
       "      <td>Wiri.</td>\n",
       "      <td>AucklandRegion</td>\n",
       "      <td>1</td>\n",
       "      <td>1</td>\n",
       "      <td>Sat</td>\n",
       "      <td>NotApplicable</td>\n",
       "      <td>1/09/14</td>\n",
       "    </tr>\n",
       "    <tr>\n",
       "      <th>11</th>\n",
       "      <td>AggravatedSexualAssault</td>\n",
       "      <td>MellonsBay.</td>\n",
       "      <td>AucklandRegion</td>\n",
       "      <td>1</td>\n",
       "      <td>1</td>\n",
       "      <td>UNKNOWN</td>\n",
       "      <td>NotApplicable</td>\n",
       "      <td>1/09/14</td>\n",
       "    </tr>\n",
       "    <tr>\n",
       "      <th>12</th>\n",
       "      <td>AggravatedSexualAssault</td>\n",
       "      <td>StarlingPark.</td>\n",
       "      <td>AucklandRegion</td>\n",
       "      <td>1</td>\n",
       "      <td>1</td>\n",
       "      <td>Mon</td>\n",
       "      <td>NotApplicable</td>\n",
       "      <td>1/09/14</td>\n",
       "    </tr>\n",
       "    <tr>\n",
       "      <th>13</th>\n",
       "      <td>AggravatedSexualAssault</td>\n",
       "      <td>AucklandHarbourside.</td>\n",
       "      <td>AucklandRegion</td>\n",
       "      <td>1</td>\n",
       "      <td>1</td>\n",
       "      <td>Mon</td>\n",
       "      <td>NotApplicable</td>\n",
       "      <td>1/09/14</td>\n",
       "    </tr>\n",
       "    <tr>\n",
       "      <th>14</th>\n",
       "      <td>AggravatedSexualAssault</td>\n",
       "      <td>AucklandCentralWest.</td>\n",
       "      <td>AucklandRegion</td>\n",
       "      <td>1</td>\n",
       "      <td>1</td>\n",
       "      <td>Sat</td>\n",
       "      <td>NotStated</td>\n",
       "      <td>1/09/14</td>\n",
       "    </tr>\n",
       "    <tr>\n",
       "      <th>15</th>\n",
       "      <td>AggravatedSexualAssault</td>\n",
       "      <td>AucklandCentralEast.</td>\n",
       "      <td>AucklandRegion</td>\n",
       "      <td>1</td>\n",
       "      <td>1</td>\n",
       "      <td>UNKNOWN</td>\n",
       "      <td>NotStated</td>\n",
       "      <td>1/09/14</td>\n",
       "    </tr>\n",
       "    <tr>\n",
       "      <th>16</th>\n",
       "      <td>Non-AggravatedSexualAssault</td>\n",
       "      <td>TakapunaCentral.</td>\n",
       "      <td>AucklandRegion</td>\n",
       "      <td>1</td>\n",
       "      <td>1</td>\n",
       "      <td>Fri</td>\n",
       "      <td>NotApplicable</td>\n",
       "      <td>1/09/14</td>\n",
       "    </tr>\n",
       "    <tr>\n",
       "      <th>17</th>\n",
       "      <td>AggravatedSexualAssault</td>\n",
       "      <td>CathedralSquare.</td>\n",
       "      <td>CanterburyRegion</td>\n",
       "      <td>1</td>\n",
       "      <td>1</td>\n",
       "      <td>Tue</td>\n",
       "      <td>NotApplicable</td>\n",
       "      <td>1/09/14</td>\n",
       "    </tr>\n",
       "    <tr>\n",
       "      <th>18</th>\n",
       "      <td>AggravatedSexualAssault</td>\n",
       "      <td>CathedralSquare.</td>\n",
       "      <td>CanterburyRegion</td>\n",
       "      <td>1</td>\n",
       "      <td>1</td>\n",
       "      <td>Tue</td>\n",
       "      <td>NotStated</td>\n",
       "      <td>1/09/14</td>\n",
       "    </tr>\n",
       "    <tr>\n",
       "      <th>19</th>\n",
       "      <td>Non-AggravatedSexualAssault</td>\n",
       "      <td>NewtownEast.</td>\n",
       "      <td>WellingtonRegion</td>\n",
       "      <td>3</td>\n",
       "      <td>1</td>\n",
       "      <td>UNKNOWN</td>\n",
       "      <td>NotApplicable</td>\n",
       "      <td>1/09/14</td>\n",
       "    </tr>\n",
       "  </tbody>\n",
       "</table>\n",
       "</div>"
      ],
      "text/plain": [
       "                    ANZSOCGroup         MapDetailName            Region  \\\n",
       "0       AggravatedSexualAssault        HillcrestWest.     WaikatoRegion   \n",
       "1   Non-AggravatedSexualAssault     TeAwamutuCentral.     WaikatoRegion   \n",
       "2       AggravatedSexualAssault        TotaraHeights.    AucklandRegion   \n",
       "3       AggravatedSexualAssault         FlaxmereEast.  Hawke'sBayRegion   \n",
       "4       AggravatedSexualAssault               Wairoa.  Hawke'sBayRegion   \n",
       "5       AggravatedSexualAssault               Wairoa.  Hawke'sBayRegion   \n",
       "6       AggravatedSexualAssault            Brentwood.  WellingtonRegion   \n",
       "7       AggravatedSexualAssault         GlenEdenEast.    AucklandRegion   \n",
       "8       AggravatedSexualAssault          GraftonEast.    AucklandRegion   \n",
       "9       AggravatedSexualAssault        PukekoheNorth.    AucklandRegion   \n",
       "10      AggravatedSexualAssault                 Wiri.    AucklandRegion   \n",
       "11      AggravatedSexualAssault           MellonsBay.    AucklandRegion   \n",
       "12      AggravatedSexualAssault         StarlingPark.    AucklandRegion   \n",
       "13      AggravatedSexualAssault  AucklandHarbourside.    AucklandRegion   \n",
       "14      AggravatedSexualAssault  AucklandCentralWest.    AucklandRegion   \n",
       "15      AggravatedSexualAssault  AucklandCentralEast.    AucklandRegion   \n",
       "16  Non-AggravatedSexualAssault      TakapunaCentral.    AucklandRegion   \n",
       "17      AggravatedSexualAssault      CathedralSquare.  CanterburyRegion   \n",
       "18      AggravatedSexualAssault      CathedralSquare.  CanterburyRegion   \n",
       "19  Non-AggravatedSexualAssault          NewtownEast.  WellingtonRegion   \n",
       "\n",
       "    NumberofVictimisations  NumberofRecords OccurrenceDayOfWeek  \\\n",
       "0                        1                1             UNKNOWN   \n",
       "1                        1                1                 Sun   \n",
       "2                        1                1                 Tue   \n",
       "3                        1                1                 Sun   \n",
       "4                        1                1             UNKNOWN   \n",
       "5                        1                1             UNKNOWN   \n",
       "6                        1                1             UNKNOWN   \n",
       "7                        1                1                 Mon   \n",
       "8                        1                1                 Mon   \n",
       "9                        1                1                 Wed   \n",
       "10                       1                1                 Sat   \n",
       "11                       1                1             UNKNOWN   \n",
       "12                       1                1                 Mon   \n",
       "13                       1                1                 Mon   \n",
       "14                       1                1                 Sat   \n",
       "15                       1                1             UNKNOWN   \n",
       "16                       1                1                 Fri   \n",
       "17                       1                1                 Tue   \n",
       "18                       1                1                 Tue   \n",
       "19                       3                1             UNKNOWN   \n",
       "\n",
       "           Weapon YearMonth  \n",
       "0   NotApplicable   1/07/14  \n",
       "1   NotApplicable   1/07/14  \n",
       "2       NotStated   1/07/14  \n",
       "3       NotStated   1/07/14  \n",
       "4       NotStated   1/07/14  \n",
       "5       NotStated   1/07/14  \n",
       "6       NotStated   1/07/14  \n",
       "7       NotStated   1/07/14  \n",
       "8       NotStated   1/07/14  \n",
       "9   NotApplicable   1/09/14  \n",
       "10  NotApplicable   1/09/14  \n",
       "11  NotApplicable   1/09/14  \n",
       "12  NotApplicable   1/09/14  \n",
       "13  NotApplicable   1/09/14  \n",
       "14      NotStated   1/09/14  \n",
       "15      NotStated   1/09/14  \n",
       "16  NotApplicable   1/09/14  \n",
       "17  NotApplicable   1/09/14  \n",
       "18      NotStated   1/09/14  \n",
       "19  NotApplicable   1/09/14  "
      ]
     },
     "execution_count": 4,
     "metadata": {},
     "output_type": "execute_result"
    }
   ],
   "source": [
    "# Show the dataset\n",
    "pd.DataFrame(dataFrame.take(20), columns=dataFrame.columns)"
   ]
  },
  {
   "cell_type": "markdown",
   "metadata": {},
   "source": [
    "## 2.3 Data Exploration"
   ]
  },
  {
   "cell_type": "code",
   "execution_count": 5,
   "metadata": {
    "scrolled": false
   },
   "outputs": [
    {
     "name": "stdout",
     "output_type": "stream",
     "text": [
      "+-------+--------------------+-------------+---------------+----------------------+---------------+-------------------+-----------+---------+\n",
      "|summary|         ANZSOCGroup|MapDetailName|         Region|NumberofVictimisations|NumberofRecords|OccurrenceDayOfWeek|     Weapon|YearMonth|\n",
      "+-------+--------------------+-------------+---------------+----------------------+---------------+-------------------+-----------+---------+\n",
      "|  count|                8354|         7734|           7734|                  8354|           8354|               8354|       8354|     8354|\n",
      "|   mean|                null|         null|           null|    0.9547522145080201|            1.0|               null|       null|     null|\n",
      "| stddev|                null|         null|           null|      0.52938282883613|            0.0|               null|       null|     null|\n",
      "|    min|AggravatedSexualA...|  AbbeyCaves.| AucklandRegion|                     0|              1|                Fri|   Bludgeon|  1/01/15|\n",
      "|    max|Non-AggravatedSex...|  YattonPark.|WestCoastRegion|                    36|              1|                Wed|OtherWeapon|  1/12/17|\n",
      "+-------+--------------------+-------------+---------------+----------------------+---------------+-------------------+-----------+---------+\n",
      "\n"
     ]
    }
   ],
   "source": [
    "# Computer summary of the data\n",
    "dataFrame.describe().show()"
   ]
  },
  {
   "cell_type": "code",
   "execution_count": 6,
   "metadata": {},
   "outputs": [
    {
     "data": {
      "text/html": [
       "<div>\n",
       "<style scoped>\n",
       "    .dataframe tbody tr th:only-of-type {\n",
       "        vertical-align: middle;\n",
       "    }\n",
       "\n",
       "    .dataframe tbody tr th {\n",
       "        vertical-align: top;\n",
       "    }\n",
       "\n",
       "    .dataframe thead th {\n",
       "        text-align: right;\n",
       "    }\n",
       "</style>\n",
       "<table border=\"1\" class=\"dataframe\">\n",
       "  <thead>\n",
       "    <tr style=\"text-align: right;\">\n",
       "      <th></th>\n",
       "      <th>ANZSOCGroup</th>\n",
       "      <th>count</th>\n",
       "    </tr>\n",
       "  </thead>\n",
       "  <tbody>\n",
       "    <tr>\n",
       "      <th>0</th>\n",
       "      <td>AggravatedSexualAssault</td>\n",
       "      <td>6199</td>\n",
       "    </tr>\n",
       "    <tr>\n",
       "      <th>1</th>\n",
       "      <td>Non-AggravatedSexualAssault</td>\n",
       "      <td>2155</td>\n",
       "    </tr>\n",
       "  </tbody>\n",
       "</table>\n",
       "</div>"
      ],
      "text/plain": [
       "                   ANZSOCGroup  count\n",
       "0      AggravatedSexualAssault   6199\n",
       "1  Non-AggravatedSexualAssault   2155"
      ]
     },
     "execution_count": 6,
     "metadata": {},
     "output_type": "execute_result"
    }
   ],
   "source": [
    "dataFrame.groupBy('ANZSOCGroup').count().orderBy(col('count').desc()).toPandas()"
   ]
  },
  {
   "cell_type": "code",
   "execution_count": 7,
   "metadata": {},
   "outputs": [
    {
     "data": {
      "text/html": [
       "<div>\n",
       "<style scoped>\n",
       "    .dataframe tbody tr th:only-of-type {\n",
       "        vertical-align: middle;\n",
       "    }\n",
       "\n",
       "    .dataframe tbody tr th {\n",
       "        vertical-align: top;\n",
       "    }\n",
       "\n",
       "    .dataframe thead th {\n",
       "        text-align: right;\n",
       "    }\n",
       "</style>\n",
       "<table border=\"1\" class=\"dataframe\">\n",
       "  <thead>\n",
       "    <tr style=\"text-align: right;\">\n",
       "      <th></th>\n",
       "      <th>Region</th>\n",
       "      <th>count</th>\n",
       "    </tr>\n",
       "  </thead>\n",
       "  <tbody>\n",
       "    <tr>\n",
       "      <th>0</th>\n",
       "      <td>AucklandRegion</td>\n",
       "      <td>2354</td>\n",
       "    </tr>\n",
       "    <tr>\n",
       "      <th>1</th>\n",
       "      <td>CanterburyRegion</td>\n",
       "      <td>1025</td>\n",
       "    </tr>\n",
       "    <tr>\n",
       "      <th>2</th>\n",
       "      <td>WellingtonRegion</td>\n",
       "      <td>829</td>\n",
       "    </tr>\n",
       "    <tr>\n",
       "      <th>3</th>\n",
       "      <td>WaikatoRegion</td>\n",
       "      <td>751</td>\n",
       "    </tr>\n",
       "    <tr>\n",
       "      <th>4</th>\n",
       "      <td>None</td>\n",
       "      <td>620</td>\n",
       "    </tr>\n",
       "    <tr>\n",
       "      <th>5</th>\n",
       "      <td>BayofPlentyRegion</td>\n",
       "      <td>491</td>\n",
       "    </tr>\n",
       "    <tr>\n",
       "      <th>6</th>\n",
       "      <td>Manawatu-WanganuiRegion</td>\n",
       "      <td>468</td>\n",
       "    </tr>\n",
       "    <tr>\n",
       "      <th>7</th>\n",
       "      <td>OtagoRegion</td>\n",
       "      <td>402</td>\n",
       "    </tr>\n",
       "    <tr>\n",
       "      <th>8</th>\n",
       "      <td>Hawke'sBayRegion</td>\n",
       "      <td>397</td>\n",
       "    </tr>\n",
       "    <tr>\n",
       "      <th>9</th>\n",
       "      <td>NorthlandRegion</td>\n",
       "      <td>290</td>\n",
       "    </tr>\n",
       "    <tr>\n",
       "      <th>10</th>\n",
       "      <td>TaranakiRegion</td>\n",
       "      <td>197</td>\n",
       "    </tr>\n",
       "    <tr>\n",
       "      <th>11</th>\n",
       "      <td>SouthlandRegion</td>\n",
       "      <td>125</td>\n",
       "    </tr>\n",
       "    <tr>\n",
       "      <th>12</th>\n",
       "      <td>NelsonRegion</td>\n",
       "      <td>124</td>\n",
       "    </tr>\n",
       "    <tr>\n",
       "      <th>13</th>\n",
       "      <td>GisborneRegion</td>\n",
       "      <td>99</td>\n",
       "    </tr>\n",
       "    <tr>\n",
       "      <th>14</th>\n",
       "      <td>TasmanRegion</td>\n",
       "      <td>67</td>\n",
       "    </tr>\n",
       "    <tr>\n",
       "      <th>15</th>\n",
       "      <td>MarlboroughRegion</td>\n",
       "      <td>64</td>\n",
       "    </tr>\n",
       "    <tr>\n",
       "      <th>16</th>\n",
       "      <td>WestCoastRegion</td>\n",
       "      <td>51</td>\n",
       "    </tr>\n",
       "  </tbody>\n",
       "</table>\n",
       "</div>"
      ],
      "text/plain": [
       "                     Region  count\n",
       "0            AucklandRegion   2354\n",
       "1          CanterburyRegion   1025\n",
       "2          WellingtonRegion    829\n",
       "3             WaikatoRegion    751\n",
       "4                      None    620\n",
       "5         BayofPlentyRegion    491\n",
       "6   Manawatu-WanganuiRegion    468\n",
       "7               OtagoRegion    402\n",
       "8          Hawke'sBayRegion    397\n",
       "9           NorthlandRegion    290\n",
       "10           TaranakiRegion    197\n",
       "11          SouthlandRegion    125\n",
       "12             NelsonRegion    124\n",
       "13           GisborneRegion     99\n",
       "14             TasmanRegion     67\n",
       "15        MarlboroughRegion     64\n",
       "16          WestCoastRegion     51"
      ]
     },
     "execution_count": 7,
     "metadata": {},
     "output_type": "execute_result"
    }
   ],
   "source": [
    "dataFrame.groupBy('Region').count().orderBy(col('count').desc()).toPandas()"
   ]
  },
  {
   "cell_type": "markdown",
   "metadata": {},
   "source": [
    "## 3 Data  Preparation\n",
    "### 3.2 To clean the data, issues must be made explicit, then explicitly resolved."
   ]
  },
  {
   "cell_type": "code",
   "execution_count": 8,
   "metadata": {
    "scrolled": true
   },
   "outputs": [],
   "source": [
    "# Drop null values with their rows\n",
    "droppedTable = dataFrame.na.drop()"
   ]
  },
  {
   "cell_type": "code",
   "execution_count": 9,
   "metadata": {},
   "outputs": [
    {
     "name": "stdout",
     "output_type": "stream",
     "text": [
      "+--------------------+--------------------+----------------+-------------------+\n",
      "|         ANZSOCGroup|       MapDetailName|          Region|OccurrenceDayOfWeek|\n",
      "+--------------------+--------------------+----------------+-------------------+\n",
      "|Non-AggravatedSex...|   TeAwamutuCentral.|   WaikatoRegion|                Sun|\n",
      "|AggravatedSexualA...|      TotaraHeights.|  AucklandRegion|                Tue|\n",
      "|AggravatedSexualA...|       FlaxmereEast.|Hawke'sBayRegion|                Sun|\n",
      "|AggravatedSexualA...|       GlenEdenEast.|  AucklandRegion|                Mon|\n",
      "|AggravatedSexualA...|        GraftonEast.|  AucklandRegion|                Mon|\n",
      "|AggravatedSexualA...|      PukekoheNorth.|  AucklandRegion|                Wed|\n",
      "|AggravatedSexualA...|               Wiri.|  AucklandRegion|                Sat|\n",
      "|AggravatedSexualA...|       StarlingPark.|  AucklandRegion|                Mon|\n",
      "|AggravatedSexualA...|AucklandHarbourside.|  AucklandRegion|                Mon|\n",
      "|AggravatedSexualA...|AucklandCentralWest.|  AucklandRegion|                Sat|\n",
      "|Non-AggravatedSex...|    TakapunaCentral.|  AucklandRegion|                Fri|\n",
      "|AggravatedSexualA...|    CathedralSquare.|CanterburyRegion|                Tue|\n",
      "|AggravatedSexualA...|    CathedralSquare.|CanterburyRegion|                Tue|\n",
      "|Non-AggravatedSex...|        LinwoodEast.|CanterburyRegion|                Wed|\n",
      "|Non-AggravatedSex...|             Nawton.|   WaikatoRegion|                Sun|\n",
      "|AggravatedSexualA...|OtorohangaRuralEast.|   WaikatoRegion|                Mon|\n",
      "|Non-AggravatedSex...|OtorohangaRuralEast.|   WaikatoRegion|                Mon|\n",
      "|AggravatedSexualA...|        MtEdenNorth.|  AucklandRegion|                Mon|\n",
      "|AggravatedSexualA...|       FlaxmereEast.|Hawke'sBayRegion|                Fri|\n",
      "|AggravatedSexualA...|         StLeonards.|Hawke'sBayRegion|                Mon|\n",
      "+--------------------+--------------------+----------------+-------------------+\n",
      "only showing top 20 rows\n",
      "\n"
     ]
    }
   ],
   "source": [
    "# Remove the columns that do not need \n",
    "dropList = ['NumberofVictimisations','NumberofRecords','Weapon','YearMonth']\n",
    "\n",
    "newData = droppedTable.select([column for column in droppedTable.columns if column not in dropList])\n",
    "\n",
    "# Drop rows with UNKOWN occurrenceDayofWeek\n",
    "newData = newData.filter(~col('OccurrenceDayOfWeek').isin(['UNKNOWN']))\n",
    "\n",
    "newData.show()"
   ]
  },
  {
   "cell_type": "code",
   "execution_count": 10,
   "metadata": {},
   "outputs": [],
   "source": [
    "# Change column name\n",
    "cleanData = newData.selectExpr('ANZSOCGroup as AssaultType', 'Region as Region', \n",
    "                               'MapDetailName as District', 'OccurrenceDayOfWeek as DayofWeek')"
   ]
  },
  {
   "cell_type": "code",
   "execution_count": 11,
   "metadata": {},
   "outputs": [
    {
     "name": "stdout",
     "output_type": "stream",
     "text": [
      "Total data columns before cleaning: 8354\n",
      "Total data columns after cleaning: 6057\n"
     ]
    },
    {
     "data": {
      "text/html": [
       "<div>\n",
       "<style scoped>\n",
       "    .dataframe tbody tr th:only-of-type {\n",
       "        vertical-align: middle;\n",
       "    }\n",
       "\n",
       "    .dataframe tbody tr th {\n",
       "        vertical-align: top;\n",
       "    }\n",
       "\n",
       "    .dataframe thead th {\n",
       "        text-align: right;\n",
       "    }\n",
       "</style>\n",
       "<table border=\"1\" class=\"dataframe\">\n",
       "  <thead>\n",
       "    <tr style=\"text-align: right;\">\n",
       "      <th></th>\n",
       "      <th>AssaultType</th>\n",
       "      <th>Region</th>\n",
       "      <th>District</th>\n",
       "      <th>DayofWeek</th>\n",
       "    </tr>\n",
       "  </thead>\n",
       "  <tbody>\n",
       "    <tr>\n",
       "      <th>0</th>\n",
       "      <td>Non-AggravatedSexualAssault</td>\n",
       "      <td>TeAwamutuCentral.</td>\n",
       "      <td>WaikatoRegion</td>\n",
       "      <td>Sun</td>\n",
       "    </tr>\n",
       "    <tr>\n",
       "      <th>1</th>\n",
       "      <td>AggravatedSexualAssault</td>\n",
       "      <td>TotaraHeights.</td>\n",
       "      <td>AucklandRegion</td>\n",
       "      <td>Tue</td>\n",
       "    </tr>\n",
       "    <tr>\n",
       "      <th>2</th>\n",
       "      <td>AggravatedSexualAssault</td>\n",
       "      <td>FlaxmereEast.</td>\n",
       "      <td>Hawke'sBayRegion</td>\n",
       "      <td>Sun</td>\n",
       "    </tr>\n",
       "    <tr>\n",
       "      <th>3</th>\n",
       "      <td>AggravatedSexualAssault</td>\n",
       "      <td>GlenEdenEast.</td>\n",
       "      <td>AucklandRegion</td>\n",
       "      <td>Mon</td>\n",
       "    </tr>\n",
       "    <tr>\n",
       "      <th>4</th>\n",
       "      <td>AggravatedSexualAssault</td>\n",
       "      <td>GraftonEast.</td>\n",
       "      <td>AucklandRegion</td>\n",
       "      <td>Mon</td>\n",
       "    </tr>\n",
       "    <tr>\n",
       "      <th>5</th>\n",
       "      <td>AggravatedSexualAssault</td>\n",
       "      <td>PukekoheNorth.</td>\n",
       "      <td>AucklandRegion</td>\n",
       "      <td>Wed</td>\n",
       "    </tr>\n",
       "    <tr>\n",
       "      <th>6</th>\n",
       "      <td>AggravatedSexualAssault</td>\n",
       "      <td>Wiri.</td>\n",
       "      <td>AucklandRegion</td>\n",
       "      <td>Sat</td>\n",
       "    </tr>\n",
       "    <tr>\n",
       "      <th>7</th>\n",
       "      <td>AggravatedSexualAssault</td>\n",
       "      <td>StarlingPark.</td>\n",
       "      <td>AucklandRegion</td>\n",
       "      <td>Mon</td>\n",
       "    </tr>\n",
       "    <tr>\n",
       "      <th>8</th>\n",
       "      <td>AggravatedSexualAssault</td>\n",
       "      <td>AucklandHarbourside.</td>\n",
       "      <td>AucklandRegion</td>\n",
       "      <td>Mon</td>\n",
       "    </tr>\n",
       "    <tr>\n",
       "      <th>9</th>\n",
       "      <td>AggravatedSexualAssault</td>\n",
       "      <td>AucklandCentralWest.</td>\n",
       "      <td>AucklandRegion</td>\n",
       "      <td>Sat</td>\n",
       "    </tr>\n",
       "    <tr>\n",
       "      <th>10</th>\n",
       "      <td>Non-AggravatedSexualAssault</td>\n",
       "      <td>TakapunaCentral.</td>\n",
       "      <td>AucklandRegion</td>\n",
       "      <td>Fri</td>\n",
       "    </tr>\n",
       "    <tr>\n",
       "      <th>11</th>\n",
       "      <td>AggravatedSexualAssault</td>\n",
       "      <td>CathedralSquare.</td>\n",
       "      <td>CanterburyRegion</td>\n",
       "      <td>Tue</td>\n",
       "    </tr>\n",
       "    <tr>\n",
       "      <th>12</th>\n",
       "      <td>AggravatedSexualAssault</td>\n",
       "      <td>CathedralSquare.</td>\n",
       "      <td>CanterburyRegion</td>\n",
       "      <td>Tue</td>\n",
       "    </tr>\n",
       "    <tr>\n",
       "      <th>13</th>\n",
       "      <td>Non-AggravatedSexualAssault</td>\n",
       "      <td>LinwoodEast.</td>\n",
       "      <td>CanterburyRegion</td>\n",
       "      <td>Wed</td>\n",
       "    </tr>\n",
       "    <tr>\n",
       "      <th>14</th>\n",
       "      <td>Non-AggravatedSexualAssault</td>\n",
       "      <td>Nawton.</td>\n",
       "      <td>WaikatoRegion</td>\n",
       "      <td>Sun</td>\n",
       "    </tr>\n",
       "    <tr>\n",
       "      <th>15</th>\n",
       "      <td>AggravatedSexualAssault</td>\n",
       "      <td>OtorohangaRuralEast.</td>\n",
       "      <td>WaikatoRegion</td>\n",
       "      <td>Mon</td>\n",
       "    </tr>\n",
       "    <tr>\n",
       "      <th>16</th>\n",
       "      <td>Non-AggravatedSexualAssault</td>\n",
       "      <td>OtorohangaRuralEast.</td>\n",
       "      <td>WaikatoRegion</td>\n",
       "      <td>Mon</td>\n",
       "    </tr>\n",
       "    <tr>\n",
       "      <th>17</th>\n",
       "      <td>AggravatedSexualAssault</td>\n",
       "      <td>MtEdenNorth.</td>\n",
       "      <td>AucklandRegion</td>\n",
       "      <td>Mon</td>\n",
       "    </tr>\n",
       "    <tr>\n",
       "      <th>18</th>\n",
       "      <td>AggravatedSexualAssault</td>\n",
       "      <td>FlaxmereEast.</td>\n",
       "      <td>Hawke'sBayRegion</td>\n",
       "      <td>Fri</td>\n",
       "    </tr>\n",
       "    <tr>\n",
       "      <th>19</th>\n",
       "      <td>AggravatedSexualAssault</td>\n",
       "      <td>StLeonards.</td>\n",
       "      <td>Hawke'sBayRegion</td>\n",
       "      <td>Mon</td>\n",
       "    </tr>\n",
       "  </tbody>\n",
       "</table>\n",
       "</div>"
      ],
      "text/plain": [
       "                    AssaultType                Region          District  \\\n",
       "0   Non-AggravatedSexualAssault     TeAwamutuCentral.     WaikatoRegion   \n",
       "1       AggravatedSexualAssault        TotaraHeights.    AucklandRegion   \n",
       "2       AggravatedSexualAssault         FlaxmereEast.  Hawke'sBayRegion   \n",
       "3       AggravatedSexualAssault         GlenEdenEast.    AucklandRegion   \n",
       "4       AggravatedSexualAssault          GraftonEast.    AucklandRegion   \n",
       "5       AggravatedSexualAssault        PukekoheNorth.    AucklandRegion   \n",
       "6       AggravatedSexualAssault                 Wiri.    AucklandRegion   \n",
       "7       AggravatedSexualAssault         StarlingPark.    AucklandRegion   \n",
       "8       AggravatedSexualAssault  AucklandHarbourside.    AucklandRegion   \n",
       "9       AggravatedSexualAssault  AucklandCentralWest.    AucklandRegion   \n",
       "10  Non-AggravatedSexualAssault      TakapunaCentral.    AucklandRegion   \n",
       "11      AggravatedSexualAssault      CathedralSquare.  CanterburyRegion   \n",
       "12      AggravatedSexualAssault      CathedralSquare.  CanterburyRegion   \n",
       "13  Non-AggravatedSexualAssault          LinwoodEast.  CanterburyRegion   \n",
       "14  Non-AggravatedSexualAssault               Nawton.     WaikatoRegion   \n",
       "15      AggravatedSexualAssault  OtorohangaRuralEast.     WaikatoRegion   \n",
       "16  Non-AggravatedSexualAssault  OtorohangaRuralEast.     WaikatoRegion   \n",
       "17      AggravatedSexualAssault          MtEdenNorth.    AucklandRegion   \n",
       "18      AggravatedSexualAssault         FlaxmereEast.  Hawke'sBayRegion   \n",
       "19      AggravatedSexualAssault           StLeonards.  Hawke'sBayRegion   \n",
       "\n",
       "   DayofWeek  \n",
       "0        Sun  \n",
       "1        Tue  \n",
       "2        Sun  \n",
       "3        Mon  \n",
       "4        Mon  \n",
       "5        Wed  \n",
       "6        Sat  \n",
       "7        Mon  \n",
       "8        Mon  \n",
       "9        Sat  \n",
       "10       Fri  \n",
       "11       Tue  \n",
       "12       Tue  \n",
       "13       Wed  \n",
       "14       Sun  \n",
       "15       Mon  \n",
       "16       Mon  \n",
       "17       Mon  \n",
       "18       Fri  \n",
       "19       Mon  "
      ]
     },
     "execution_count": 11,
     "metadata": {},
     "output_type": "execute_result"
    }
   ],
   "source": [
    "# Show columns before & after cleaning\n",
    "# Show orginal columns before cleaning\n",
    "print(\"Total data columns before cleaning:\", dataFrame.count())\n",
    "print(\"Total data columns after cleaning:\", cleanData.count())\n",
    "\n",
    "pd.DataFrame(newData.take(20), columns=cleanData.columns)"
   ]
  },
  {
   "cell_type": "code",
   "execution_count": 12,
   "metadata": {
    "scrolled": false
   },
   "outputs": [
    {
     "data": {
      "text/html": [
       "<div>\n",
       "<style scoped>\n",
       "    .dataframe tbody tr th:only-of-type {\n",
       "        vertical-align: middle;\n",
       "    }\n",
       "\n",
       "    .dataframe tbody tr th {\n",
       "        vertical-align: top;\n",
       "    }\n",
       "\n",
       "    .dataframe thead th {\n",
       "        text-align: right;\n",
       "    }\n",
       "</style>\n",
       "<table border=\"1\" class=\"dataframe\">\n",
       "  <thead>\n",
       "    <tr style=\"text-align: right;\">\n",
       "      <th></th>\n",
       "      <th>AssaultType</th>\n",
       "      <th>count</th>\n",
       "    </tr>\n",
       "  </thead>\n",
       "  <tbody>\n",
       "    <tr>\n",
       "      <th>0</th>\n",
       "      <td>AggravatedSexualAssault</td>\n",
       "      <td>4229</td>\n",
       "    </tr>\n",
       "    <tr>\n",
       "      <th>1</th>\n",
       "      <td>Non-AggravatedSexualAssault</td>\n",
       "      <td>1828</td>\n",
       "    </tr>\n",
       "  </tbody>\n",
       "</table>\n",
       "</div>"
      ],
      "text/plain": [
       "                   AssaultType  count\n",
       "0      AggravatedSexualAssault   4229\n",
       "1  Non-AggravatedSexualAssault   1828"
      ]
     },
     "execution_count": 12,
     "metadata": {},
     "output_type": "execute_result"
    }
   ],
   "source": [
    "# Group by Assault type \n",
    "cleanData.groupBy('AssaultType').count().orderBy(col('count').desc()).toPandas()"
   ]
  },
  {
   "cell_type": "code",
   "execution_count": 13,
   "metadata": {
    "scrolled": true
   },
   "outputs": [
    {
     "data": {
      "text/html": [
       "<div>\n",
       "<style scoped>\n",
       "    .dataframe tbody tr th:only-of-type {\n",
       "        vertical-align: middle;\n",
       "    }\n",
       "\n",
       "    .dataframe tbody tr th {\n",
       "        vertical-align: top;\n",
       "    }\n",
       "\n",
       "    .dataframe thead th {\n",
       "        text-align: right;\n",
       "    }\n",
       "</style>\n",
       "<table border=\"1\" class=\"dataframe\">\n",
       "  <thead>\n",
       "    <tr style=\"text-align: right;\">\n",
       "      <th></th>\n",
       "      <th>Region</th>\n",
       "      <th>count</th>\n",
       "    </tr>\n",
       "  </thead>\n",
       "  <tbody>\n",
       "    <tr>\n",
       "      <th>0</th>\n",
       "      <td>AucklandRegion</td>\n",
       "      <td>1944</td>\n",
       "    </tr>\n",
       "    <tr>\n",
       "      <th>1</th>\n",
       "      <td>CanterburyRegion</td>\n",
       "      <td>750</td>\n",
       "    </tr>\n",
       "    <tr>\n",
       "      <th>2</th>\n",
       "      <td>WellingtonRegion</td>\n",
       "      <td>665</td>\n",
       "    </tr>\n",
       "    <tr>\n",
       "      <th>3</th>\n",
       "      <td>WaikatoRegion</td>\n",
       "      <td>571</td>\n",
       "    </tr>\n",
       "    <tr>\n",
       "      <th>4</th>\n",
       "      <td>BayofPlentyRegion</td>\n",
       "      <td>391</td>\n",
       "    </tr>\n",
       "    <tr>\n",
       "      <th>5</th>\n",
       "      <td>Manawatu-WanganuiRegion</td>\n",
       "      <td>352</td>\n",
       "    </tr>\n",
       "    <tr>\n",
       "      <th>6</th>\n",
       "      <td>OtagoRegion</td>\n",
       "      <td>308</td>\n",
       "    </tr>\n",
       "    <tr>\n",
       "      <th>7</th>\n",
       "      <td>Hawke'sBayRegion</td>\n",
       "      <td>302</td>\n",
       "    </tr>\n",
       "    <tr>\n",
       "      <th>8</th>\n",
       "      <td>NorthlandRegion</td>\n",
       "      <td>234</td>\n",
       "    </tr>\n",
       "    <tr>\n",
       "      <th>9</th>\n",
       "      <td>TaranakiRegion</td>\n",
       "      <td>160</td>\n",
       "    </tr>\n",
       "    <tr>\n",
       "      <th>10</th>\n",
       "      <td>NelsonRegion</td>\n",
       "      <td>94</td>\n",
       "    </tr>\n",
       "    <tr>\n",
       "      <th>11</th>\n",
       "      <td>SouthlandRegion</td>\n",
       "      <td>88</td>\n",
       "    </tr>\n",
       "    <tr>\n",
       "      <th>12</th>\n",
       "      <td>GisborneRegion</td>\n",
       "      <td>78</td>\n",
       "    </tr>\n",
       "    <tr>\n",
       "      <th>13</th>\n",
       "      <td>TasmanRegion</td>\n",
       "      <td>47</td>\n",
       "    </tr>\n",
       "    <tr>\n",
       "      <th>14</th>\n",
       "      <td>MarlboroughRegion</td>\n",
       "      <td>41</td>\n",
       "    </tr>\n",
       "    <tr>\n",
       "      <th>15</th>\n",
       "      <td>WestCoastRegion</td>\n",
       "      <td>32</td>\n",
       "    </tr>\n",
       "  </tbody>\n",
       "</table>\n",
       "</div>"
      ],
      "text/plain": [
       "                     Region  count\n",
       "0            AucklandRegion   1944\n",
       "1          CanterburyRegion    750\n",
       "2          WellingtonRegion    665\n",
       "3             WaikatoRegion    571\n",
       "4         BayofPlentyRegion    391\n",
       "5   Manawatu-WanganuiRegion    352\n",
       "6               OtagoRegion    308\n",
       "7          Hawke'sBayRegion    302\n",
       "8           NorthlandRegion    234\n",
       "9            TaranakiRegion    160\n",
       "10             NelsonRegion     94\n",
       "11          SouthlandRegion     88\n",
       "12           GisborneRegion     78\n",
       "13             TasmanRegion     47\n",
       "14        MarlboroughRegion     41\n",
       "15          WestCoastRegion     32"
      ]
     },
     "execution_count": 13,
     "metadata": {},
     "output_type": "execute_result"
    }
   ],
   "source": [
    "# Group by Region \n",
    "cleanData.groupBy('Region').count().orderBy(col('count').desc()).toPandas()"
   ]
  },
  {
   "cell_type": "code",
   "execution_count": 14,
   "metadata": {},
   "outputs": [
    {
     "data": {
      "text/html": [
       "<div>\n",
       "<style scoped>\n",
       "    .dataframe tbody tr th:only-of-type {\n",
       "        vertical-align: middle;\n",
       "    }\n",
       "\n",
       "    .dataframe tbody tr th {\n",
       "        vertical-align: top;\n",
       "    }\n",
       "\n",
       "    .dataframe thead th {\n",
       "        text-align: right;\n",
       "    }\n",
       "</style>\n",
       "<table border=\"1\" class=\"dataframe\">\n",
       "  <thead>\n",
       "    <tr style=\"text-align: right;\">\n",
       "      <th></th>\n",
       "      <th>DayofWeek</th>\n",
       "      <th>count</th>\n",
       "    </tr>\n",
       "  </thead>\n",
       "  <tbody>\n",
       "    <tr>\n",
       "      <th>0</th>\n",
       "      <td>Sun</td>\n",
       "      <td>948</td>\n",
       "    </tr>\n",
       "    <tr>\n",
       "      <th>1</th>\n",
       "      <td>Sat</td>\n",
       "      <td>941</td>\n",
       "    </tr>\n",
       "    <tr>\n",
       "      <th>2</th>\n",
       "      <td>Fri</td>\n",
       "      <td>924</td>\n",
       "    </tr>\n",
       "    <tr>\n",
       "      <th>3</th>\n",
       "      <td>Thu</td>\n",
       "      <td>843</td>\n",
       "    </tr>\n",
       "    <tr>\n",
       "      <th>4</th>\n",
       "      <td>Tue</td>\n",
       "      <td>814</td>\n",
       "    </tr>\n",
       "    <tr>\n",
       "      <th>5</th>\n",
       "      <td>Wed</td>\n",
       "      <td>809</td>\n",
       "    </tr>\n",
       "    <tr>\n",
       "      <th>6</th>\n",
       "      <td>Mon</td>\n",
       "      <td>778</td>\n",
       "    </tr>\n",
       "  </tbody>\n",
       "</table>\n",
       "</div>"
      ],
      "text/plain": [
       "  DayofWeek  count\n",
       "0       Sun    948\n",
       "1       Sat    941\n",
       "2       Fri    924\n",
       "3       Thu    843\n",
       "4       Tue    814\n",
       "5       Wed    809\n",
       "6       Mon    778"
      ]
     },
     "execution_count": 14,
     "metadata": {},
     "output_type": "execute_result"
    }
   ],
   "source": [
    "# Frequency of assualt happens on each day\n",
    "cleanData.groupBy('DayofWeek').count().orderBy(col('count').desc()).toPandas()"
   ]
  },
  {
   "cell_type": "markdown",
   "metadata": {},
   "source": [
    "### Model Pipeline"
   ]
  },
  {
   "cell_type": "code",
   "execution_count": 15,
   "metadata": {},
   "outputs": [
    {
     "name": "stdout",
     "output_type": "stream",
     "text": [
      "root\n",
      " |-- AssaultType: string (nullable = true)\n",
      " |-- Region: string (nullable = true)\n",
      " |-- District: string (nullable = true)\n",
      " |-- DayofWeek: string (nullable = true)\n",
      "\n"
     ]
    }
   ],
   "source": [
    "cleanData.printSchema()"
   ]
  },
  {
   "cell_type": "code",
   "execution_count": 16,
   "metadata": {},
   "outputs": [],
   "source": [
    "from pyspark.ml import Pipeline\n",
    "from pyspark.ml.feature import OneHotEncoder, StringIndexer, VectorAssembler\n",
    "\n",
    "# Label\n",
    "label_stringIdx = StringIndexer(inputCol = 'AssaultType', outputCol = \"label\")\n",
    "\n",
    "# Features\n",
    "region_indexer = StringIndexer(inputCol='Region',outputCol='regionIndex')\n",
    "district_indexer = StringIndexer(inputCol='District',outputCol='districtIndex')\n",
    "date_indexer = StringIndexer(inputCol='DayofWeek',outputCol='dateIndex')\n",
    "\n",
    "# OnehotEncode features\n",
    "region_encoder = OneHotEncoder(inputCol='regionIndex',outputCol='regionVec')\n",
    "district_encoder = OneHotEncoder(inputCol='districtIndex',outputCol='districtVec')\n",
    "date_encoder = OneHotEncoder(inputCol='dateIndex',outputCol='dateVec')\n",
    "\n",
    "# Set it as feature column\n",
    "assembler = VectorAssembler(inputCols=['regionVec','dateVec','districtVec'], outputCol=\"features\")"
   ]
  },
  {
   "cell_type": "code",
   "execution_count": 17,
   "metadata": {},
   "outputs": [
    {
     "name": "stdout",
     "output_type": "stream",
     "text": [
      "+--------------------+----------------+-----------------+---------+-----+-----------+--------------+---------+-------------+-------------+------------------+--------------------+\n",
      "|         AssaultType|          Region|         District|DayofWeek|label|regionIndex|     regionVec|dateIndex|      dateVec|districtIndex|       districtVec|            features|\n",
      "+--------------------+----------------+-----------------+---------+-----+-----------+--------------+---------+-------------+-------------+------------------+--------------------+\n",
      "|Non-AggravatedSex...|   WaikatoRegion|TeAwamutuCentral.|      Sun|  1.0|        3.0|(15,[3],[1.0])|      0.0|(6,[0],[1.0])|        550.0|(1300,[550],[1.0])|(1321,[3,15,571],...|\n",
      "|AggravatedSexualA...|  AucklandRegion|   TotaraHeights.|      Tue|  0.0|        0.0|(15,[0],[1.0])|      4.0|(6,[4],[1.0])|        503.0|(1300,[503],[1.0])|(1321,[0,19,524],...|\n",
      "|AggravatedSexualA...|Hawke'sBayRegion|    FlaxmereEast.|      Sun|  0.0|        7.0|(15,[7],[1.0])|      0.0|(6,[0],[1.0])|         49.0| (1300,[49],[1.0])|(1321,[7,15,70],[...|\n",
      "|AggravatedSexualA...|  AucklandRegion|    GlenEdenEast.|      Mon|  0.0|        0.0|(15,[0],[1.0])|      6.0|    (6,[],[])|         97.0| (1300,[97],[1.0])|(1321,[0,118],[1....|\n",
      "|AggravatedSexualA...|  AucklandRegion|     GraftonEast.|      Mon|  0.0|        0.0|(15,[0],[1.0])|      6.0|    (6,[],[])|         32.0| (1300,[32],[1.0])|(1321,[0,53],[1.0...|\n",
      "+--------------------+----------------+-----------------+---------+-----+-----------+--------------+---------+-------------+-------------+------------------+--------------------+\n",
      "only showing top 5 rows\n",
      "\n"
     ]
    }
   ],
   "source": [
    "# Get those into pipeline\n",
    "pipeline = Pipeline(stages=[label_stringIdx, region_indexer, region_encoder, date_indexer, date_encoder,\n",
    "                            district_indexer, district_encoder, assembler])\n",
    "\n",
    "# Fit the pipeline to training documents.\n",
    "pipelineFit = pipeline.fit(cleanData)\n",
    "pipe_df = pipelineFit.transform(cleanData)\n",
    "pipe_df.show(5)"
   ]
  },
  {
   "cell_type": "markdown",
   "metadata": {},
   "source": [
    "### Partition Training & Test sets"
   ]
  },
  {
   "cell_type": "code",
   "execution_count": 18,
   "metadata": {},
   "outputs": [
    {
     "name": "stdout",
     "output_type": "stream",
     "text": [
      "Training Dataset Count: 4243\n",
      "Test Dataset Count: 1814\n"
     ]
    }
   ],
   "source": [
    "# Split data into train and test. \n",
    "trainingData, testData = pipe_df.randomSplit([0.7,0.3])\n",
    "print(\"Training Dataset Count: \" + str(trainingData.count()))\n",
    "print(\"Test Dataset Count: \" + str(testData.count()))"
   ]
  },
  {
   "cell_type": "markdown",
   "metadata": {},
   "source": [
    "## 7 Data Mining  \n",
    "### Model Training and Evaluation  \n",
    "\n",
    "At this part, I use 4 different algorithms to classify New Zealand sexual assault into two types.   \n",
    "When a new sexual offence happens with location and day of week details, the algorithm will help  \n",
    "us to assign it into one category."
   ]
  },
  {
   "cell_type": "markdown",
   "metadata": {},
   "source": [
    "### Logistic Regression Model"
   ]
  },
  {
   "cell_type": "code",
   "execution_count": 19,
   "metadata": {},
   "outputs": [],
   "source": [
    "from pyspark.ml.classification import LogisticRegression\n",
    "\n",
    "# Instantiate the model.\n",
    "lr_model = LogisticRegression(featuresCol='features',labelCol='label')\n",
    "\n",
    "# Fit the model.\n",
    "lr_model = lr_model.fit(trainingData)"
   ]
  },
  {
   "cell_type": "markdown",
   "metadata": {},
   "source": [
    "### Model Training"
   ]
  },
  {
   "cell_type": "code",
   "execution_count": 29,
   "metadata": {},
   "outputs": [
    {
     "data": {
      "image/png": "[encoded data removed]",
      "text/plain": [
       "<Figure size 432x288 with 1 Axes>"
      ]
     },
     "metadata": {},
     "output_type": "display_data"
    }
   ],
   "source": [
    "import matplotlib.pyplot as plt\n",
    "import numpy as np\n",
    "\n",
    "beta = np.sort(lr_model.coefficients)\n",
    "\n",
    "plt.plot(beta)\n",
    "plt.ylabel('Beta Coefficients')\n",
    "plt.show()"
   ]
  },
  {
   "cell_type": "code",
   "execution_count": 30,
   "metadata": {
    "scrolled": true
   },
   "outputs": [
    {
     "data": {
      "image/png": "[encoded data removed]",
      "text/plain": [
       "<Figure size 432x288 with 1 Axes>"
      ]
     },
     "metadata": {},
     "output_type": "display_data"
    }
   ],
   "source": [
    "# Extract the summary from the returned LogisticRegressionModel instance trained\n",
    "trainingSummary = lr_model.summary\n",
    "\n",
    "# Obtain the objective per iteration\n",
    "objectiveHistory = trainingSummary.objectiveHistory\n",
    "plt.plot(objectiveHistory)\n",
    "plt.ylabel('Objective Function')\n",
    "plt.xlabel('Iteration')\n",
    "plt.show()"
   ]
  },
  {
   "cell_type": "code",
   "execution_count": 31,
   "metadata": {},
   "outputs": [
    {
     "name": "stdout",
     "output_type": "stream",
     "text": [
      "areaUnderROC: 0.8445891882729598\n"
     ]
    },
    {
     "data": {
      "image/png": "[encoded data removed]",
      "text/plain": [
       "<Figure size 432x288 with 1 Axes>"
      ]
     },
     "metadata": {},
     "output_type": "display_data"
    }
   ],
   "source": [
    "# Obtain the receiver-operating characteristic as a dataframe and areaUnderROC.\n",
    "print(\"areaUnderROC: \" + str(trainingSummary.areaUnderROC))\n",
    "\n",
    "#trainingSummary.roc.show(n=10, truncate=15)\n",
    "roc = trainingSummary.roc.toPandas()\n",
    "plt.plot(roc['FPR'],roc['TPR'])\n",
    "plt.ylabel('False Positive Rate')\n",
    "plt.xlabel('True Positive Rate')\n",
    "plt.title('ROC Curve')\n",
    "plt.show()"
   ]
  },
  {
   "cell_type": "code",
   "execution_count": 32,
   "metadata": {},
   "outputs": [
    {
     "data": {
      "image/png": "[encoded data removed]",
      "text/plain": [
       "<Figure size 432x288 with 1 Axes>"
      ]
     },
     "metadata": {},
     "output_type": "display_data"
    }
   ],
   "source": [
    "pr = trainingSummary.pr.toPandas()\n",
    "plt.plot(pr['recall'],pr['precision'])\n",
    "plt.ylabel('Precision')\n",
    "plt.xlabel('Recall')\n",
    "plt.show()"
   ]
  },
  {
   "cell_type": "code",
   "execution_count": 33,
   "metadata": {},
   "outputs": [
    {
     "data": {
      "image/png": "[encoded data removed]",
      "text/plain": [
       "<Figure size 432x288 with 1 Axes>"
      ]
     },
     "metadata": {},
     "output_type": "display_data"
    }
   ],
   "source": [
    "# Set the model threshold to maximize F-Measure\n",
    "# trainingSummary.fMeasureByThreshold.show(n=10, truncate = 15)\n",
    "f = trainingSummary.fMeasureByThreshold.toPandas()\n",
    "plt.plot(f['threshold'],f['F-Measure'])\n",
    "plt.ylabel('F-Measure')\n",
    "plt.xlabel('Threshold')\n",
    "plt.show()"
   ]
  },
  {
   "cell_type": "code",
   "execution_count": 53,
   "metadata": {},
   "outputs": [
    {
     "name": "stdout",
     "output_type": "stream",
     "text": [
      "+-----+------------------------------+------------------------------+----------------------------+----------+\n",
      "|label|                      features|                 rawPrediction|                 probability|prediction|\n",
      "+-----+------------------------------+------------------------------+----------------------------+----------+\n",
      "|  0.0|(1321,[3,20,484],[1.0,1.0,1...|[36.763681411915066,-36.763...|[1.0,1.0807768368947519E-16]|       0.0|\n",
      "|  0.0|(1321,[3,18,484],[1.0,1.0,1...|[36.81243510673632,-36.8124...|[1.0,1.0293488122288144E-16]|       0.0|\n",
      "|  0.0|(1321,[3,20,751],[1.0,1.0,1...|[37.71259682611922,-37.7125...|[1.0,4.1843432192994747E-17]|       0.0|\n",
      "|  0.0|(1321,[3,18,687],[1.0,1.0,1...|[37.761350520940475,-37.761...|[1.0,3.9852341165255897E-17]|       0.0|\n",
      "|  1.0|      (1321,[3,687],[1.0,1.0])|[37.86551533860695,-37.8655...| [1.0,3.591001892629449E-17]|       0.0|\n",
      "|  1.0|(1321,[3,17,708],[1.0,1.0,1...|[37.870217367013716,-37.870...| [1.0,3.574156534434181E-17]|       0.0|\n",
      "|  0.0|(1321,[8,20,668],[1.0,1.0,1...|[56.40951548928446,-56.4095...| [1.0,3.174378406084968E-25]|       0.0|\n",
      "|  1.0|(1321,[8,16,171],[1.0,1.0,1...|[57.450139982695696,-57.450...|[1.0,1.1212984477526847E-25]|       0.0|\n",
      "|  1.0|(1321,[8,16,171],[1.0,1.0,1...|[57.450139982695696,-57.450...|[1.0,1.1212984477526847E-25]|       0.0|\n",
      "|  0.0|(1321,[8,17,476],[1.0,1.0,1...|[57.62564421552587,-57.6256...| [1.0,9.408073487708986E-26]|       0.0|\n",
      "|  0.0|(1321,[8,17,476],[1.0,1.0,1...|[57.62564421552587,-57.6256...| [1.0,9.408073487708986E-26]|       0.0|\n",
      "|  0.0|      (1321,[8,288],[1.0,1.0])|[57.666938299515266,-57.666...| [1.0,9.027487760166725E-26]|       0.0|\n",
      "|  0.0|(1321,[8,19,171],[1.0,1.0,1...|[57.67943861239594,-57.6794...| [1.0,8.915343716731691E-26]|       0.0|\n",
      "|  0.0|(1321,[8,16,168],[1.0,1.0,1...|[57.749416300641805,-57.749...| [1.0,8.312796854828466E-26]|       0.0|\n",
      "|  0.0|(1321,[1,20,361],[1.0,1.0,1...|[57.800810371340184,-57.800...| [1.0,7.896361205837215E-26]|       0.0|\n",
      "|  0.0|(1321,[1,15,361],[1.0,1.0,1...|[57.81959077891478,-57.8195...| [1.0,7.749448185275993E-26]|       0.0|\n",
      "|  1.0|(1321,[1,15,361],[1.0,1.0,1...|[57.81959077891478,-57.8195...| [1.0,7.749448185275993E-26]|       0.0|\n",
      "|  0.0|(1321,[8,18,427],[1.0,1.0,1...|[57.8305266243249,-57.83052...| [1.0,7.665163122106989E-26]|       0.0|\n",
      "|  0.0|(1321,[1,18,361],[1.0,1.0,1...|[57.849564066161435,-57.849...| [1.0,7.520618272604373E-26]|       0.0|\n",
      "|  0.0|(1321,[1,18,825],[1.0,1.0,1...|[57.849564066161435,-57.849...| [1.0,7.520618272604373E-26]|       0.0|\n",
      "+-----+------------------------------+------------------------------+----------------------------+----------+\n",
      "only showing top 20 rows\n",
      "\n"
     ]
    }
   ],
   "source": [
    "# Make predictions on test data using the transform() method.\n",
    "predictions = lr_model.transform(testData)\n",
    "\n",
    "# Look top 20 predictions from the highest probability\n",
    "predictions.filter(predictions['prediction'] == 0) \\\n",
    "    .select('label','features','rawPrediction','probability','prediction') \\\n",
    "    .orderBy('probability', ascending=False) \\\n",
    "    .show(n = 20, truncate = 30)"
   ]
  },
  {
   "cell_type": "code",
   "execution_count": 54,
   "metadata": {},
   "outputs": [
    {
     "name": "stdout",
     "output_type": "stream",
     "text": [
      "Training: Area Under ROC: 0.8445891882729598\n",
      "Test: Area Under ROC: 0.5847440944881906\n"
     ]
    }
   ],
   "source": [
    "from pyspark.ml.evaluation import BinaryClassificationEvaluator\n",
    "\n",
    "print(\"Training: Area Under ROC: \" + str(trainingSummary.areaUnderROC))\n",
    "\n",
    "# Evaluate model\n",
    "evaluator = BinaryClassificationEvaluator(rawPredictionCol=\"rawPrediction\")\n",
    "print(\"Test: Area Under ROC: \" + str(evaluator.evaluate(predictions, {evaluator.metricName: \"areaUnderROC\"})))"
   ]
  },
  {
   "cell_type": "markdown",
   "metadata": {},
   "source": [
    "### Logistic regression using Cross-Validation  \n",
    "\n",
    "**This may takes longer time to get result, please wait :)**"
   ]
  },
  {
   "cell_type": "code",
   "execution_count": 22,
   "metadata": {},
   "outputs": [],
   "source": [
    "from pyspark.ml.tuning import ParamGridBuilder, CrossValidator\n",
    "\n",
    "lrCrossVa = LogisticRegression(maxIter=20, regParam=0.3, elasticNetParam=0)\n",
    "\n",
    "# Create ParamGrid for Cross Validation\n",
    "paramGrid = (ParamGridBuilder()\n",
    "             # regularization parameter\n",
    "             .addGrid(lr.regParam, [0.1, 0.3, 0.5]) \n",
    "             # Elastic Net Parameter (Ridge = 0)\n",
    "             .addGrid(lr.elasticNetParam, [0.0, 0.1, 0.2]) \n",
    "             .build())\n",
    "             \n",
    "# Create 5-fold CrossValidator\n",
    "cv = CrossValidator(estimator=lr, \\\n",
    "                    estimatorParamMaps=paramGrid, \\\n",
    "                    evaluator=evaluator, \\\n",
    "                    numFolds=5)\n",
    "cvModel = cv.fit(trainingData)\n",
    "\n",
    "cVpredictions = cvModel.transform(testData)"
   ]
  },
  {
   "cell_type": "code",
   "execution_count": 56,
   "metadata": {},
   "outputs": [
    {
     "data": {
      "text/plain": [
       "0.5940090898564151"
      ]
     },
     "execution_count": 56,
     "metadata": {},
     "output_type": "execute_result"
    }
   ],
   "source": [
    "# Evaluate prediction\n",
    "cVevaluator = BinaryClassificationEvaluator(rawPredictionCol=\"rawPrediction\")\n",
    "cVevaluator.evaluate(cVpredictions)\n",
    "\n",
    "print(\"Test: Area Under ROC: \" + str(cVevaluator.evaluate(cVpredictions, {cVevaluator.metricName: \"areaUnderROC\"})))"
   ]
  },
  {
   "cell_type": "markdown",
   "metadata": {},
   "source": [
    "### Naive Bayes"
   ]
  },
  {
   "cell_type": "code",
   "execution_count": 24,
   "metadata": {},
   "outputs": [
    {
     "name": "stdout",
     "output_type": "stream",
     "text": [
      "+-----+------------------------------+------------------------------+------------------------------+----------+\n",
      "|label|                      features|                 rawPrediction|                   probability|prediction|\n",
      "+-----+------------------------------+------------------------------+------------------------------+----------+\n",
      "|  0.0|(1321,[8,18,90],[1.0,1.0,1.0])|[-14.744244528183657,-18.39...|[0.9746193670505632,0.02538...|       0.0|\n",
      "|  0.0|(1321,[8,20,90],[1.0,1.0,1.0])|[-14.821391201397542,-18.44...|[0.9741202095476897,0.02587...|       0.0|\n",
      "|  0.0|(1321,[8,15,90],[1.0,1.0,1.0])|[-14.716782848242271,-18.22...|[0.9710242693668245,0.02897...|       0.0|\n",
      "|  0.0|(1321,[8,20,143],[1.0,1.0,1...|[-14.939174237053926,-18.44...|[0.9709791175357654,0.02902...|       0.0|\n",
      "|  0.0|       (1321,[8,90],[1.0,1.0])|[-11.623792774976629,-15.06...|[0.9688921056648705,0.03110...|       0.0|\n",
      "|  0.0|       (1321,[8,90],[1.0,1.0])|[-11.623792774976629,-15.06...|[0.9688921056648705,0.03110...|       0.0|\n",
      "|  0.0|(1321,[8,17,168],[1.0,1.0,1...|[-14.950199707065632,-18.34...|[0.9676613887588514,0.03233...|       0.0|\n",
      "|  0.0|(1321,[8,18,168],[1.0,1.0,1...|[-14.995558956464563,-18.39...|[0.9676026902726496,0.03239...|       0.0|\n",
      "|  0.0|(1321,[8,19,171],[1.0,1.0,1...|[-15.085316137270379,-18.47...|[0.9673260678085552,0.03267...|       0.0|\n",
      "|  1.0|(1321,[8,17,41],[1.0,1.0,1.0])|[-14.331160498659411,-17.65...|[0.9652602214474718,0.03473...|       0.0|\n",
      "|  1.0|(1321,[8,17,41],[1.0,1.0,1.0])|[-14.331160498659411,-17.65...|[0.9652602214474718,0.03473...|       0.0|\n",
      "|  0.0|(1321,[8,17,41],[1.0,1.0,1.0])|[-14.331160498659411,-17.65...|[0.9652602214474718,0.03473...|       0.0|\n",
      "|  1.0|(1321,[8,19,41],[1.0,1.0,1.0])|[-14.466276928864154,-17.78...|[0.964900905749638,0.035099...|       0.0|\n",
      "|  1.0|(1321,[8,20,41],[1.0,1.0,1.0])|[-14.453666421272224,-17.75...|[0.9645196074980001,0.03548...|       0.0|\n",
      "|  0.0|(1321,[8,20,41],[1.0,1.0,1.0])|[-14.453666421272224,-17.75...|[0.9645196074980001,0.03548...|       0.0|\n",
      "|  0.0|(1321,[8,16,143],[1.0,1.0,1...|[-14.852789622855106,-18.13...|[0.9639361815050979,0.03606...|       0.0|\n",
      "|  0.0|(1321,[8,18,290],[1.0,1.0,1...|[-15.149709636291824,-18.39...|[0.9624061287001497,0.03759...|       0.0|\n",
      "|  0.0|(1321,[8,15,41],[1.0,1.0,1.0])|[-14.349058068116953,-17.53...|[0.9603219500796578,0.03967...|       0.0|\n",
      "|  0.0|(1321,[8,16,168],[1.0,1.0,1...|[-14.986321015479628,-18.13...|[0.958995461752231,0.041004...|       0.0|\n",
      "|  1.0|(1321,[8,16,171],[1.0,1.0,1...|[-14.986321015479628,-18.13...|[0.958995461752231,0.041004...|       0.0|\n",
      "+-----+------------------------------+------------------------------+------------------------------+----------+\n",
      "only showing top 20 rows\n",
      "\n"
     ]
    }
   ],
   "source": [
    "from pyspark.ml.classification import NaiveBayes\n",
    "\n",
    "# Build and Train Model\n",
    "nb = NaiveBayes(smoothing=1)\n",
    "nBayesModel = nb.fit(trainingData)\n",
    "nBayespredictions = nBayesModel.transform(testData)\n",
    "\n",
    "# Look top 20 predictions from the highest probability\n",
    "nBayespredictions.filter(nBayespredictions['prediction'] == 0) \\\n",
    "                 .select('label','features','rawPrediction','probability','prediction') \\\n",
    "                 .orderBy('probability', ascending=False) \\\n",
    "                 .show(n = 20, truncate = 30)"
   ]
  },
  {
   "cell_type": "code",
   "execution_count": 57,
   "metadata": {},
   "outputs": [
    {
     "name": "stdout",
     "output_type": "stream",
     "text": [
      "Test: Area Under ROC: 0.5743139184807785\n"
     ]
    }
   ],
   "source": [
    "# Evaluate prediction\n",
    "nBayesEvaluator = BinaryClassificationEvaluator(rawPredictionCol=\"rawPrediction\")\n",
    "nBayesEvaluator.evaluate(nBayespredictions)\n",
    "\n",
    "print(\"Test: Area Under ROC: \" + str(nBayesEvaluator.evaluate(nBayespredictions, {nBayesEvaluator.metricName: \"areaUnderROC\"})))"
   ]
  },
  {
   "cell_type": "markdown",
   "metadata": {},
   "source": [
    "### Random Forest"
   ]
  },
  {
   "cell_type": "code",
   "execution_count": 26,
   "metadata": {},
   "outputs": [
    {
     "name": "stdout",
     "output_type": "stream",
     "text": [
      "+-----+------------------------------+------------------------------+------------------------------+----------+\n",
      "|label|                      features|                 rawPrediction|                   probability|prediction|\n",
      "+-----+------------------------------+------------------------------+------------------------------+----------+\n",
      "|  0.0|(1321,[8,17,41],[1.0,1.0,1.0])|[72.72624872390415,27.27375...|[0.7272624872390413,0.27273...|       0.0|\n",
      "|  1.0|(1321,[8,17,41],[1.0,1.0,1.0])|[72.72624872390415,27.27375...|[0.7272624872390413,0.27273...|       0.0|\n",
      "|  0.0|       (1321,[8,41],[1.0,1.0])|[72.72624872390415,27.27375...|[0.7272624872390413,0.27273...|       0.0|\n",
      "|  1.0|(1321,[8,19,41],[1.0,1.0,1.0])|[72.72624872390415,27.27375...|[0.7272624872390413,0.27273...|       0.0|\n",
      "|  1.0|(1321,[8,20,41],[1.0,1.0,1.0])|[72.72624872390415,27.27375...|[0.7272624872390413,0.27273...|       0.0|\n",
      "|  0.0|       (1321,[8,41],[1.0,1.0])|[72.72624872390415,27.27375...|[0.7272624872390413,0.27273...|       0.0|\n",
      "|  0.0|(1321,[8,20,41],[1.0,1.0,1.0])|[72.72624872390415,27.27375...|[0.7272624872390413,0.27273...|       0.0|\n",
      "|  1.0|(1321,[8,17,41],[1.0,1.0,1.0])|[72.72624872390415,27.27375...|[0.7272624872390413,0.27273...|       0.0|\n",
      "|  0.0|(1321,[8,15,41],[1.0,1.0,1.0])|[72.64785937211349,27.35214...|[0.7264785937211348,0.27352...|       0.0|\n",
      "|  0.0|(1321,[8,18,168],[1.0,1.0,1...|[72.59563001349619,27.40436...|[0.7259563001349617,0.27404...|       0.0|\n",
      "|  0.0|(1321,[8,20,143],[1.0,1.0,1...|[72.5789508935294,27.421049...|[0.7257895089352937,0.27421...|       0.0|\n",
      "|  0.0|(1321,[8,17,168],[1.0,1.0,1...|[72.53502395289013,27.46497...|[0.7253502395289011,0.27464...|       0.0|\n",
      "|  0.0|(1321,[8,20,387],[1.0,1.0,1...|[72.53397914211696,27.46602...|[0.7253397914211694,0.27466...|       0.0|\n",
      "|  0.0|(1321,[8,18,427],[1.0,1.0,1...|[72.49289028746878,27.50710...|[0.7249289028746877,0.27507...|       0.0|\n",
      "|  0.0|(1321,[8,18,90],[1.0,1.0,1.0])|[72.49289028746878,27.50710...|[0.7249289028746877,0.27507...|       0.0|\n",
      "|  0.0|(1321,[8,18,1243],[1.0,1.0,...|[72.49289028746878,27.50710...|[0.7249289028746877,0.27507...|       0.0|\n",
      "|  0.0|(1321,[8,18,409],[1.0,1.0,1...|[72.49289028746878,27.50710...|[0.7249289028746877,0.27507...|       0.0|\n",
      "|  0.0|(1321,[8,18,409],[1.0,1.0,1...|[72.49289028746878,27.50710...|[0.7249289028746877,0.27507...|       0.0|\n",
      "|  0.0|(1321,[8,18,188],[1.0,1.0,1...|[72.49289028746878,27.50710...|[0.7249289028746877,0.27507...|       0.0|\n",
      "|  1.0|(1321,[8,18,365],[1.0,1.0,1...|[72.49289028746878,27.50710...|[0.7249289028746877,0.27507...|       0.0|\n",
      "+-----+------------------------------+------------------------------+------------------------------+----------+\n",
      "only showing top 20 rows\n",
      "\n"
     ]
    }
   ],
   "source": [
    "from pyspark.ml.classification import RandomForestClassifier\n",
    "\n",
    "randmFor = RandomForestClassifier(labelCol='label', \\\n",
    "                            featuresCol='features', \\\n",
    "                            numTrees = 100, \\\n",
    "                            maxDepth = 4, \\\n",
    "                            maxBins = 32)\n",
    "\n",
    "# Train model with Training Data\n",
    "rfModel = randmFor.fit(trainingData)\n",
    "\n",
    "randmForPredictions = rfModel.transform(testData)\n",
    "\n",
    "# Look top 20 predictions from the highest probability\n",
    "randmForPredictions.filter(randmForPredictions['prediction'] == 0) \\\n",
    "                   .select('label','features','rawPrediction','probability','prediction') \\\n",
    "                   .orderBy('probability', ascending=False) \\\n",
    "                   .show(n = 20, truncate = 30)"
   ]
  },
  {
   "cell_type": "code",
   "execution_count": 69,
   "metadata": {},
   "outputs": [
    {
     "data": {
      "text/plain": [
       "<bound method FramePlotMethods.line of <pandas.plotting._core.FramePlotMethods object at 0x7f779ce7ba58>>"
      ]
     },
     "execution_count": 69,
     "metadata": {},
     "output_type": "execute_result"
    }
   ],
   "source": [
    "df2 = pd.DataFrame()\n",
    "df2.plot.line"
   ]
  },
  {
   "cell_type": "code",
   "execution_count": 58,
   "metadata": {},
   "outputs": [
    {
     "name": "stdout",
     "output_type": "stream",
     "text": [
      "Test: Area Under ROC: 0.5819310155164429\n"
     ]
    }
   ],
   "source": [
    "# Evaluate prediction\n",
    "randmForEvaluator = BinaryClassificationEvaluator(rawPredictionCol=\"rawPrediction\")\n",
    "randmForEvaluator.evaluate(randmForPredictions)\n",
    "\n",
    "print(\"Test: Area Under ROC: \" + str(randmForEvaluator.evaluate(randmForPredictions, {randmForEvaluator.metricName: \"areaUnderROC\"})))"
   ]
  },
  {
   "cell_type": "code",
   "execution_count": null,
   "metadata": {},
   "outputs": [],
   "source": []
  },
  {
   "cell_type": "code",
   "execution_count": null,
   "metadata": {},
   "outputs": [],
   "source": []
  }
 ],
 "metadata": {
  "kernelspec": {
   "display_name": "Python 3",
   "language": "python",
   "name": "python3"
  },
  "language_info": {
   "codemirror_mode": {
    "name": "ipython",
    "version": 3
   },
   "file_extension": ".py",
   "mimetype": "text/x-python",
   "name": "python",
   "nbconvert_exporter": "python",
   "pygments_lexer": "ipython3",
   "version": "3.5.2"
  }
 },
 "nbformat": 4,
 "nbformat_minor": 2
}
