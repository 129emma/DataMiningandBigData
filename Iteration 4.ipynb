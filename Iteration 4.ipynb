{
 "cells": [
  {
   "cell_type": "markdown",
   "metadata": {},
   "source": [
    "# Iteration 4_INFOSYS 722"
   ]
  },
  {
   "cell_type": "code",
   "execution_count": 2,
   "metadata": {},
   "outputs": [],
   "source": [
    "# This part starts Data Preparation of Iteration 4\n",
    "# I will number each relevant cell as answer"
   ]
  },
  {
   "cell_type": "code",
   "execution_count": 3,
   "metadata": {},
   "outputs": [],
   "source": [
    "import findspark\n",
    "findspark.init('/home/ubuntu/spark-2.1.1-bin-hadoop2.7')\n",
    "import pyspark\n",
    "from pyspark.sql import SparkSession\n",
    "spark = SparkSession.builder.appName('iteration4').getOrCreate()\n",
    "from pyspark.ml.classification import LogisticRegression"
   ]
  },
  {
   "cell_type": "code",
   "execution_count": 4,
   "metadata": {},
   "outputs": [],
   "source": [
    "# Import dataset \n",
    "dataFrame = spark.read.csv('Dataset/data.csv',header=True,inferSchema=True)"
   ]
  },
  {
   "cell_type": "code",
   "execution_count": 5,
   "metadata": {
    "scrolled": false
   },
   "outputs": [
    {
     "name": "stdout",
     "output_type": "stream",
     "text": [
      "+--------------------+--------------------+----------------+----------------------+---------------+-------------------+-------------+---------+\n",
      "|         ANZSOCGroup|       MapDetailName|          Region|NumberofVictimisations|NumberofRecords|OccurrenceDayOfWeek|       Weapon|YearMonth|\n",
      "+--------------------+--------------------+----------------+----------------------+---------------+-------------------+-------------+---------+\n",
      "|AggravatedSexualA...|      HillcrestWest.|   WaikatoRegion|                     1|              1|            UNKNOWN|NotApplicable|  1/07/14|\n",
      "|Non-AggravatedSex...|   TeAwamutuCentral.|   WaikatoRegion|                     1|              1|                Sun|NotApplicable|  1/07/14|\n",
      "|AggravatedSexualA...|      TotaraHeights.|  AucklandRegion|                     1|              1|                Tue|    NotStated|  1/07/14|\n",
      "|AggravatedSexualA...|       FlaxmereEast.|Hawke'sBayRegion|                     1|              1|                Sun|    NotStated|  1/07/14|\n",
      "|AggravatedSexualA...|             Wairoa.|Hawke'sBayRegion|                     1|              1|            UNKNOWN|    NotStated|  1/07/14|\n",
      "|AggravatedSexualA...|             Wairoa.|Hawke'sBayRegion|                     1|              1|            UNKNOWN|    NotStated|  1/07/14|\n",
      "|AggravatedSexualA...|          Brentwood.|WellingtonRegion|                     1|              1|            UNKNOWN|    NotStated|  1/07/14|\n",
      "|AggravatedSexualA...|       GlenEdenEast.|  AucklandRegion|                     1|              1|                Mon|    NotStated|  1/07/14|\n",
      "|AggravatedSexualA...|        GraftonEast.|  AucklandRegion|                     1|              1|                Mon|    NotStated|  1/07/14|\n",
      "|AggravatedSexualA...|      PukekoheNorth.|  AucklandRegion|                     1|              1|                Wed|NotApplicable|  1/09/14|\n",
      "|AggravatedSexualA...|               Wiri.|  AucklandRegion|                     1|              1|                Sat|NotApplicable|  1/09/14|\n",
      "|AggravatedSexualA...|         MellonsBay.|  AucklandRegion|                     1|              1|            UNKNOWN|NotApplicable|  1/09/14|\n",
      "|AggravatedSexualA...|       StarlingPark.|  AucklandRegion|                     1|              1|                Mon|NotApplicable|  1/09/14|\n",
      "|AggravatedSexualA...|AucklandHarbourside.|  AucklandRegion|                     1|              1|                Mon|NotApplicable|  1/09/14|\n",
      "|AggravatedSexualA...|AucklandCentralWest.|  AucklandRegion|                     1|              1|                Sat|    NotStated|  1/09/14|\n",
      "|AggravatedSexualA...|AucklandCentralEast.|  AucklandRegion|                     1|              1|            UNKNOWN|    NotStated|  1/09/14|\n",
      "|Non-AggravatedSex...|    TakapunaCentral.|  AucklandRegion|                     1|              1|                Fri|NotApplicable|  1/09/14|\n",
      "|AggravatedSexualA...|    CathedralSquare.|CanterburyRegion|                     1|              1|                Tue|NotApplicable|  1/09/14|\n",
      "|AggravatedSexualA...|    CathedralSquare.|CanterburyRegion|                     1|              1|                Tue|    NotStated|  1/09/14|\n",
      "|Non-AggravatedSex...|        NewtownEast.|WellingtonRegion|                     3|              1|            UNKNOWN|NotApplicable|  1/09/14|\n",
      "+--------------------+--------------------+----------------+----------------------+---------------+-------------------+-------------+---------+\n",
      "only showing top 20 rows\n",
      "\n"
     ]
    }
   ],
   "source": [
    "# Show the dataset\n",
    "dataFrame.show()"
   ]
  },
  {
   "cell_type": "markdown",
   "metadata": {},
   "source": [
    "## 2.3 Data Exporation"
   ]
  },
  {
   "cell_type": "code",
   "execution_count": 6,
   "metadata": {
    "scrolled": false
   },
   "outputs": [
    {
     "name": "stdout",
     "output_type": "stream",
     "text": [
      "+-------+--------------------+-------------+---------------+----------------------+---------------+-------------------+-----------+---------+\n",
      "|summary|         ANZSOCGroup|MapDetailName|         Region|NumberofVictimisations|NumberofRecords|OccurrenceDayOfWeek|     Weapon|YearMonth|\n",
      "+-------+--------------------+-------------+---------------+----------------------+---------------+-------------------+-----------+---------+\n",
      "|  count|                8354|         7734|           7734|                  8354|           8354|               8354|       8354|     8354|\n",
      "|   mean|                null|         null|           null|    0.9547522145080201|            1.0|               null|       null|     null|\n",
      "| stddev|                null|         null|           null|      0.52938282883613|            0.0|               null|       null|     null|\n",
      "|    min|AggravatedSexualA...|  AbbeyCaves.| AucklandRegion|                     0|              1|                Fri|   Bludgeon|  1/01/15|\n",
      "|    max|Non-AggravatedSex...|  YattonPark.|WestCoastRegion|                    36|              1|                Wed|OtherWeapon|  1/12/17|\n",
      "+-------+--------------------+-------------+---------------+----------------------+---------------+-------------------+-----------+---------+\n",
      "\n",
      "\n",
      "Total of aggravatedSexualAssault reports: 6199\n",
      "\n",
      "Total of Non-AggravatedSexualAssault reports: 2155\n"
     ]
    }
   ],
   "source": [
    "# Computer summary of the data\n",
    "dataFrame.describe().show()\n",
    "\n",
    "# Number of AggrabatedSexualAssault report\n",
    "aggSexAssuaultTable = dataFrame[dataFrame.ANZSOCGroup.isin(\"AggravatedSexualAssault\")]\n",
    "print('\\n' + \"Total of aggravatedSexualAssault reports:\", aggSexAssuaultTable.count())\n",
    "\n",
    "# Number of Non-AggravatedSexualAssault report\n",
    "nonAggravatedSexualAssault = dataFrame[dataFrame.ANZSOCGroup.isin(\"Non-AggravatedSexualAssault\")]\n",
    "print('\\n' + \"Total of Non-AggravatedSexualAssault reports:\", nonAggravatedSexualAssault.count())\n"
   ]
  },
  {
   "cell_type": "markdown",
   "metadata": {},
   "source": [
    "## 3 Data  Preparation\n",
    "### 3.2 To clean the data, issues must be made explicit, then explicitly resolved."
   ]
  },
  {
   "cell_type": "code",
   "execution_count": 7,
   "metadata": {
    "scrolled": true
   },
   "outputs": [
    {
     "name": "stdout",
     "output_type": "stream",
     "text": [
      "Total data columns before cleaning: 8354\n"
     ]
    }
   ],
   "source": [
    "# Show orginal columns before cleaning\n",
    "print(\"Total data columns before cleaning:\", dataFrame.count())"
   ]
  },
  {
   "cell_type": "code",
   "execution_count": 8,
   "metadata": {
    "scrolled": true
   },
   "outputs": [],
   "source": [
    "# Drop null values with their rows\n",
    "droppedTable = dataFrame.na.drop()"
   ]
  },
  {
   "cell_type": "code",
   "execution_count": 9,
   "metadata": {},
   "outputs": [
    {
     "name": "stdout",
     "output_type": "stream",
     "text": [
      "Total data columns after cleaning: 7734\n",
      "+--------------------+--------------------+----------------+----------------------+---------------+-------------------+-------------+---------+\n",
      "|         ANZSOCGroup|       MapDetailName|          Region|NumberofVictimisations|NumberofRecords|OccurrenceDayOfWeek|       Weapon|YearMonth|\n",
      "+--------------------+--------------------+----------------+----------------------+---------------+-------------------+-------------+---------+\n",
      "|AggravatedSexualA...|      HillcrestWest.|   WaikatoRegion|                     1|              1|            UNKNOWN|NotApplicable|  1/07/14|\n",
      "|Non-AggravatedSex...|   TeAwamutuCentral.|   WaikatoRegion|                     1|              1|                Sun|NotApplicable|  1/07/14|\n",
      "|AggravatedSexualA...|      TotaraHeights.|  AucklandRegion|                     1|              1|                Tue|    NotStated|  1/07/14|\n",
      "|AggravatedSexualA...|       FlaxmereEast.|Hawke'sBayRegion|                     1|              1|                Sun|    NotStated|  1/07/14|\n",
      "|AggravatedSexualA...|             Wairoa.|Hawke'sBayRegion|                     1|              1|            UNKNOWN|    NotStated|  1/07/14|\n",
      "|AggravatedSexualA...|             Wairoa.|Hawke'sBayRegion|                     1|              1|            UNKNOWN|    NotStated|  1/07/14|\n",
      "|AggravatedSexualA...|          Brentwood.|WellingtonRegion|                     1|              1|            UNKNOWN|    NotStated|  1/07/14|\n",
      "|AggravatedSexualA...|       GlenEdenEast.|  AucklandRegion|                     1|              1|                Mon|    NotStated|  1/07/14|\n",
      "|AggravatedSexualA...|        GraftonEast.|  AucklandRegion|                     1|              1|                Mon|    NotStated|  1/07/14|\n",
      "|AggravatedSexualA...|      PukekoheNorth.|  AucklandRegion|                     1|              1|                Wed|NotApplicable|  1/09/14|\n",
      "|AggravatedSexualA...|               Wiri.|  AucklandRegion|                     1|              1|                Sat|NotApplicable|  1/09/14|\n",
      "|AggravatedSexualA...|         MellonsBay.|  AucklandRegion|                     1|              1|            UNKNOWN|NotApplicable|  1/09/14|\n",
      "|AggravatedSexualA...|       StarlingPark.|  AucklandRegion|                     1|              1|                Mon|NotApplicable|  1/09/14|\n",
      "|AggravatedSexualA...|AucklandHarbourside.|  AucklandRegion|                     1|              1|                Mon|NotApplicable|  1/09/14|\n",
      "|AggravatedSexualA...|AucklandCentralWest.|  AucklandRegion|                     1|              1|                Sat|    NotStated|  1/09/14|\n",
      "|AggravatedSexualA...|AucklandCentralEast.|  AucklandRegion|                     1|              1|            UNKNOWN|    NotStated|  1/09/14|\n",
      "|Non-AggravatedSex...|    TakapunaCentral.|  AucklandRegion|                     1|              1|                Fri|NotApplicable|  1/09/14|\n",
      "|AggravatedSexualA...|    CathedralSquare.|CanterburyRegion|                     1|              1|                Tue|NotApplicable|  1/09/14|\n",
      "|AggravatedSexualA...|    CathedralSquare.|CanterburyRegion|                     1|              1|                Tue|    NotStated|  1/09/14|\n",
      "|Non-AggravatedSex...|        NewtownEast.|WellingtonRegion|                     3|              1|            UNKNOWN|NotApplicable|  1/09/14|\n",
      "+--------------------+--------------------+----------------+----------------------+---------------+-------------------+-------------+---------+\n",
      "only showing top 20 rows\n",
      "\n"
     ]
    }
   ],
   "source": [
    "# Show columns after cleaning\n",
    "print(\"Total data columns after cleaning:\", droppedTable.count())\n",
    "\n",
    "droppedTable.show()"
   ]
  },
  {
   "cell_type": "markdown",
   "metadata": {},
   "source": [
    "### 3.3 Data must be appropriately constructed through the creation of new features/variables, and/or data repositories/tables. "
   ]
  },
  {
   "cell_type": "code",
   "execution_count": 10,
   "metadata": {},
   "outputs": [],
   "source": [
    "from pyspark.sql.functions import format_number, col\n",
    "\n",
    "# Sort table by offenceType\n",
    "groupOffenceType = droppedTable.sort('ANZSOCGroup', ascending = True)\n",
    "\n",
    "# Sort table by Region \n",
    "sortedTable = groupOffenceType.sort('Region',ascending = True)"
   ]
  },
  {
   "cell_type": "code",
   "execution_count": 11,
   "metadata": {},
   "outputs": [
    {
     "data": {
      "text/html": [
       "<div>\n",
       "<style scoped>\n",
       "    .dataframe tbody tr th:only-of-type {\n",
       "        vertical-align: middle;\n",
       "    }\n",
       "\n",
       "    .dataframe tbody tr th {\n",
       "        vertical-align: top;\n",
       "    }\n",
       "\n",
       "    .dataframe thead th {\n",
       "        text-align: right;\n",
       "    }\n",
       "</style>\n",
       "<table border=\"1\" class=\"dataframe\">\n",
       "  <thead>\n",
       "    <tr style=\"text-align: right;\">\n",
       "      <th></th>\n",
       "      <th>ANZSOCGroup</th>\n",
       "      <th>MapDetailName</th>\n",
       "      <th>Region</th>\n",
       "      <th>NumberofVictimisations</th>\n",
       "      <th>NumberofRecords</th>\n",
       "      <th>OccurrenceDayOfWeek</th>\n",
       "      <th>Weapon</th>\n",
       "      <th>YearMonth</th>\n",
       "    </tr>\n",
       "  </thead>\n",
       "  <tbody>\n",
       "    <tr>\n",
       "      <th>0</th>\n",
       "      <td>AggravatedSexualAssault</td>\n",
       "      <td>MtEdenNorth.</td>\n",
       "      <td>AucklandRegion</td>\n",
       "      <td>1</td>\n",
       "      <td>1</td>\n",
       "      <td>Mon</td>\n",
       "      <td>NotStated</td>\n",
       "      <td>1/07/14</td>\n",
       "    </tr>\n",
       "    <tr>\n",
       "      <th>1</th>\n",
       "      <td>AggravatedSexualAssault</td>\n",
       "      <td>GreyLynnEast.</td>\n",
       "      <td>AucklandRegion</td>\n",
       "      <td>1</td>\n",
       "      <td>1</td>\n",
       "      <td>Mon</td>\n",
       "      <td>NotStated</td>\n",
       "      <td>1/11/14</td>\n",
       "    </tr>\n",
       "    <tr>\n",
       "      <th>2</th>\n",
       "      <td>AggravatedSexualAssault</td>\n",
       "      <td>TotaraHeights.</td>\n",
       "      <td>AucklandRegion</td>\n",
       "      <td>1</td>\n",
       "      <td>1</td>\n",
       "      <td>Tue</td>\n",
       "      <td>NotStated</td>\n",
       "      <td>1/07/14</td>\n",
       "    </tr>\n",
       "    <tr>\n",
       "      <th>3</th>\n",
       "      <td>AggravatedSexualAssault</td>\n",
       "      <td>Mascot.</td>\n",
       "      <td>AucklandRegion</td>\n",
       "      <td>1</td>\n",
       "      <td>1</td>\n",
       "      <td>Mon</td>\n",
       "      <td>NotStated</td>\n",
       "      <td>1/07/14</td>\n",
       "    </tr>\n",
       "    <tr>\n",
       "      <th>4</th>\n",
       "      <td>AggravatedSexualAssault</td>\n",
       "      <td>GraftonEast.</td>\n",
       "      <td>AucklandRegion</td>\n",
       "      <td>1</td>\n",
       "      <td>1</td>\n",
       "      <td>Mon</td>\n",
       "      <td>NotStated</td>\n",
       "      <td>1/07/14</td>\n",
       "    </tr>\n",
       "    <tr>\n",
       "      <th>5</th>\n",
       "      <td>AggravatedSexualAssault</td>\n",
       "      <td>RandwickPark.</td>\n",
       "      <td>AucklandRegion</td>\n",
       "      <td>1</td>\n",
       "      <td>1</td>\n",
       "      <td>Wed</td>\n",
       "      <td>NotApplicable</td>\n",
       "      <td>1/10/14</td>\n",
       "    </tr>\n",
       "    <tr>\n",
       "      <th>6</th>\n",
       "      <td>AggravatedSexualAssault</td>\n",
       "      <td>Wiri.</td>\n",
       "      <td>AucklandRegion</td>\n",
       "      <td>1</td>\n",
       "      <td>1</td>\n",
       "      <td>Sat</td>\n",
       "      <td>NotApplicable</td>\n",
       "      <td>1/09/14</td>\n",
       "    </tr>\n",
       "    <tr>\n",
       "      <th>7</th>\n",
       "      <td>AggravatedSexualAssault</td>\n",
       "      <td>Balmoral.</td>\n",
       "      <td>AucklandRegion</td>\n",
       "      <td>1</td>\n",
       "      <td>1</td>\n",
       "      <td>Thu</td>\n",
       "      <td>NotStated</td>\n",
       "      <td>1/07/14</td>\n",
       "    </tr>\n",
       "    <tr>\n",
       "      <th>8</th>\n",
       "      <td>AggravatedSexualAssault</td>\n",
       "      <td>StarlingPark.</td>\n",
       "      <td>AucklandRegion</td>\n",
       "      <td>1</td>\n",
       "      <td>1</td>\n",
       "      <td>Mon</td>\n",
       "      <td>NotApplicable</td>\n",
       "      <td>1/09/14</td>\n",
       "    </tr>\n",
       "    <tr>\n",
       "      <th>9</th>\n",
       "      <td>AggravatedSexualAssault</td>\n",
       "      <td>OtaraNorth.</td>\n",
       "      <td>AucklandRegion</td>\n",
       "      <td>2</td>\n",
       "      <td>1</td>\n",
       "      <td>Sun</td>\n",
       "      <td>NotApplicable</td>\n",
       "      <td>1/11/14</td>\n",
       "    </tr>\n",
       "    <tr>\n",
       "      <th>10</th>\n",
       "      <td>AggravatedSexualAssault</td>\n",
       "      <td>AucklandCentralWest.</td>\n",
       "      <td>AucklandRegion</td>\n",
       "      <td>1</td>\n",
       "      <td>1</td>\n",
       "      <td>Sat</td>\n",
       "      <td>NotStated</td>\n",
       "      <td>1/09/14</td>\n",
       "    </tr>\n",
       "    <tr>\n",
       "      <th>11</th>\n",
       "      <td>AggravatedSexualAssault</td>\n",
       "      <td>HaraniaWest.</td>\n",
       "      <td>AucklandRegion</td>\n",
       "      <td>1</td>\n",
       "      <td>1</td>\n",
       "      <td>Mon</td>\n",
       "      <td>NotStated</td>\n",
       "      <td>1/08/14</td>\n",
       "    </tr>\n",
       "    <tr>\n",
       "      <th>12</th>\n",
       "      <td>AggravatedSexualAssault</td>\n",
       "      <td>AucklandHarbourside.</td>\n",
       "      <td>AucklandRegion</td>\n",
       "      <td>1</td>\n",
       "      <td>1</td>\n",
       "      <td>Mon</td>\n",
       "      <td>NotApplicable</td>\n",
       "      <td>1/09/14</td>\n",
       "    </tr>\n",
       "    <tr>\n",
       "      <th>13</th>\n",
       "      <td>AggravatedSexualAssault</td>\n",
       "      <td>AucklandCentralEast.</td>\n",
       "      <td>AucklandRegion</td>\n",
       "      <td>1</td>\n",
       "      <td>1</td>\n",
       "      <td>UNKNOWN</td>\n",
       "      <td>NotStated</td>\n",
       "      <td>1/09/14</td>\n",
       "    </tr>\n",
       "    <tr>\n",
       "      <th>14</th>\n",
       "      <td>AggravatedSexualAssault</td>\n",
       "      <td>Konini.</td>\n",
       "      <td>AucklandRegion</td>\n",
       "      <td>1</td>\n",
       "      <td>1</td>\n",
       "      <td>UNKNOWN</td>\n",
       "      <td>NotApplicable</td>\n",
       "      <td>1/09/14</td>\n",
       "    </tr>\n",
       "    <tr>\n",
       "      <th>15</th>\n",
       "      <td>AggravatedSexualAssault</td>\n",
       "      <td>OneTreeHillEast.</td>\n",
       "      <td>AucklandRegion</td>\n",
       "      <td>1</td>\n",
       "      <td>1</td>\n",
       "      <td>Thu</td>\n",
       "      <td>NotStated</td>\n",
       "      <td>1/11/14</td>\n",
       "    </tr>\n",
       "    <tr>\n",
       "      <th>16</th>\n",
       "      <td>AggravatedSexualAssault</td>\n",
       "      <td>GlenEdenEast.</td>\n",
       "      <td>AucklandRegion</td>\n",
       "      <td>1</td>\n",
       "      <td>1</td>\n",
       "      <td>Mon</td>\n",
       "      <td>NotStated</td>\n",
       "      <td>1/07/14</td>\n",
       "    </tr>\n",
       "    <tr>\n",
       "      <th>17</th>\n",
       "      <td>AggravatedSexualAssault</td>\n",
       "      <td>Dannemora.</td>\n",
       "      <td>AucklandRegion</td>\n",
       "      <td>1</td>\n",
       "      <td>1</td>\n",
       "      <td>Sat</td>\n",
       "      <td>NotStated</td>\n",
       "      <td>1/08/14</td>\n",
       "    </tr>\n",
       "    <tr>\n",
       "      <th>18</th>\n",
       "      <td>AggravatedSexualAssault</td>\n",
       "      <td>MellonsBay.</td>\n",
       "      <td>AucklandRegion</td>\n",
       "      <td>1</td>\n",
       "      <td>1</td>\n",
       "      <td>UNKNOWN</td>\n",
       "      <td>NotApplicable</td>\n",
       "      <td>1/09/14</td>\n",
       "    </tr>\n",
       "    <tr>\n",
       "      <th>19</th>\n",
       "      <td>AggravatedSexualAssault</td>\n",
       "      <td>PuhinuiNorth.</td>\n",
       "      <td>AucklandRegion</td>\n",
       "      <td>1</td>\n",
       "      <td>1</td>\n",
       "      <td>Sat</td>\n",
       "      <td>NotStated</td>\n",
       "      <td>1/08/14</td>\n",
       "    </tr>\n",
       "  </tbody>\n",
       "</table>\n",
       "</div>"
      ],
      "text/plain": [
       "                ANZSOCGroup         MapDetailName          Region  \\\n",
       "0   AggravatedSexualAssault          MtEdenNorth.  AucklandRegion   \n",
       "1   AggravatedSexualAssault         GreyLynnEast.  AucklandRegion   \n",
       "2   AggravatedSexualAssault        TotaraHeights.  AucklandRegion   \n",
       "3   AggravatedSexualAssault               Mascot.  AucklandRegion   \n",
       "4   AggravatedSexualAssault          GraftonEast.  AucklandRegion   \n",
       "5   AggravatedSexualAssault         RandwickPark.  AucklandRegion   \n",
       "6   AggravatedSexualAssault                 Wiri.  AucklandRegion   \n",
       "7   AggravatedSexualAssault             Balmoral.  AucklandRegion   \n",
       "8   AggravatedSexualAssault         StarlingPark.  AucklandRegion   \n",
       "9   AggravatedSexualAssault           OtaraNorth.  AucklandRegion   \n",
       "10  AggravatedSexualAssault  AucklandCentralWest.  AucklandRegion   \n",
       "11  AggravatedSexualAssault          HaraniaWest.  AucklandRegion   \n",
       "12  AggravatedSexualAssault  AucklandHarbourside.  AucklandRegion   \n",
       "13  AggravatedSexualAssault  AucklandCentralEast.  AucklandRegion   \n",
       "14  AggravatedSexualAssault               Konini.  AucklandRegion   \n",
       "15  AggravatedSexualAssault      OneTreeHillEast.  AucklandRegion   \n",
       "16  AggravatedSexualAssault         GlenEdenEast.  AucklandRegion   \n",
       "17  AggravatedSexualAssault            Dannemora.  AucklandRegion   \n",
       "18  AggravatedSexualAssault           MellonsBay.  AucklandRegion   \n",
       "19  AggravatedSexualAssault         PuhinuiNorth.  AucklandRegion   \n",
       "\n",
       "    NumberofVictimisations  NumberofRecords OccurrenceDayOfWeek  \\\n",
       "0                        1                1                 Mon   \n",
       "1                        1                1                 Mon   \n",
       "2                        1                1                 Tue   \n",
       "3                        1                1                 Mon   \n",
       "4                        1                1                 Mon   \n",
       "5                        1                1                 Wed   \n",
       "6                        1                1                 Sat   \n",
       "7                        1                1                 Thu   \n",
       "8                        1                1                 Mon   \n",
       "9                        2                1                 Sun   \n",
       "10                       1                1                 Sat   \n",
       "11                       1                1                 Mon   \n",
       "12                       1                1                 Mon   \n",
       "13                       1                1             UNKNOWN   \n",
       "14                       1                1             UNKNOWN   \n",
       "15                       1                1                 Thu   \n",
       "16                       1                1                 Mon   \n",
       "17                       1                1                 Sat   \n",
       "18                       1                1             UNKNOWN   \n",
       "19                       1                1                 Sat   \n",
       "\n",
       "           Weapon YearMonth  \n",
       "0       NotStated   1/07/14  \n",
       "1       NotStated   1/11/14  \n",
       "2       NotStated   1/07/14  \n",
       "3       NotStated   1/07/14  \n",
       "4       NotStated   1/07/14  \n",
       "5   NotApplicable   1/10/14  \n",
       "6   NotApplicable   1/09/14  \n",
       "7       NotStated   1/07/14  \n",
       "8   NotApplicable   1/09/14  \n",
       "9   NotApplicable   1/11/14  \n",
       "10      NotStated   1/09/14  \n",
       "11      NotStated   1/08/14  \n",
       "12  NotApplicable   1/09/14  \n",
       "13      NotStated   1/09/14  \n",
       "14  NotApplicable   1/09/14  \n",
       "15      NotStated   1/11/14  \n",
       "16      NotStated   1/07/14  \n",
       "17      NotStated   1/08/14  \n",
       "18  NotApplicable   1/09/14  \n",
       "19      NotStated   1/08/14  "
      ]
     },
     "execution_count": 11,
     "metadata": {},
     "output_type": "execute_result"
    }
   ],
   "source": [
    "# Import pandas.\n",
    "import pandas as pd\n",
    "\n",
    "# Take the first twenty rows of data, and visualise.\n",
    "pd.DataFrame(sortedTable.take(20), columns=sortedTable.columns)"
   ]
  },
  {
   "cell_type": "code",
   "execution_count": 12,
   "metadata": {
    "scrolled": true
   },
   "outputs": [
    {
     "data": {
      "text/html": [
       "<div>\n",
       "<style scoped>\n",
       "    .dataframe tbody tr th:only-of-type {\n",
       "        vertical-align: middle;\n",
       "    }\n",
       "\n",
       "    .dataframe tbody tr th {\n",
       "        vertical-align: top;\n",
       "    }\n",
       "\n",
       "    .dataframe thead th {\n",
       "        text-align: right;\n",
       "    }\n",
       "</style>\n",
       "<table border=\"1\" class=\"dataframe\">\n",
       "  <thead>\n",
       "    <tr style=\"text-align: right;\">\n",
       "      <th></th>\n",
       "      <th>ANZSOCGroup</th>\n",
       "      <th>count</th>\n",
       "    </tr>\n",
       "  </thead>\n",
       "  <tbody>\n",
       "    <tr>\n",
       "      <th>0</th>\n",
       "      <td>AggravatedSexualAssault</td>\n",
       "      <td>5657</td>\n",
       "    </tr>\n",
       "    <tr>\n",
       "      <th>1</th>\n",
       "      <td>Non-AggravatedSexualAssault</td>\n",
       "      <td>2077</td>\n",
       "    </tr>\n",
       "  </tbody>\n",
       "</table>\n",
       "</div>"
      ],
      "text/plain": [
       "                   ANZSOCGroup  count\n",
       "0      AggravatedSexualAssault   5657\n",
       "1  Non-AggravatedSexualAssault   2077"
      ]
     },
     "execution_count": 12,
     "metadata": {},
     "output_type": "execute_result"
    }
   ],
   "source": [
    "# Visualize the data \n",
    "sortedTable.groupby('ANZSOCGroup').count().toPandas()"
   ]
  },
  {
   "cell_type": "markdown",
   "metadata": {},
   "source": [
    "## 7 Data Mining"
   ]
  },
  {
   "cell_type": "code",
   "execution_count": 13,
   "metadata": {},
   "outputs": [
    {
     "name": "stdout",
     "output_type": "stream",
     "text": [
      "root\n",
      " |-- ANZSOCGroup: string (nullable = true)\n",
      " |-- MapDetailName: string (nullable = true)\n",
      " |-- Region: string (nullable = true)\n",
      " |-- NumberofVictimisations: integer (nullable = true)\n",
      " |-- NumberofRecords: integer (nullable = true)\n",
      " |-- OccurrenceDayOfWeek: string (nullable = true)\n",
      " |-- Weapon: string (nullable = true)\n",
      " |-- YearMonth: string (nullable = true)\n",
      "\n",
      "['ANZSOCGroup', 'MapDetailName', 'Region', 'NumberofVictimisations', 'NumberofRecords', 'OccurrenceDayOfWeek', 'Weapon', 'YearMonth']\n"
     ]
    }
   ],
   "source": [
    "# Import training data\n",
    "sortedTable.printSchema()\n",
    "print(sortedTable.columns)"
   ]
  },
  {
   "cell_type": "code",
   "execution_count": 14,
   "metadata": {},
   "outputs": [],
   "source": [
    "# Import the relevant packages.\n",
    "from pyspark.ml.feature import (VectorAssembler,VectorIndexer,OneHotEncoder,StringIndexer)"
   ]
  },
  {
   "cell_type": "code",
   "execution_count": 15,
   "metadata": {},
   "outputs": [],
   "source": [
    "# Create a string indexer which converts every string into a number\n",
    "# such as AggravtedSexAssualt = 0 and Non-AggravtedSexAssualt = 1.\n",
    "# A number will be assigned to every category in the column.\n",
    "# Set offencetype as label\n",
    "offenceType_indexer = StringIndexer(inputCol='ANZSOCGroup',outputCol='label')\n",
    "areaName_indexer = StringIndexer(inputCol='MapDetailName',outputCol='areaIndex')\n",
    "region_indexer = StringIndexer(inputCol='Region',outputCol='regionIndex')\n",
    "occurDay_indexer = StringIndexer(inputCol='OccurrenceDayOfWeek',outputCol='occurDayIndex')\n",
    "weapon_indexer = StringIndexer(inputCol='Weapon',outputCol='weaponIndex')\n",
    "yearMonth_indexer = StringIndexer(inputCol='YearMonth',outputCol='yearMonthIndex')\n",
    "\n",
    "\n",
    "# Conver the various outputs into a single vector.\n",
    "# Multiple columns are collapsed into one. \n",
    "areaName_encoder = OneHotEncoder(inputCol='areaIndex',outputCol='areaVec')\n",
    "region_encoder = OneHotEncoder(inputCol='regionIndex',outputCol='regionVec')\n",
    "occurDay_encoder = OneHotEncoder(inputCol='occurDayIndex',outputCol='occurDayVec')\n",
    "weapon_encoder = OneHotEncoder(inputCol='weaponIndex',outputCol='weaponVec')\n",
    "yearMonth_encoder = OneHotEncoder(inputCol='yearMonthIndex',outputCol='yearMonthVec')\n",
    "\n",
    "\n",
    "# Use vector assembler to turn all of these columns into one column (named features).\n",
    "assembler = VectorAssembler(inputCols=['areaVec','regionVec','occurDayVec',\n",
    "                                       'weaponVec','yearMonthVec','NumberofVictimisations', \n",
    "                                       'NumberofRecords'], outputCol=\"features\")"
   ]
  },
  {
   "cell_type": "code",
   "execution_count": 16,
   "metadata": {},
   "outputs": [
    {
     "ename": "AnalysisException",
     "evalue": "\"cannot resolve '`label`' given input columns: [weaponIndex, regionVec, MapDetailName, regionIndex, occurDayVec, Region, yearMonthVec, areaVec, Weapon, NumberofVictimisations, areaIndex, weaponVec, ANZSOCGroup, occurDayIndex, OccurrenceDayOfWeek, yearMonthIndex, YearMonth, features, NumberofRecords];;\\n'Project ['label, features#878]\\n+- Project [ANZSOCGroup#0, MapDetailName#1, Region#2, NumberofVictimisations#3, NumberofRecords#4, OccurrenceDayOfWeek#5, Weapon#6, YearMonth#7, areaIndex#721, regionIndex#732, occurDayIndex#744, weaponIndex#757, yearMonthIndex#771, areaVec#786, regionVec#802, occurDayVec#819, weaponVec#837, yearMonthVec#856, UDF(named_struct(areaVec, areaVec#786, regionVec, regionVec#802, occurDayVec, occurDayVec#819, weaponVec, weaponVec#837, yearMonthVec, yearMonthVec#856, NumberofVictimisations_double_VectorAssembler_4bc083863dfa24761a9c, cast(NumberofVictimisations#3 as double), NumberofRecords_double_VectorAssembler_4bc083863dfa24761a9c, cast(NumberofRecords#4 as double))) AS features#878]\\n   +- Project [ANZSOCGroup#0, MapDetailName#1, Region#2, NumberofVictimisations#3, NumberofRecords#4, OccurrenceDayOfWeek#5, Weapon#6, YearMonth#7, areaIndex#721, regionIndex#732, occurDayIndex#744, weaponIndex#757, yearMonthIndex#771, areaVec#786, regionVec#802, occurDayVec#819, weaponVec#837, if (isnull(cast(yearMonthIndex#771 as double))) null else UDF(cast(yearMonthIndex#771 as double)) AS yearMonthVec#856]\\n      +- Project [ANZSOCGroup#0, MapDetailName#1, Region#2, NumberofVictimisations#3, NumberofRecords#4, OccurrenceDayOfWeek#5, Weapon#6, YearMonth#7, areaIndex#721, regionIndex#732, occurDayIndex#744, weaponIndex#757, yearMonthIndex#771, areaVec#786, regionVec#802, occurDayVec#819, if (isnull(cast(weaponIndex#757 as double))) null else UDF(cast(weaponIndex#757 as double)) AS weaponVec#837]\\n         +- Project [ANZSOCGroup#0, MapDetailName#1, Region#2, NumberofVictimisations#3, NumberofRecords#4, OccurrenceDayOfWeek#5, Weapon#6, YearMonth#7, areaIndex#721, regionIndex#732, occurDayIndex#744, weaponIndex#757, yearMonthIndex#771, areaVec#786, regionVec#802, if (isnull(cast(occurDayIndex#744 as double))) null else UDF(cast(occurDayIndex#744 as double)) AS occurDayVec#819]\\n            +- Project [ANZSOCGroup#0, MapDetailName#1, Region#2, NumberofVictimisations#3, NumberofRecords#4, OccurrenceDayOfWeek#5, Weapon#6, YearMonth#7, areaIndex#721, regionIndex#732, occurDayIndex#744, weaponIndex#757, yearMonthIndex#771, areaVec#786, if (isnull(cast(regionIndex#732 as double))) null else UDF(cast(regionIndex#732 as double)) AS regionVec#802]\\n               +- Project [ANZSOCGroup#0, MapDetailName#1, Region#2, NumberofVictimisations#3, NumberofRecords#4, OccurrenceDayOfWeek#5, Weapon#6, YearMonth#7, areaIndex#721, regionIndex#732, occurDayIndex#744, weaponIndex#757, yearMonthIndex#771, if (isnull(cast(areaIndex#721 as double))) null else UDF(cast(areaIndex#721 as double)) AS areaVec#786]\\n                  +- Project [ANZSOCGroup#0, MapDetailName#1, Region#2, NumberofVictimisations#3, NumberofRecords#4, OccurrenceDayOfWeek#5, Weapon#6, YearMonth#7, areaIndex#721, regionIndex#732, occurDayIndex#744, weaponIndex#757, UDF(cast(YearMonth#7 as string)) AS yearMonthIndex#771]\\n                     +- Project [ANZSOCGroup#0, MapDetailName#1, Region#2, NumberofVictimisations#3, NumberofRecords#4, OccurrenceDayOfWeek#5, Weapon#6, YearMonth#7, areaIndex#721, regionIndex#732, occurDayIndex#744, UDF(cast(Weapon#6 as string)) AS weaponIndex#757]\\n                        +- Project [ANZSOCGroup#0, MapDetailName#1, Region#2, NumberofVictimisations#3, NumberofRecords#4, OccurrenceDayOfWeek#5, Weapon#6, YearMonth#7, areaIndex#721, regionIndex#732, UDF(cast(OccurrenceDayOfWeek#5 as string)) AS occurDayIndex#744]\\n                           +- Project [ANZSOCGroup#0, MapDetailName#1, Region#2, NumberofVictimisations#3, NumberofRecords#4, OccurrenceDayOfWeek#5, Weapon#6, YearMonth#7, areaIndex#721, UDF(cast(Region#2 as string)) AS regionIndex#732]\\n                              +- Project [ANZSOCGroup#0, MapDetailName#1, Region#2, NumberofVictimisations#3, NumberofRecords#4, OccurrenceDayOfWeek#5, Weapon#6, YearMonth#7, UDF(cast(MapDetailName#1 as string)) AS areaIndex#721]\\n                                 +- Sort [Region#2 ASC NULLS FIRST], true\\n                                    +- Sort [ANZSOCGroup#0 ASC NULLS FIRST], true\\n                                       +- Filter AtLeastNNulls(n, ANZSOCGroup#0,MapDetailName#1,Region#2,NumberofVictimisations#3,NumberofRecords#4,OccurrenceDayOfWeek#5,Weapon#6,YearMonth#7)\\n                                          +- Relation[ANZSOCGroup#0,MapDetailName#1,Region#2,NumberofVictimisations#3,NumberofRecords#4,OccurrenceDayOfWeek#5,Weapon#6,YearMonth#7] csv\\n\"",
     "output_type": "error",
     "traceback": [
      "\u001b[0;31m---------------------------------------------------------------------------\u001b[0m",
      "\u001b[0;31mPy4JJavaError\u001b[0m                             Traceback (most recent call last)",
      "\u001b[0;32m~/spark-2.1.1-bin-hadoop2.7/python/pyspark/sql/utils.py\u001b[0m in \u001b[0;36mdeco\u001b[0;34m(*a, **kw)\u001b[0m\n\u001b[1;32m     62\u001b[0m         \u001b[0;32mtry\u001b[0m\u001b[0;34m:\u001b[0m\u001b[0;34m\u001b[0m\u001b[0m\n\u001b[0;32m---> 63\u001b[0;31m             \u001b[0;32mreturn\u001b[0m \u001b[0mf\u001b[0m\u001b[0;34m(\u001b[0m\u001b[0;34m*\u001b[0m\u001b[0ma\u001b[0m\u001b[0;34m,\u001b[0m \u001b[0;34m**\u001b[0m\u001b[0mkw\u001b[0m\u001b[0;34m)\u001b[0m\u001b[0;34m\u001b[0m\u001b[0m\n\u001b[0m\u001b[1;32m     64\u001b[0m         \u001b[0;32mexcept\u001b[0m \u001b[0mpy4j\u001b[0m\u001b[0;34m.\u001b[0m\u001b[0mprotocol\u001b[0m\u001b[0;34m.\u001b[0m\u001b[0mPy4JJavaError\u001b[0m \u001b[0;32mas\u001b[0m \u001b[0me\u001b[0m\u001b[0;34m:\u001b[0m\u001b[0;34m\u001b[0m\u001b[0m\n",
      "\u001b[0;32m~/spark-2.1.1-bin-hadoop2.7/python/lib/py4j-0.10.4-src.zip/py4j/protocol.py\u001b[0m in \u001b[0;36mget_return_value\u001b[0;34m(answer, gateway_client, target_id, name)\u001b[0m\n\u001b[1;32m    318\u001b[0m                     \u001b[0;34m\"An error occurred while calling {0}{1}{2}.\\n\"\u001b[0m\u001b[0;34m.\u001b[0m\u001b[0;34m\u001b[0m\u001b[0m\n\u001b[0;32m--> 319\u001b[0;31m                     format(target_id, \".\", name), value)\n\u001b[0m\u001b[1;32m    320\u001b[0m             \u001b[0;32melse\u001b[0m\u001b[0;34m:\u001b[0m\u001b[0;34m\u001b[0m\u001b[0m\n",
      "\u001b[0;31mPy4JJavaError\u001b[0m: An error occurred while calling o196.select.\n: org.apache.spark.sql.AnalysisException: cannot resolve '`label`' given input columns: [weaponIndex, regionVec, MapDetailName, regionIndex, occurDayVec, Region, yearMonthVec, areaVec, Weapon, NumberofVictimisations, areaIndex, weaponVec, ANZSOCGroup, occurDayIndex, OccurrenceDayOfWeek, yearMonthIndex, YearMonth, features, NumberofRecords];;\n'Project ['label, features#878]\n+- Project [ANZSOCGroup#0, MapDetailName#1, Region#2, NumberofVictimisations#3, NumberofRecords#4, OccurrenceDayOfWeek#5, Weapon#6, YearMonth#7, areaIndex#721, regionIndex#732, occurDayIndex#744, weaponIndex#757, yearMonthIndex#771, areaVec#786, regionVec#802, occurDayVec#819, weaponVec#837, yearMonthVec#856, UDF(named_struct(areaVec, areaVec#786, regionVec, regionVec#802, occurDayVec, occurDayVec#819, weaponVec, weaponVec#837, yearMonthVec, yearMonthVec#856, NumberofVictimisations_double_VectorAssembler_4bc083863dfa24761a9c, cast(NumberofVictimisations#3 as double), NumberofRecords_double_VectorAssembler_4bc083863dfa24761a9c, cast(NumberofRecords#4 as double))) AS features#878]\n   +- Project [ANZSOCGroup#0, MapDetailName#1, Region#2, NumberofVictimisations#3, NumberofRecords#4, OccurrenceDayOfWeek#5, Weapon#6, YearMonth#7, areaIndex#721, regionIndex#732, occurDayIndex#744, weaponIndex#757, yearMonthIndex#771, areaVec#786, regionVec#802, occurDayVec#819, weaponVec#837, if (isnull(cast(yearMonthIndex#771 as double))) null else UDF(cast(yearMonthIndex#771 as double)) AS yearMonthVec#856]\n      +- Project [ANZSOCGroup#0, MapDetailName#1, Region#2, NumberofVictimisations#3, NumberofRecords#4, OccurrenceDayOfWeek#5, Weapon#6, YearMonth#7, areaIndex#721, regionIndex#732, occurDayIndex#744, weaponIndex#757, yearMonthIndex#771, areaVec#786, regionVec#802, occurDayVec#819, if (isnull(cast(weaponIndex#757 as double))) null else UDF(cast(weaponIndex#757 as double)) AS weaponVec#837]\n         +- Project [ANZSOCGroup#0, MapDetailName#1, Region#2, NumberofVictimisations#3, NumberofRecords#4, OccurrenceDayOfWeek#5, Weapon#6, YearMonth#7, areaIndex#721, regionIndex#732, occurDayIndex#744, weaponIndex#757, yearMonthIndex#771, areaVec#786, regionVec#802, if (isnull(cast(occurDayIndex#744 as double))) null else UDF(cast(occurDayIndex#744 as double)) AS occurDayVec#819]\n            +- Project [ANZSOCGroup#0, MapDetailName#1, Region#2, NumberofVictimisations#3, NumberofRecords#4, OccurrenceDayOfWeek#5, Weapon#6, YearMonth#7, areaIndex#721, regionIndex#732, occurDayIndex#744, weaponIndex#757, yearMonthIndex#771, areaVec#786, if (isnull(cast(regionIndex#732 as double))) null else UDF(cast(regionIndex#732 as double)) AS regionVec#802]\n               +- Project [ANZSOCGroup#0, MapDetailName#1, Region#2, NumberofVictimisations#3, NumberofRecords#4, OccurrenceDayOfWeek#5, Weapon#6, YearMonth#7, areaIndex#721, regionIndex#732, occurDayIndex#744, weaponIndex#757, yearMonthIndex#771, if (isnull(cast(areaIndex#721 as double))) null else UDF(cast(areaIndex#721 as double)) AS areaVec#786]\n                  +- Project [ANZSOCGroup#0, MapDetailName#1, Region#2, NumberofVictimisations#3, NumberofRecords#4, OccurrenceDayOfWeek#5, Weapon#6, YearMonth#7, areaIndex#721, regionIndex#732, occurDayIndex#744, weaponIndex#757, UDF(cast(YearMonth#7 as string)) AS yearMonthIndex#771]\n                     +- Project [ANZSOCGroup#0, MapDetailName#1, Region#2, NumberofVictimisations#3, NumberofRecords#4, OccurrenceDayOfWeek#5, Weapon#6, YearMonth#7, areaIndex#721, regionIndex#732, occurDayIndex#744, UDF(cast(Weapon#6 as string)) AS weaponIndex#757]\n                        +- Project [ANZSOCGroup#0, MapDetailName#1, Region#2, NumberofVictimisations#3, NumberofRecords#4, OccurrenceDayOfWeek#5, Weapon#6, YearMonth#7, areaIndex#721, regionIndex#732, UDF(cast(OccurrenceDayOfWeek#5 as string)) AS occurDayIndex#744]\n                           +- Project [ANZSOCGroup#0, MapDetailName#1, Region#2, NumberofVictimisations#3, NumberofRecords#4, OccurrenceDayOfWeek#5, Weapon#6, YearMonth#7, areaIndex#721, UDF(cast(Region#2 as string)) AS regionIndex#732]\n                              +- Project [ANZSOCGroup#0, MapDetailName#1, Region#2, NumberofVictimisations#3, NumberofRecords#4, OccurrenceDayOfWeek#5, Weapon#6, YearMonth#7, UDF(cast(MapDetailName#1 as string)) AS areaIndex#721]\n                                 +- Sort [Region#2 ASC NULLS FIRST], true\n                                    +- Sort [ANZSOCGroup#0 ASC NULLS FIRST], true\n                                       +- Filter AtLeastNNulls(n, ANZSOCGroup#0,MapDetailName#1,Region#2,NumberofVictimisations#3,NumberofRecords#4,OccurrenceDayOfWeek#5,Weapon#6,YearMonth#7)\n                                          +- Relation[ANZSOCGroup#0,MapDetailName#1,Region#2,NumberofVictimisations#3,NumberofRecords#4,OccurrenceDayOfWeek#5,Weapon#6,YearMonth#7] csv\n\n\tat org.apache.spark.sql.catalyst.analysis.package$AnalysisErrorAt.failAnalysis(package.scala:42)\n\tat org.apache.spark.sql.catalyst.analysis.CheckAnalysis$$anonfun$checkAnalysis$1$$anonfun$apply$2.applyOrElse(CheckAnalysis.scala:86)\n\tat org.apache.spark.sql.catalyst.analysis.CheckAnalysis$$anonfun$checkAnalysis$1$$anonfun$apply$2.applyOrElse(CheckAnalysis.scala:83)\n\tat org.apache.spark.sql.catalyst.trees.TreeNode$$anonfun$transformUp$1.apply(TreeNode.scala:290)\n\tat org.apache.spark.sql.catalyst.trees.TreeNode$$anonfun$transformUp$1.apply(TreeNode.scala:290)\n\tat org.apache.spark.sql.catalyst.trees.CurrentOrigin$.withOrigin(TreeNode.scala:70)\n\tat org.apache.spark.sql.catalyst.trees.TreeNode.transformUp(TreeNode.scala:289)\n\tat org.apache.spark.sql.catalyst.plans.QueryPlan$$anonfun$transformExpressionsUp$1.apply(QueryPlan.scala:255)\n\tat org.apache.spark.sql.catalyst.plans.QueryPlan$$anonfun$transformExpressionsUp$1.apply(QueryPlan.scala:255)\n\tat org.apache.spark.sql.catalyst.plans.QueryPlan.transformExpression$1(QueryPlan.scala:266)\n\tat org.apache.spark.sql.catalyst.plans.QueryPlan.org$apache$spark$sql$catalyst$plans$QueryPlan$$recursiveTransform$1(QueryPlan.scala:276)\n\tat org.apache.spark.sql.catalyst.plans.QueryPlan$$anonfun$org$apache$spark$sql$catalyst$plans$QueryPlan$$recursiveTransform$1$1.apply(QueryPlan.scala:280)\n\tat scala.collection.TraversableLike$$anonfun$map$1.apply(TraversableLike.scala:234)\n\tat scala.collection.TraversableLike$$anonfun$map$1.apply(TraversableLike.scala:234)\n\tat scala.collection.mutable.ResizableArray$class.foreach(ResizableArray.scala:59)\n\tat scala.collection.mutable.ArrayBuffer.foreach(ArrayBuffer.scala:48)\n\tat scala.collection.TraversableLike$class.map(TraversableLike.scala:234)\n\tat scala.collection.AbstractTraversable.map(Traversable.scala:104)\n\tat org.apache.spark.sql.catalyst.plans.QueryPlan.org$apache$spark$sql$catalyst$plans$QueryPlan$$recursiveTransform$1(QueryPlan.scala:280)\n\tat org.apache.spark.sql.catalyst.plans.QueryPlan$$anonfun$6.apply(QueryPlan.scala:285)\n\tat org.apache.spark.sql.catalyst.trees.TreeNode.mapProductIterator(TreeNode.scala:188)\n\tat org.apache.spark.sql.catalyst.plans.QueryPlan.mapExpressions(QueryPlan.scala:285)\n\tat org.apache.spark.sql.catalyst.plans.QueryPlan.transformExpressionsUp(QueryPlan.scala:255)\n\tat org.apache.spark.sql.catalyst.analysis.CheckAnalysis$$anonfun$checkAnalysis$1.apply(CheckAnalysis.scala:83)\n\tat org.apache.spark.sql.catalyst.analysis.CheckAnalysis$$anonfun$checkAnalysis$1.apply(CheckAnalysis.scala:76)\n\tat org.apache.spark.sql.catalyst.trees.TreeNode.foreachUp(TreeNode.scala:128)\n\tat org.apache.spark.sql.catalyst.analysis.CheckAnalysis$class.checkAnalysis(CheckAnalysis.scala:76)\n\tat org.apache.spark.sql.catalyst.analysis.Analyzer.checkAnalysis(Analyzer.scala:57)\n\tat org.apache.spark.sql.execution.QueryExecution.assertAnalyzed(QueryExecution.scala:52)\n\tat org.apache.spark.sql.Dataset$.ofRows(Dataset.scala:63)\n\tat org.apache.spark.sql.Dataset.org$apache$spark$sql$Dataset$$withPlan(Dataset.scala:2845)\n\tat org.apache.spark.sql.Dataset.select(Dataset.scala:1131)\n\tat sun.reflect.NativeMethodAccessorImpl.invoke0(Native Method)\n\tat sun.reflect.NativeMethodAccessorImpl.invoke(NativeMethodAccessorImpl.java:62)\n\tat sun.reflect.DelegatingMethodAccessorImpl.invoke(DelegatingMethodAccessorImpl.java:43)\n\tat java.lang.reflect.Method.invoke(Method.java:498)\n\tat py4j.reflection.MethodInvoker.invoke(MethodInvoker.java:244)\n\tat py4j.reflection.ReflectionEngine.invoke(ReflectionEngine.java:357)\n\tat py4j.Gateway.invoke(Gateway.java:280)\n\tat py4j.commands.AbstractCommand.invokeMethod(AbstractCommand.java:132)\n\tat py4j.commands.CallCommand.execute(CallCommand.java:79)\n\tat py4j.GatewayConnection.run(GatewayConnection.java:214)\n\tat java.lang.Thread.run(Thread.java:748)\n",
      "\nDuring handling of the above exception, another exception occurred:\n",
      "\u001b[0;31mAnalysisException\u001b[0m                         Traceback (most recent call last)",
      "\u001b[0;32m<ipython-input-16-889d29acb0e2>\u001b[0m in \u001b[0;36m<module>\u001b[0;34m()\u001b[0m\n\u001b[1;32m     13\u001b[0m \u001b[0;34m\u001b[0m\u001b[0m\n\u001b[1;32m     14\u001b[0m \u001b[0;31m# Remove all variables other than features and label.\u001b[0m\u001b[0;34m\u001b[0m\u001b[0;34m\u001b[0m\u001b[0m\n\u001b[0;32m---> 15\u001b[0;31m \u001b[0mpipe_df\u001b[0m \u001b[0;34m=\u001b[0m \u001b[0mpipe_df\u001b[0m\u001b[0;34m.\u001b[0m\u001b[0mselect\u001b[0m\u001b[0;34m(\u001b[0m\u001b[0;34m'label'\u001b[0m\u001b[0;34m,\u001b[0m \u001b[0;34m'features'\u001b[0m\u001b[0;34m)\u001b[0m\u001b[0;34m\u001b[0m\u001b[0m\n\u001b[0m",
      "\u001b[0;32m~/spark-2.1.1-bin-hadoop2.7/python/pyspark/sql/dataframe.py\u001b[0m in \u001b[0;36mselect\u001b[0;34m(self, *cols)\u001b[0m\n\u001b[1;32m    991\u001b[0m         \u001b[0;34m[\u001b[0m\u001b[0mRow\u001b[0m\u001b[0;34m(\u001b[0m\u001b[0mname\u001b[0m\u001b[0;34m=\u001b[0m\u001b[0;34mu'Alice'\u001b[0m\u001b[0;34m,\u001b[0m \u001b[0mage\u001b[0m\u001b[0;34m=\u001b[0m\u001b[0;36m12\u001b[0m\u001b[0;34m)\u001b[0m\u001b[0;34m,\u001b[0m \u001b[0mRow\u001b[0m\u001b[0;34m(\u001b[0m\u001b[0mname\u001b[0m\u001b[0;34m=\u001b[0m\u001b[0;34mu'Bob'\u001b[0m\u001b[0;34m,\u001b[0m \u001b[0mage\u001b[0m\u001b[0;34m=\u001b[0m\u001b[0;36m15\u001b[0m\u001b[0;34m)\u001b[0m\u001b[0;34m]\u001b[0m\u001b[0;34m\u001b[0m\u001b[0m\n\u001b[1;32m    992\u001b[0m         \"\"\"\n\u001b[0;32m--> 993\u001b[0;31m         \u001b[0mjdf\u001b[0m \u001b[0;34m=\u001b[0m \u001b[0mself\u001b[0m\u001b[0;34m.\u001b[0m\u001b[0m_jdf\u001b[0m\u001b[0;34m.\u001b[0m\u001b[0mselect\u001b[0m\u001b[0;34m(\u001b[0m\u001b[0mself\u001b[0m\u001b[0;34m.\u001b[0m\u001b[0m_jcols\u001b[0m\u001b[0;34m(\u001b[0m\u001b[0;34m*\u001b[0m\u001b[0mcols\u001b[0m\u001b[0;34m)\u001b[0m\u001b[0;34m)\u001b[0m\u001b[0;34m\u001b[0m\u001b[0m\n\u001b[0m\u001b[1;32m    994\u001b[0m         \u001b[0;32mreturn\u001b[0m \u001b[0mDataFrame\u001b[0m\u001b[0;34m(\u001b[0m\u001b[0mjdf\u001b[0m\u001b[0;34m,\u001b[0m \u001b[0mself\u001b[0m\u001b[0;34m.\u001b[0m\u001b[0msql_ctx\u001b[0m\u001b[0;34m)\u001b[0m\u001b[0;34m\u001b[0m\u001b[0m\n\u001b[1;32m    995\u001b[0m \u001b[0;34m\u001b[0m\u001b[0m\n",
      "\u001b[0;32m~/spark-2.1.1-bin-hadoop2.7/python/lib/py4j-0.10.4-src.zip/py4j/java_gateway.py\u001b[0m in \u001b[0;36m__call__\u001b[0;34m(self, *args)\u001b[0m\n\u001b[1;32m   1131\u001b[0m         \u001b[0manswer\u001b[0m \u001b[0;34m=\u001b[0m \u001b[0mself\u001b[0m\u001b[0;34m.\u001b[0m\u001b[0mgateway_client\u001b[0m\u001b[0;34m.\u001b[0m\u001b[0msend_command\u001b[0m\u001b[0;34m(\u001b[0m\u001b[0mcommand\u001b[0m\u001b[0;34m)\u001b[0m\u001b[0;34m\u001b[0m\u001b[0m\n\u001b[1;32m   1132\u001b[0m         return_value = get_return_value(\n\u001b[0;32m-> 1133\u001b[0;31m             answer, self.gateway_client, self.target_id, self.name)\n\u001b[0m\u001b[1;32m   1134\u001b[0m \u001b[0;34m\u001b[0m\u001b[0m\n\u001b[1;32m   1135\u001b[0m         \u001b[0;32mfor\u001b[0m \u001b[0mtemp_arg\u001b[0m \u001b[0;32min\u001b[0m \u001b[0mtemp_args\u001b[0m\u001b[0;34m:\u001b[0m\u001b[0;34m\u001b[0m\u001b[0m\n",
      "\u001b[0;32m~/spark-2.1.1-bin-hadoop2.7/python/pyspark/sql/utils.py\u001b[0m in \u001b[0;36mdeco\u001b[0;34m(*a, **kw)\u001b[0m\n\u001b[1;32m     67\u001b[0m                                              e.java_exception.getStackTrace()))\n\u001b[1;32m     68\u001b[0m             \u001b[0;32mif\u001b[0m \u001b[0ms\u001b[0m\u001b[0;34m.\u001b[0m\u001b[0mstartswith\u001b[0m\u001b[0;34m(\u001b[0m\u001b[0;34m'org.apache.spark.sql.AnalysisException: '\u001b[0m\u001b[0;34m)\u001b[0m\u001b[0;34m:\u001b[0m\u001b[0;34m\u001b[0m\u001b[0m\n\u001b[0;32m---> 69\u001b[0;31m                 \u001b[0;32mraise\u001b[0m \u001b[0mAnalysisException\u001b[0m\u001b[0;34m(\u001b[0m\u001b[0ms\u001b[0m\u001b[0;34m.\u001b[0m\u001b[0msplit\u001b[0m\u001b[0;34m(\u001b[0m\u001b[0;34m': '\u001b[0m\u001b[0;34m,\u001b[0m \u001b[0;36m1\u001b[0m\u001b[0;34m)\u001b[0m\u001b[0;34m[\u001b[0m\u001b[0;36m1\u001b[0m\u001b[0;34m]\u001b[0m\u001b[0;34m,\u001b[0m \u001b[0mstackTrace\u001b[0m\u001b[0;34m)\u001b[0m\u001b[0;34m\u001b[0m\u001b[0m\n\u001b[0m\u001b[1;32m     70\u001b[0m             \u001b[0;32mif\u001b[0m \u001b[0ms\u001b[0m\u001b[0;34m.\u001b[0m\u001b[0mstartswith\u001b[0m\u001b[0;34m(\u001b[0m\u001b[0;34m'org.apache.spark.sql.catalyst.analysis'\u001b[0m\u001b[0;34m)\u001b[0m\u001b[0;34m:\u001b[0m\u001b[0;34m\u001b[0m\u001b[0m\n\u001b[1;32m     71\u001b[0m                 \u001b[0;32mraise\u001b[0m \u001b[0mAnalysisException\u001b[0m\u001b[0;34m(\u001b[0m\u001b[0ms\u001b[0m\u001b[0;34m.\u001b[0m\u001b[0msplit\u001b[0m\u001b[0;34m(\u001b[0m\u001b[0;34m': '\u001b[0m\u001b[0;34m,\u001b[0m \u001b[0;36m1\u001b[0m\u001b[0;34m)\u001b[0m\u001b[0;34m[\u001b[0m\u001b[0;36m1\u001b[0m\u001b[0;34m]\u001b[0m\u001b[0;34m,\u001b[0m \u001b[0mstackTrace\u001b[0m\u001b[0;34m)\u001b[0m\u001b[0;34m\u001b[0m\u001b[0m\n",
      "\u001b[0;31mAnalysisException\u001b[0m: \"cannot resolve '`label`' given input columns: [weaponIndex, regionVec, MapDetailName, regionIndex, occurDayVec, Region, yearMonthVec, areaVec, Weapon, NumberofVictimisations, areaIndex, weaponVec, ANZSOCGroup, occurDayIndex, OccurrenceDayOfWeek, yearMonthIndex, YearMonth, features, NumberofRecords];;\\n'Project ['label, features#878]\\n+- Project [ANZSOCGroup#0, MapDetailName#1, Region#2, NumberofVictimisations#3, NumberofRecords#4, OccurrenceDayOfWeek#5, Weapon#6, YearMonth#7, areaIndex#721, regionIndex#732, occurDayIndex#744, weaponIndex#757, yearMonthIndex#771, areaVec#786, regionVec#802, occurDayVec#819, weaponVec#837, yearMonthVec#856, UDF(named_struct(areaVec, areaVec#786, regionVec, regionVec#802, occurDayVec, occurDayVec#819, weaponVec, weaponVec#837, yearMonthVec, yearMonthVec#856, NumberofVictimisations_double_VectorAssembler_4bc083863dfa24761a9c, cast(NumberofVictimisations#3 as double), NumberofRecords_double_VectorAssembler_4bc083863dfa24761a9c, cast(NumberofRecords#4 as double))) AS features#878]\\n   +- Project [ANZSOCGroup#0, MapDetailName#1, Region#2, NumberofVictimisations#3, NumberofRecords#4, OccurrenceDayOfWeek#5, Weapon#6, YearMonth#7, areaIndex#721, regionIndex#732, occurDayIndex#744, weaponIndex#757, yearMonthIndex#771, areaVec#786, regionVec#802, occurDayVec#819, weaponVec#837, if (isnull(cast(yearMonthIndex#771 as double))) null else UDF(cast(yearMonthIndex#771 as double)) AS yearMonthVec#856]\\n      +- Project [ANZSOCGroup#0, MapDetailName#1, Region#2, NumberofVictimisations#3, NumberofRecords#4, OccurrenceDayOfWeek#5, Weapon#6, YearMonth#7, areaIndex#721, regionIndex#732, occurDayIndex#744, weaponIndex#757, yearMonthIndex#771, areaVec#786, regionVec#802, occurDayVec#819, if (isnull(cast(weaponIndex#757 as double))) null else UDF(cast(weaponIndex#757 as double)) AS weaponVec#837]\\n         +- Project [ANZSOCGroup#0, MapDetailName#1, Region#2, NumberofVictimisations#3, NumberofRecords#4, OccurrenceDayOfWeek#5, Weapon#6, YearMonth#7, areaIndex#721, regionIndex#732, occurDayIndex#744, weaponIndex#757, yearMonthIndex#771, areaVec#786, regionVec#802, if (isnull(cast(occurDayIndex#744 as double))) null else UDF(cast(occurDayIndex#744 as double)) AS occurDayVec#819]\\n            +- Project [ANZSOCGroup#0, MapDetailName#1, Region#2, NumberofVictimisations#3, NumberofRecords#4, OccurrenceDayOfWeek#5, Weapon#6, YearMonth#7, areaIndex#721, regionIndex#732, occurDayIndex#744, weaponIndex#757, yearMonthIndex#771, areaVec#786, if (isnull(cast(regionIndex#732 as double))) null else UDF(cast(regionIndex#732 as double)) AS regionVec#802]\\n               +- Project [ANZSOCGroup#0, MapDetailName#1, Region#2, NumberofVictimisations#3, NumberofRecords#4, OccurrenceDayOfWeek#5, Weapon#6, YearMonth#7, areaIndex#721, regionIndex#732, occurDayIndex#744, weaponIndex#757, yearMonthIndex#771, if (isnull(cast(areaIndex#721 as double))) null else UDF(cast(areaIndex#721 as double)) AS areaVec#786]\\n                  +- Project [ANZSOCGroup#0, MapDetailName#1, Region#2, NumberofVictimisations#3, NumberofRecords#4, OccurrenceDayOfWeek#5, Weapon#6, YearMonth#7, areaIndex#721, regionIndex#732, occurDayIndex#744, weaponIndex#757, UDF(cast(YearMonth#7 as string)) AS yearMonthIndex#771]\\n                     +- Project [ANZSOCGroup#0, MapDetailName#1, Region#2, NumberofVictimisations#3, NumberofRecords#4, OccurrenceDayOfWeek#5, Weapon#6, YearMonth#7, areaIndex#721, regionIndex#732, occurDayIndex#744, UDF(cast(Weapon#6 as string)) AS weaponIndex#757]\\n                        +- Project [ANZSOCGroup#0, MapDetailName#1, Region#2, NumberofVictimisations#3, NumberofRecords#4, OccurrenceDayOfWeek#5, Weapon#6, YearMonth#7, areaIndex#721, regionIndex#732, UDF(cast(OccurrenceDayOfWeek#5 as string)) AS occurDayIndex#744]\\n                           +- Project [ANZSOCGroup#0, MapDetailName#1, Region#2, NumberofVictimisations#3, NumberofRecords#4, OccurrenceDayOfWeek#5, Weapon#6, YearMonth#7, areaIndex#721, UDF(cast(Region#2 as string)) AS regionIndex#732]\\n                              +- Project [ANZSOCGroup#0, MapDetailName#1, Region#2, NumberofVictimisations#3, NumberofRecords#4, OccurrenceDayOfWeek#5, Weapon#6, YearMonth#7, UDF(cast(MapDetailName#1 as string)) AS areaIndex#721]\\n                                 +- Sort [Region#2 ASC NULLS FIRST], true\\n                                    +- Sort [ANZSOCGroup#0 ASC NULLS FIRST], true\\n                                       +- Filter AtLeastNNulls(n, ANZSOCGroup#0,MapDetailName#1,Region#2,NumberofVictimisations#3,NumberofRecords#4,OccurrenceDayOfWeek#5,Weapon#6,YearMonth#7)\\n                                          +- Relation[ANZSOCGroup#0,MapDetailName#1,Region#2,NumberofVictimisations#3,NumberofRecords#4,OccurrenceDayOfWeek#5,Weapon#6,YearMonth#7] csv\\n\""
     ]
    }
   ],
   "source": [
    "from pyspark.ml import Pipeline\n",
    "\n",
    "# Go through each columns to pipeline\n",
    "pipeline = Pipeline(stages=[areaName_indexer, region_indexer, occurDay_indexer, weapon_indexer, yearMonth_indexer, \n",
    "                            areaName_encoder, region_encoder, occurDay_encoder, weapon_encoder, yearMonth_encoder,\n",
    "                            assembler])\n",
    "\n",
    "# Apply it to the data.\n",
    "pipeline_model = pipeline.fit(sortedTable)\n",
    "\n",
    "# Incorporate results into a new DataFrame.\n",
    "pipe_df = pipeline_model.transform(sortedTable)\n",
    "\n",
    "# Remove all variables other than features and label. \n",
    "pipe_df = pipe_df.select('label', 'features')"
   ]
  },
  {
   "cell_type": "code",
   "execution_count": null,
   "metadata": {},
   "outputs": [],
   "source": []
  }
 ],
 "metadata": {
  "kernelspec": {
   "display_name": "Python 3",
   "language": "python",
   "name": "python3"
  },
  "language_info": {
   "codemirror_mode": {
    "name": "ipython",
    "version": 3
   },
   "file_extension": ".py",
   "mimetype": "text/x-python",
   "name": "python",
   "nbconvert_exporter": "python",
   "pygments_lexer": "ipython3",
   "version": "3.5.2"
  }
 },
 "nbformat": 4,
 "nbformat_minor": 2
}
