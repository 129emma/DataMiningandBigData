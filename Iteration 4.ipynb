{
 "cells": [
  {
   "cell_type": "markdown",
   "metadata": {},
   "source": [
    "# Iteration 4_INFOSYS 722  \n",
    "yzhb363 Emma"
   ]
  },
  {
   "cell_type": "markdown",
   "metadata": {},
   "source": [
    "- This part starts from Data Preparation of Iteration 4\n",
    "- I will number each relevant cell as answers\n",
    "- please run **all cells** at the same time, since all packages are imported at the begining"
   ]
  },
  {
   "cell_type": "code",
   "execution_count": 3,
   "metadata": {},
   "outputs": [],
   "source": [
    "import findspark\n",
    "findspark.init('/home/ubuntu/spark-2.1.1-bin-hadoop2.7')\n",
    "import pyspark\n",
    "from pyspark.sql import SparkSession\n",
    "from pyspark.sql import Row\n",
    "from pyspark.sql.functions import format_number, col\n",
    "\n",
    "spark = SparkSession.builder.appName('iteration4').getOrCreate()"
   ]
  },
  {
   "cell_type": "code",
   "execution_count": 4,
   "metadata": {},
   "outputs": [],
   "source": [
    "# Import pandas.\n",
    "import pandas as pd"
   ]
  },
  {
   "cell_type": "code",
   "execution_count": 5,
   "metadata": {},
   "outputs": [],
   "source": [
    "# Import dataset \n",
    "dataFrame = spark.read.csv('Dataset/data.csv',header=True,inferSchema=True)"
   ]
  },
  {
   "cell_type": "code",
   "execution_count": 6,
   "metadata": {
    "scrolled": false
   },
   "outputs": [
    {
     "data": {
      "text/html": [
       "<div>\n",
       "<style scoped>\n",
       "    .dataframe tbody tr th:only-of-type {\n",
       "        vertical-align: middle;\n",
       "    }\n",
       "\n",
       "    .dataframe tbody tr th {\n",
       "        vertical-align: top;\n",
       "    }\n",
       "\n",
       "    .dataframe thead th {\n",
       "        text-align: right;\n",
       "    }\n",
       "</style>\n",
       "<table border=\"1\" class=\"dataframe\">\n",
       "  <thead>\n",
       "    <tr style=\"text-align: right;\">\n",
       "      <th></th>\n",
       "      <th>ANZSOCGroup</th>\n",
       "      <th>MapDetailName</th>\n",
       "      <th>Region</th>\n",
       "      <th>NumberofVictimisations</th>\n",
       "      <th>NumberofRecords</th>\n",
       "      <th>OccurrenceDayOfWeek</th>\n",
       "      <th>Weapon</th>\n",
       "      <th>YearMonth</th>\n",
       "    </tr>\n",
       "  </thead>\n",
       "  <tbody>\n",
       "    <tr>\n",
       "      <th>0</th>\n",
       "      <td>AggravatedSexualAssault</td>\n",
       "      <td>HillcrestWest.</td>\n",
       "      <td>WaikatoRegion</td>\n",
       "      <td>1</td>\n",
       "      <td>1</td>\n",
       "      <td>UNKNOWN</td>\n",
       "      <td>NotApplicable</td>\n",
       "      <td>1/07/14</td>\n",
       "    </tr>\n",
       "    <tr>\n",
       "      <th>1</th>\n",
       "      <td>Non-AggravatedSexualAssault</td>\n",
       "      <td>TeAwamutuCentral.</td>\n",
       "      <td>WaikatoRegion</td>\n",
       "      <td>1</td>\n",
       "      <td>1</td>\n",
       "      <td>Sun</td>\n",
       "      <td>NotApplicable</td>\n",
       "      <td>1/07/14</td>\n",
       "    </tr>\n",
       "    <tr>\n",
       "      <th>2</th>\n",
       "      <td>AggravatedSexualAssault</td>\n",
       "      <td>TotaraHeights.</td>\n",
       "      <td>AucklandRegion</td>\n",
       "      <td>1</td>\n",
       "      <td>1</td>\n",
       "      <td>Tue</td>\n",
       "      <td>NotStated</td>\n",
       "      <td>1/07/14</td>\n",
       "    </tr>\n",
       "    <tr>\n",
       "      <th>3</th>\n",
       "      <td>AggravatedSexualAssault</td>\n",
       "      <td>FlaxmereEast.</td>\n",
       "      <td>Hawke'sBayRegion</td>\n",
       "      <td>1</td>\n",
       "      <td>1</td>\n",
       "      <td>Sun</td>\n",
       "      <td>NotStated</td>\n",
       "      <td>1/07/14</td>\n",
       "    </tr>\n",
       "    <tr>\n",
       "      <th>4</th>\n",
       "      <td>AggravatedSexualAssault</td>\n",
       "      <td>Wairoa.</td>\n",
       "      <td>Hawke'sBayRegion</td>\n",
       "      <td>1</td>\n",
       "      <td>1</td>\n",
       "      <td>UNKNOWN</td>\n",
       "      <td>NotStated</td>\n",
       "      <td>1/07/14</td>\n",
       "    </tr>\n",
       "    <tr>\n",
       "      <th>5</th>\n",
       "      <td>AggravatedSexualAssault</td>\n",
       "      <td>Wairoa.</td>\n",
       "      <td>Hawke'sBayRegion</td>\n",
       "      <td>1</td>\n",
       "      <td>1</td>\n",
       "      <td>UNKNOWN</td>\n",
       "      <td>NotStated</td>\n",
       "      <td>1/07/14</td>\n",
       "    </tr>\n",
       "    <tr>\n",
       "      <th>6</th>\n",
       "      <td>AggravatedSexualAssault</td>\n",
       "      <td>Brentwood.</td>\n",
       "      <td>WellingtonRegion</td>\n",
       "      <td>1</td>\n",
       "      <td>1</td>\n",
       "      <td>UNKNOWN</td>\n",
       "      <td>NotStated</td>\n",
       "      <td>1/07/14</td>\n",
       "    </tr>\n",
       "    <tr>\n",
       "      <th>7</th>\n",
       "      <td>AggravatedSexualAssault</td>\n",
       "      <td>GlenEdenEast.</td>\n",
       "      <td>AucklandRegion</td>\n",
       "      <td>1</td>\n",
       "      <td>1</td>\n",
       "      <td>Mon</td>\n",
       "      <td>NotStated</td>\n",
       "      <td>1/07/14</td>\n",
       "    </tr>\n",
       "    <tr>\n",
       "      <th>8</th>\n",
       "      <td>AggravatedSexualAssault</td>\n",
       "      <td>GraftonEast.</td>\n",
       "      <td>AucklandRegion</td>\n",
       "      <td>1</td>\n",
       "      <td>1</td>\n",
       "      <td>Mon</td>\n",
       "      <td>NotStated</td>\n",
       "      <td>1/07/14</td>\n",
       "    </tr>\n",
       "    <tr>\n",
       "      <th>9</th>\n",
       "      <td>AggravatedSexualAssault</td>\n",
       "      <td>PukekoheNorth.</td>\n",
       "      <td>AucklandRegion</td>\n",
       "      <td>1</td>\n",
       "      <td>1</td>\n",
       "      <td>Wed</td>\n",
       "      <td>NotApplicable</td>\n",
       "      <td>1/09/14</td>\n",
       "    </tr>\n",
       "    <tr>\n",
       "      <th>10</th>\n",
       "      <td>AggravatedSexualAssault</td>\n",
       "      <td>Wiri.</td>\n",
       "      <td>AucklandRegion</td>\n",
       "      <td>1</td>\n",
       "      <td>1</td>\n",
       "      <td>Sat</td>\n",
       "      <td>NotApplicable</td>\n",
       "      <td>1/09/14</td>\n",
       "    </tr>\n",
       "    <tr>\n",
       "      <th>11</th>\n",
       "      <td>AggravatedSexualAssault</td>\n",
       "      <td>MellonsBay.</td>\n",
       "      <td>AucklandRegion</td>\n",
       "      <td>1</td>\n",
       "      <td>1</td>\n",
       "      <td>UNKNOWN</td>\n",
       "      <td>NotApplicable</td>\n",
       "      <td>1/09/14</td>\n",
       "    </tr>\n",
       "    <tr>\n",
       "      <th>12</th>\n",
       "      <td>AggravatedSexualAssault</td>\n",
       "      <td>StarlingPark.</td>\n",
       "      <td>AucklandRegion</td>\n",
       "      <td>1</td>\n",
       "      <td>1</td>\n",
       "      <td>Mon</td>\n",
       "      <td>NotApplicable</td>\n",
       "      <td>1/09/14</td>\n",
       "    </tr>\n",
       "    <tr>\n",
       "      <th>13</th>\n",
       "      <td>AggravatedSexualAssault</td>\n",
       "      <td>AucklandHarbourside.</td>\n",
       "      <td>AucklandRegion</td>\n",
       "      <td>1</td>\n",
       "      <td>1</td>\n",
       "      <td>Mon</td>\n",
       "      <td>NotApplicable</td>\n",
       "      <td>1/09/14</td>\n",
       "    </tr>\n",
       "    <tr>\n",
       "      <th>14</th>\n",
       "      <td>AggravatedSexualAssault</td>\n",
       "      <td>AucklandCentralWest.</td>\n",
       "      <td>AucklandRegion</td>\n",
       "      <td>1</td>\n",
       "      <td>1</td>\n",
       "      <td>Sat</td>\n",
       "      <td>NotStated</td>\n",
       "      <td>1/09/14</td>\n",
       "    </tr>\n",
       "    <tr>\n",
       "      <th>15</th>\n",
       "      <td>AggravatedSexualAssault</td>\n",
       "      <td>AucklandCentralEast.</td>\n",
       "      <td>AucklandRegion</td>\n",
       "      <td>1</td>\n",
       "      <td>1</td>\n",
       "      <td>UNKNOWN</td>\n",
       "      <td>NotStated</td>\n",
       "      <td>1/09/14</td>\n",
       "    </tr>\n",
       "    <tr>\n",
       "      <th>16</th>\n",
       "      <td>Non-AggravatedSexualAssault</td>\n",
       "      <td>TakapunaCentral.</td>\n",
       "      <td>AucklandRegion</td>\n",
       "      <td>1</td>\n",
       "      <td>1</td>\n",
       "      <td>Fri</td>\n",
       "      <td>NotApplicable</td>\n",
       "      <td>1/09/14</td>\n",
       "    </tr>\n",
       "    <tr>\n",
       "      <th>17</th>\n",
       "      <td>AggravatedSexualAssault</td>\n",
       "      <td>CathedralSquare.</td>\n",
       "      <td>CanterburyRegion</td>\n",
       "      <td>1</td>\n",
       "      <td>1</td>\n",
       "      <td>Tue</td>\n",
       "      <td>NotApplicable</td>\n",
       "      <td>1/09/14</td>\n",
       "    </tr>\n",
       "    <tr>\n",
       "      <th>18</th>\n",
       "      <td>AggravatedSexualAssault</td>\n",
       "      <td>CathedralSquare.</td>\n",
       "      <td>CanterburyRegion</td>\n",
       "      <td>1</td>\n",
       "      <td>1</td>\n",
       "      <td>Tue</td>\n",
       "      <td>NotStated</td>\n",
       "      <td>1/09/14</td>\n",
       "    </tr>\n",
       "    <tr>\n",
       "      <th>19</th>\n",
       "      <td>Non-AggravatedSexualAssault</td>\n",
       "      <td>NewtownEast.</td>\n",
       "      <td>WellingtonRegion</td>\n",
       "      <td>3</td>\n",
       "      <td>1</td>\n",
       "      <td>UNKNOWN</td>\n",
       "      <td>NotApplicable</td>\n",
       "      <td>1/09/14</td>\n",
       "    </tr>\n",
       "  </tbody>\n",
       "</table>\n",
       "</div>"
      ],
      "text/plain": [
       "                    ANZSOCGroup         MapDetailName            Region  \\\n",
       "0       AggravatedSexualAssault        HillcrestWest.     WaikatoRegion   \n",
       "1   Non-AggravatedSexualAssault     TeAwamutuCentral.     WaikatoRegion   \n",
       "2       AggravatedSexualAssault        TotaraHeights.    AucklandRegion   \n",
       "3       AggravatedSexualAssault         FlaxmereEast.  Hawke'sBayRegion   \n",
       "4       AggravatedSexualAssault               Wairoa.  Hawke'sBayRegion   \n",
       "5       AggravatedSexualAssault               Wairoa.  Hawke'sBayRegion   \n",
       "6       AggravatedSexualAssault            Brentwood.  WellingtonRegion   \n",
       "7       AggravatedSexualAssault         GlenEdenEast.    AucklandRegion   \n",
       "8       AggravatedSexualAssault          GraftonEast.    AucklandRegion   \n",
       "9       AggravatedSexualAssault        PukekoheNorth.    AucklandRegion   \n",
       "10      AggravatedSexualAssault                 Wiri.    AucklandRegion   \n",
       "11      AggravatedSexualAssault           MellonsBay.    AucklandRegion   \n",
       "12      AggravatedSexualAssault         StarlingPark.    AucklandRegion   \n",
       "13      AggravatedSexualAssault  AucklandHarbourside.    AucklandRegion   \n",
       "14      AggravatedSexualAssault  AucklandCentralWest.    AucklandRegion   \n",
       "15      AggravatedSexualAssault  AucklandCentralEast.    AucklandRegion   \n",
       "16  Non-AggravatedSexualAssault      TakapunaCentral.    AucklandRegion   \n",
       "17      AggravatedSexualAssault      CathedralSquare.  CanterburyRegion   \n",
       "18      AggravatedSexualAssault      CathedralSquare.  CanterburyRegion   \n",
       "19  Non-AggravatedSexualAssault          NewtownEast.  WellingtonRegion   \n",
       "\n",
       "    NumberofVictimisations  NumberofRecords OccurrenceDayOfWeek  \\\n",
       "0                        1                1             UNKNOWN   \n",
       "1                        1                1                 Sun   \n",
       "2                        1                1                 Tue   \n",
       "3                        1                1                 Sun   \n",
       "4                        1                1             UNKNOWN   \n",
       "5                        1                1             UNKNOWN   \n",
       "6                        1                1             UNKNOWN   \n",
       "7                        1                1                 Mon   \n",
       "8                        1                1                 Mon   \n",
       "9                        1                1                 Wed   \n",
       "10                       1                1                 Sat   \n",
       "11                       1                1             UNKNOWN   \n",
       "12                       1                1                 Mon   \n",
       "13                       1                1                 Mon   \n",
       "14                       1                1                 Sat   \n",
       "15                       1                1             UNKNOWN   \n",
       "16                       1                1                 Fri   \n",
       "17                       1                1                 Tue   \n",
       "18                       1                1                 Tue   \n",
       "19                       3                1             UNKNOWN   \n",
       "\n",
       "           Weapon YearMonth  \n",
       "0   NotApplicable   1/07/14  \n",
       "1   NotApplicable   1/07/14  \n",
       "2       NotStated   1/07/14  \n",
       "3       NotStated   1/07/14  \n",
       "4       NotStated   1/07/14  \n",
       "5       NotStated   1/07/14  \n",
       "6       NotStated   1/07/14  \n",
       "7       NotStated   1/07/14  \n",
       "8       NotStated   1/07/14  \n",
       "9   NotApplicable   1/09/14  \n",
       "10  NotApplicable   1/09/14  \n",
       "11  NotApplicable   1/09/14  \n",
       "12  NotApplicable   1/09/14  \n",
       "13  NotApplicable   1/09/14  \n",
       "14      NotStated   1/09/14  \n",
       "15      NotStated   1/09/14  \n",
       "16  NotApplicable   1/09/14  \n",
       "17  NotApplicable   1/09/14  \n",
       "18      NotStated   1/09/14  \n",
       "19  NotApplicable   1/09/14  "
      ]
     },
     "execution_count": 6,
     "metadata": {},
     "output_type": "execute_result"
    }
   ],
   "source": [
    "# Show the dataset\n",
    "pd.DataFrame(dataFrame.take(20), columns=dataFrame.columns)"
   ]
  },
  {
   "cell_type": "markdown",
   "metadata": {},
   "source": [
    "## 2.3 Data Exploration"
   ]
  },
  {
   "cell_type": "code",
   "execution_count": 7,
   "metadata": {
    "scrolled": false
   },
   "outputs": [
    {
     "name": "stdout",
     "output_type": "stream",
     "text": [
      "+-------+--------------------+-------------+---------------+----------------------+---------------+-------------------+-----------+---------+\n",
      "|summary|         ANZSOCGroup|MapDetailName|         Region|NumberofVictimisations|NumberofRecords|OccurrenceDayOfWeek|     Weapon|YearMonth|\n",
      "+-------+--------------------+-------------+---------------+----------------------+---------------+-------------------+-----------+---------+\n",
      "|  count|                8354|         7734|           7734|                  8354|           8354|               8354|       8354|     8354|\n",
      "|   mean|                null|         null|           null|    0.9547522145080201|            1.0|               null|       null|     null|\n",
      "| stddev|                null|         null|           null|      0.52938282883613|            0.0|               null|       null|     null|\n",
      "|    min|AggravatedSexualA...|  AbbeyCaves.| AucklandRegion|                     0|              1|                Fri|   Bludgeon|  1/01/15|\n",
      "|    max|Non-AggravatedSex...|  YattonPark.|WestCoastRegion|                    36|              1|                Wed|OtherWeapon|  1/12/17|\n",
      "+-------+--------------------+-------------+---------------+----------------------+---------------+-------------------+-----------+---------+\n",
      "\n"
     ]
    }
   ],
   "source": [
    "# Computer summary of the data\n",
    "dataFrame.describe().show()"
   ]
  },
  {
   "cell_type": "code",
   "execution_count": 8,
   "metadata": {},
   "outputs": [
    {
     "data": {
      "text/html": [
       "<div>\n",
       "<style scoped>\n",
       "    .dataframe tbody tr th:only-of-type {\n",
       "        vertical-align: middle;\n",
       "    }\n",
       "\n",
       "    .dataframe tbody tr th {\n",
       "        vertical-align: top;\n",
       "    }\n",
       "\n",
       "    .dataframe thead th {\n",
       "        text-align: right;\n",
       "    }\n",
       "</style>\n",
       "<table border=\"1\" class=\"dataframe\">\n",
       "  <thead>\n",
       "    <tr style=\"text-align: right;\">\n",
       "      <th></th>\n",
       "      <th>ANZSOCGroup</th>\n",
       "      <th>count</th>\n",
       "    </tr>\n",
       "  </thead>\n",
       "  <tbody>\n",
       "    <tr>\n",
       "      <th>0</th>\n",
       "      <td>AggravatedSexualAssault</td>\n",
       "      <td>6199</td>\n",
       "    </tr>\n",
       "    <tr>\n",
       "      <th>1</th>\n",
       "      <td>Non-AggravatedSexualAssault</td>\n",
       "      <td>2155</td>\n",
       "    </tr>\n",
       "  </tbody>\n",
       "</table>\n",
       "</div>"
      ],
      "text/plain": [
       "                   ANZSOCGroup  count\n",
       "0      AggravatedSexualAssault   6199\n",
       "1  Non-AggravatedSexualAssault   2155"
      ]
     },
     "execution_count": 8,
     "metadata": {},
     "output_type": "execute_result"
    }
   ],
   "source": [
    "dataFrame.groupBy('ANZSOCGroup').count().orderBy(col('count').desc()).toPandas()"
   ]
  },
  {
   "cell_type": "code",
   "execution_count": 9,
   "metadata": {},
   "outputs": [
    {
     "data": {
      "text/html": [
       "<div>\n",
       "<style scoped>\n",
       "    .dataframe tbody tr th:only-of-type {\n",
       "        vertical-align: middle;\n",
       "    }\n",
       "\n",
       "    .dataframe tbody tr th {\n",
       "        vertical-align: top;\n",
       "    }\n",
       "\n",
       "    .dataframe thead th {\n",
       "        text-align: right;\n",
       "    }\n",
       "</style>\n",
       "<table border=\"1\" class=\"dataframe\">\n",
       "  <thead>\n",
       "    <tr style=\"text-align: right;\">\n",
       "      <th></th>\n",
       "      <th>Region</th>\n",
       "      <th>count</th>\n",
       "    </tr>\n",
       "  </thead>\n",
       "  <tbody>\n",
       "    <tr>\n",
       "      <th>0</th>\n",
       "      <td>AucklandRegion</td>\n",
       "      <td>2354</td>\n",
       "    </tr>\n",
       "    <tr>\n",
       "      <th>1</th>\n",
       "      <td>CanterburyRegion</td>\n",
       "      <td>1025</td>\n",
       "    </tr>\n",
       "    <tr>\n",
       "      <th>2</th>\n",
       "      <td>WellingtonRegion</td>\n",
       "      <td>829</td>\n",
       "    </tr>\n",
       "    <tr>\n",
       "      <th>3</th>\n",
       "      <td>WaikatoRegion</td>\n",
       "      <td>751</td>\n",
       "    </tr>\n",
       "    <tr>\n",
       "      <th>4</th>\n",
       "      <td>None</td>\n",
       "      <td>620</td>\n",
       "    </tr>\n",
       "    <tr>\n",
       "      <th>5</th>\n",
       "      <td>BayofPlentyRegion</td>\n",
       "      <td>491</td>\n",
       "    </tr>\n",
       "    <tr>\n",
       "      <th>6</th>\n",
       "      <td>Manawatu-WanganuiRegion</td>\n",
       "      <td>468</td>\n",
       "    </tr>\n",
       "    <tr>\n",
       "      <th>7</th>\n",
       "      <td>OtagoRegion</td>\n",
       "      <td>402</td>\n",
       "    </tr>\n",
       "    <tr>\n",
       "      <th>8</th>\n",
       "      <td>Hawke'sBayRegion</td>\n",
       "      <td>397</td>\n",
       "    </tr>\n",
       "    <tr>\n",
       "      <th>9</th>\n",
       "      <td>NorthlandRegion</td>\n",
       "      <td>290</td>\n",
       "    </tr>\n",
       "    <tr>\n",
       "      <th>10</th>\n",
       "      <td>TaranakiRegion</td>\n",
       "      <td>197</td>\n",
       "    </tr>\n",
       "    <tr>\n",
       "      <th>11</th>\n",
       "      <td>SouthlandRegion</td>\n",
       "      <td>125</td>\n",
       "    </tr>\n",
       "    <tr>\n",
       "      <th>12</th>\n",
       "      <td>NelsonRegion</td>\n",
       "      <td>124</td>\n",
       "    </tr>\n",
       "    <tr>\n",
       "      <th>13</th>\n",
       "      <td>GisborneRegion</td>\n",
       "      <td>99</td>\n",
       "    </tr>\n",
       "    <tr>\n",
       "      <th>14</th>\n",
       "      <td>TasmanRegion</td>\n",
       "      <td>67</td>\n",
       "    </tr>\n",
       "    <tr>\n",
       "      <th>15</th>\n",
       "      <td>MarlboroughRegion</td>\n",
       "      <td>64</td>\n",
       "    </tr>\n",
       "    <tr>\n",
       "      <th>16</th>\n",
       "      <td>WestCoastRegion</td>\n",
       "      <td>51</td>\n",
       "    </tr>\n",
       "  </tbody>\n",
       "</table>\n",
       "</div>"
      ],
      "text/plain": [
       "                     Region  count\n",
       "0            AucklandRegion   2354\n",
       "1          CanterburyRegion   1025\n",
       "2          WellingtonRegion    829\n",
       "3             WaikatoRegion    751\n",
       "4                      None    620\n",
       "5         BayofPlentyRegion    491\n",
       "6   Manawatu-WanganuiRegion    468\n",
       "7               OtagoRegion    402\n",
       "8          Hawke'sBayRegion    397\n",
       "9           NorthlandRegion    290\n",
       "10           TaranakiRegion    197\n",
       "11          SouthlandRegion    125\n",
       "12             NelsonRegion    124\n",
       "13           GisborneRegion     99\n",
       "14             TasmanRegion     67\n",
       "15        MarlboroughRegion     64\n",
       "16          WestCoastRegion     51"
      ]
     },
     "execution_count": 9,
     "metadata": {},
     "output_type": "execute_result"
    }
   ],
   "source": [
    "dataFrame.groupBy('Region').count().orderBy(col('count').desc()).toPandas()"
   ]
  },
  {
   "cell_type": "markdown",
   "metadata": {},
   "source": [
    "## 3 Data  Preparation\n",
    "### 3.2 To clean the data, issues must be made explicit, then explicitly resolved."
   ]
  },
  {
   "cell_type": "code",
   "execution_count": 10,
   "metadata": {
    "scrolled": true
   },
   "outputs": [],
   "source": [
    "# Drop null values with their rows\n",
    "droppedTable = dataFrame.na.drop()"
   ]
  },
  {
   "cell_type": "code",
   "execution_count": 11,
   "metadata": {},
   "outputs": [
    {
     "name": "stdout",
     "output_type": "stream",
     "text": [
      "+--------------------+--------------------+----------------+-------------------+\n",
      "|         ANZSOCGroup|       MapDetailName|          Region|OccurrenceDayOfWeek|\n",
      "+--------------------+--------------------+----------------+-------------------+\n",
      "|Non-AggravatedSex...|   TeAwamutuCentral.|   WaikatoRegion|                Sun|\n",
      "|AggravatedSexualA...|      TotaraHeights.|  AucklandRegion|                Tue|\n",
      "|AggravatedSexualA...|       FlaxmereEast.|Hawke'sBayRegion|                Sun|\n",
      "|AggravatedSexualA...|       GlenEdenEast.|  AucklandRegion|                Mon|\n",
      "|AggravatedSexualA...|        GraftonEast.|  AucklandRegion|                Mon|\n",
      "|AggravatedSexualA...|      PukekoheNorth.|  AucklandRegion|                Wed|\n",
      "|AggravatedSexualA...|               Wiri.|  AucklandRegion|                Sat|\n",
      "|AggravatedSexualA...|       StarlingPark.|  AucklandRegion|                Mon|\n",
      "|AggravatedSexualA...|AucklandHarbourside.|  AucklandRegion|                Mon|\n",
      "|AggravatedSexualA...|AucklandCentralWest.|  AucklandRegion|                Sat|\n",
      "|Non-AggravatedSex...|    TakapunaCentral.|  AucklandRegion|                Fri|\n",
      "|AggravatedSexualA...|    CathedralSquare.|CanterburyRegion|                Tue|\n",
      "|AggravatedSexualA...|    CathedralSquare.|CanterburyRegion|                Tue|\n",
      "|Non-AggravatedSex...|        LinwoodEast.|CanterburyRegion|                Wed|\n",
      "|Non-AggravatedSex...|             Nawton.|   WaikatoRegion|                Sun|\n",
      "|AggravatedSexualA...|OtorohangaRuralEast.|   WaikatoRegion|                Mon|\n",
      "|Non-AggravatedSex...|OtorohangaRuralEast.|   WaikatoRegion|                Mon|\n",
      "|AggravatedSexualA...|        MtEdenNorth.|  AucklandRegion|                Mon|\n",
      "|AggravatedSexualA...|       FlaxmereEast.|Hawke'sBayRegion|                Fri|\n",
      "|AggravatedSexualA...|         StLeonards.|Hawke'sBayRegion|                Mon|\n",
      "+--------------------+--------------------+----------------+-------------------+\n",
      "only showing top 20 rows\n",
      "\n"
     ]
    }
   ],
   "source": [
    "# Remove the columns that do not need \n",
    "dropList = ['NumberofVictimisations','NumberofRecords','Weapon','YearMonth']\n",
    "\n",
    "newData = droppedTable.select([column for column in droppedTable.columns if column not in dropList])\n",
    "\n",
    "# Drop rows with UNKOWN occurrenceDayofWeek\n",
    "newData = newData.filter(~col('OccurrenceDayOfWeek').isin(['UNKNOWN']))\n",
    "\n",
    "newData.show()"
   ]
  },
  {
   "cell_type": "code",
   "execution_count": 12,
   "metadata": {},
   "outputs": [],
   "source": [
    "# Change column name\n",
    "cleanData = newData.selectExpr('ANZSOCGroup as AssaultType', 'Region as Region', \n",
    "                               'MapDetailName as District', 'OccurrenceDayOfWeek as DayofWeek')"
   ]
  },
  {
   "cell_type": "code",
   "execution_count": 13,
   "metadata": {},
   "outputs": [
    {
     "name": "stdout",
     "output_type": "stream",
     "text": [
      "Total data columns before cleaning: 8354\n",
      "Total data columns after cleaning: 6057\n"
     ]
    },
    {
     "data": {
      "text/html": [
       "<div>\n",
       "<style scoped>\n",
       "    .dataframe tbody tr th:only-of-type {\n",
       "        vertical-align: middle;\n",
       "    }\n",
       "\n",
       "    .dataframe tbody tr th {\n",
       "        vertical-align: top;\n",
       "    }\n",
       "\n",
       "    .dataframe thead th {\n",
       "        text-align: right;\n",
       "    }\n",
       "</style>\n",
       "<table border=\"1\" class=\"dataframe\">\n",
       "  <thead>\n",
       "    <tr style=\"text-align: right;\">\n",
       "      <th></th>\n",
       "      <th>AssaultType</th>\n",
       "      <th>Region</th>\n",
       "      <th>District</th>\n",
       "      <th>DayofWeek</th>\n",
       "    </tr>\n",
       "  </thead>\n",
       "  <tbody>\n",
       "    <tr>\n",
       "      <th>0</th>\n",
       "      <td>Non-AggravatedSexualAssault</td>\n",
       "      <td>TeAwamutuCentral.</td>\n",
       "      <td>WaikatoRegion</td>\n",
       "      <td>Sun</td>\n",
       "    </tr>\n",
       "    <tr>\n",
       "      <th>1</th>\n",
       "      <td>AggravatedSexualAssault</td>\n",
       "      <td>TotaraHeights.</td>\n",
       "      <td>AucklandRegion</td>\n",
       "      <td>Tue</td>\n",
       "    </tr>\n",
       "    <tr>\n",
       "      <th>2</th>\n",
       "      <td>AggravatedSexualAssault</td>\n",
       "      <td>FlaxmereEast.</td>\n",
       "      <td>Hawke'sBayRegion</td>\n",
       "      <td>Sun</td>\n",
       "    </tr>\n",
       "    <tr>\n",
       "      <th>3</th>\n",
       "      <td>AggravatedSexualAssault</td>\n",
       "      <td>GlenEdenEast.</td>\n",
       "      <td>AucklandRegion</td>\n",
       "      <td>Mon</td>\n",
       "    </tr>\n",
       "    <tr>\n",
       "      <th>4</th>\n",
       "      <td>AggravatedSexualAssault</td>\n",
       "      <td>GraftonEast.</td>\n",
       "      <td>AucklandRegion</td>\n",
       "      <td>Mon</td>\n",
       "    </tr>\n",
       "    <tr>\n",
       "      <th>5</th>\n",
       "      <td>AggravatedSexualAssault</td>\n",
       "      <td>PukekoheNorth.</td>\n",
       "      <td>AucklandRegion</td>\n",
       "      <td>Wed</td>\n",
       "    </tr>\n",
       "    <tr>\n",
       "      <th>6</th>\n",
       "      <td>AggravatedSexualAssault</td>\n",
       "      <td>Wiri.</td>\n",
       "      <td>AucklandRegion</td>\n",
       "      <td>Sat</td>\n",
       "    </tr>\n",
       "    <tr>\n",
       "      <th>7</th>\n",
       "      <td>AggravatedSexualAssault</td>\n",
       "      <td>StarlingPark.</td>\n",
       "      <td>AucklandRegion</td>\n",
       "      <td>Mon</td>\n",
       "    </tr>\n",
       "    <tr>\n",
       "      <th>8</th>\n",
       "      <td>AggravatedSexualAssault</td>\n",
       "      <td>AucklandHarbourside.</td>\n",
       "      <td>AucklandRegion</td>\n",
       "      <td>Mon</td>\n",
       "    </tr>\n",
       "    <tr>\n",
       "      <th>9</th>\n",
       "      <td>AggravatedSexualAssault</td>\n",
       "      <td>AucklandCentralWest.</td>\n",
       "      <td>AucklandRegion</td>\n",
       "      <td>Sat</td>\n",
       "    </tr>\n",
       "    <tr>\n",
       "      <th>10</th>\n",
       "      <td>Non-AggravatedSexualAssault</td>\n",
       "      <td>TakapunaCentral.</td>\n",
       "      <td>AucklandRegion</td>\n",
       "      <td>Fri</td>\n",
       "    </tr>\n",
       "    <tr>\n",
       "      <th>11</th>\n",
       "      <td>AggravatedSexualAssault</td>\n",
       "      <td>CathedralSquare.</td>\n",
       "      <td>CanterburyRegion</td>\n",
       "      <td>Tue</td>\n",
       "    </tr>\n",
       "    <tr>\n",
       "      <th>12</th>\n",
       "      <td>AggravatedSexualAssault</td>\n",
       "      <td>CathedralSquare.</td>\n",
       "      <td>CanterburyRegion</td>\n",
       "      <td>Tue</td>\n",
       "    </tr>\n",
       "    <tr>\n",
       "      <th>13</th>\n",
       "      <td>Non-AggravatedSexualAssault</td>\n",
       "      <td>LinwoodEast.</td>\n",
       "      <td>CanterburyRegion</td>\n",
       "      <td>Wed</td>\n",
       "    </tr>\n",
       "    <tr>\n",
       "      <th>14</th>\n",
       "      <td>Non-AggravatedSexualAssault</td>\n",
       "      <td>Nawton.</td>\n",
       "      <td>WaikatoRegion</td>\n",
       "      <td>Sun</td>\n",
       "    </tr>\n",
       "    <tr>\n",
       "      <th>15</th>\n",
       "      <td>AggravatedSexualAssault</td>\n",
       "      <td>OtorohangaRuralEast.</td>\n",
       "      <td>WaikatoRegion</td>\n",
       "      <td>Mon</td>\n",
       "    </tr>\n",
       "    <tr>\n",
       "      <th>16</th>\n",
       "      <td>Non-AggravatedSexualAssault</td>\n",
       "      <td>OtorohangaRuralEast.</td>\n",
       "      <td>WaikatoRegion</td>\n",
       "      <td>Mon</td>\n",
       "    </tr>\n",
       "    <tr>\n",
       "      <th>17</th>\n",
       "      <td>AggravatedSexualAssault</td>\n",
       "      <td>MtEdenNorth.</td>\n",
       "      <td>AucklandRegion</td>\n",
       "      <td>Mon</td>\n",
       "    </tr>\n",
       "    <tr>\n",
       "      <th>18</th>\n",
       "      <td>AggravatedSexualAssault</td>\n",
       "      <td>FlaxmereEast.</td>\n",
       "      <td>Hawke'sBayRegion</td>\n",
       "      <td>Fri</td>\n",
       "    </tr>\n",
       "    <tr>\n",
       "      <th>19</th>\n",
       "      <td>AggravatedSexualAssault</td>\n",
       "      <td>StLeonards.</td>\n",
       "      <td>Hawke'sBayRegion</td>\n",
       "      <td>Mon</td>\n",
       "    </tr>\n",
       "  </tbody>\n",
       "</table>\n",
       "</div>"
      ],
      "text/plain": [
       "                    AssaultType                Region          District  \\\n",
       "0   Non-AggravatedSexualAssault     TeAwamutuCentral.     WaikatoRegion   \n",
       "1       AggravatedSexualAssault        TotaraHeights.    AucklandRegion   \n",
       "2       AggravatedSexualAssault         FlaxmereEast.  Hawke'sBayRegion   \n",
       "3       AggravatedSexualAssault         GlenEdenEast.    AucklandRegion   \n",
       "4       AggravatedSexualAssault          GraftonEast.    AucklandRegion   \n",
       "5       AggravatedSexualAssault        PukekoheNorth.    AucklandRegion   \n",
       "6       AggravatedSexualAssault                 Wiri.    AucklandRegion   \n",
       "7       AggravatedSexualAssault         StarlingPark.    AucklandRegion   \n",
       "8       AggravatedSexualAssault  AucklandHarbourside.    AucklandRegion   \n",
       "9       AggravatedSexualAssault  AucklandCentralWest.    AucklandRegion   \n",
       "10  Non-AggravatedSexualAssault      TakapunaCentral.    AucklandRegion   \n",
       "11      AggravatedSexualAssault      CathedralSquare.  CanterburyRegion   \n",
       "12      AggravatedSexualAssault      CathedralSquare.  CanterburyRegion   \n",
       "13  Non-AggravatedSexualAssault          LinwoodEast.  CanterburyRegion   \n",
       "14  Non-AggravatedSexualAssault               Nawton.     WaikatoRegion   \n",
       "15      AggravatedSexualAssault  OtorohangaRuralEast.     WaikatoRegion   \n",
       "16  Non-AggravatedSexualAssault  OtorohangaRuralEast.     WaikatoRegion   \n",
       "17      AggravatedSexualAssault          MtEdenNorth.    AucklandRegion   \n",
       "18      AggravatedSexualAssault         FlaxmereEast.  Hawke'sBayRegion   \n",
       "19      AggravatedSexualAssault           StLeonards.  Hawke'sBayRegion   \n",
       "\n",
       "   DayofWeek  \n",
       "0        Sun  \n",
       "1        Tue  \n",
       "2        Sun  \n",
       "3        Mon  \n",
       "4        Mon  \n",
       "5        Wed  \n",
       "6        Sat  \n",
       "7        Mon  \n",
       "8        Mon  \n",
       "9        Sat  \n",
       "10       Fri  \n",
       "11       Tue  \n",
       "12       Tue  \n",
       "13       Wed  \n",
       "14       Sun  \n",
       "15       Mon  \n",
       "16       Mon  \n",
       "17       Mon  \n",
       "18       Fri  \n",
       "19       Mon  "
      ]
     },
     "execution_count": 13,
     "metadata": {},
     "output_type": "execute_result"
    }
   ],
   "source": [
    "# Show columns before & after cleaning\n",
    "# Show orginal columns before cleaning\n",
    "print(\"Total data columns before cleaning:\", dataFrame.count())\n",
    "print(\"Total data columns after cleaning:\", cleanData.count())\n",
    "\n",
    "pd.DataFrame(newData.take(20), columns=cleanData.columns)"
   ]
  },
  {
   "cell_type": "code",
   "execution_count": 14,
   "metadata": {
    "scrolled": false
   },
   "outputs": [
    {
     "data": {
      "text/html": [
       "<div>\n",
       "<style scoped>\n",
       "    .dataframe tbody tr th:only-of-type {\n",
       "        vertical-align: middle;\n",
       "    }\n",
       "\n",
       "    .dataframe tbody tr th {\n",
       "        vertical-align: top;\n",
       "    }\n",
       "\n",
       "    .dataframe thead th {\n",
       "        text-align: right;\n",
       "    }\n",
       "</style>\n",
       "<table border=\"1\" class=\"dataframe\">\n",
       "  <thead>\n",
       "    <tr style=\"text-align: right;\">\n",
       "      <th></th>\n",
       "      <th>AssaultType</th>\n",
       "      <th>count</th>\n",
       "    </tr>\n",
       "  </thead>\n",
       "  <tbody>\n",
       "    <tr>\n",
       "      <th>0</th>\n",
       "      <td>AggravatedSexualAssault</td>\n",
       "      <td>4229</td>\n",
       "    </tr>\n",
       "    <tr>\n",
       "      <th>1</th>\n",
       "      <td>Non-AggravatedSexualAssault</td>\n",
       "      <td>1828</td>\n",
       "    </tr>\n",
       "  </tbody>\n",
       "</table>\n",
       "</div>"
      ],
      "text/plain": [
       "                   AssaultType  count\n",
       "0      AggravatedSexualAssault   4229\n",
       "1  Non-AggravatedSexualAssault   1828"
      ]
     },
     "execution_count": 14,
     "metadata": {},
     "output_type": "execute_result"
    }
   ],
   "source": [
    "# Group by Assault type \n",
    "cleanData.groupBy('AssaultType').count().orderBy(col('count').desc()).toPandas()"
   ]
  },
  {
   "cell_type": "code",
   "execution_count": 15,
   "metadata": {
    "scrolled": true
   },
   "outputs": [
    {
     "data": {
      "text/html": [
       "<div>\n",
       "<style scoped>\n",
       "    .dataframe tbody tr th:only-of-type {\n",
       "        vertical-align: middle;\n",
       "    }\n",
       "\n",
       "    .dataframe tbody tr th {\n",
       "        vertical-align: top;\n",
       "    }\n",
       "\n",
       "    .dataframe thead th {\n",
       "        text-align: right;\n",
       "    }\n",
       "</style>\n",
       "<table border=\"1\" class=\"dataframe\">\n",
       "  <thead>\n",
       "    <tr style=\"text-align: right;\">\n",
       "      <th></th>\n",
       "      <th>Region</th>\n",
       "      <th>count</th>\n",
       "    </tr>\n",
       "  </thead>\n",
       "  <tbody>\n",
       "    <tr>\n",
       "      <th>0</th>\n",
       "      <td>AucklandRegion</td>\n",
       "      <td>1944</td>\n",
       "    </tr>\n",
       "    <tr>\n",
       "      <th>1</th>\n",
       "      <td>CanterburyRegion</td>\n",
       "      <td>750</td>\n",
       "    </tr>\n",
       "    <tr>\n",
       "      <th>2</th>\n",
       "      <td>WellingtonRegion</td>\n",
       "      <td>665</td>\n",
       "    </tr>\n",
       "    <tr>\n",
       "      <th>3</th>\n",
       "      <td>WaikatoRegion</td>\n",
       "      <td>571</td>\n",
       "    </tr>\n",
       "    <tr>\n",
       "      <th>4</th>\n",
       "      <td>BayofPlentyRegion</td>\n",
       "      <td>391</td>\n",
       "    </tr>\n",
       "    <tr>\n",
       "      <th>5</th>\n",
       "      <td>Manawatu-WanganuiRegion</td>\n",
       "      <td>352</td>\n",
       "    </tr>\n",
       "    <tr>\n",
       "      <th>6</th>\n",
       "      <td>OtagoRegion</td>\n",
       "      <td>308</td>\n",
       "    </tr>\n",
       "    <tr>\n",
       "      <th>7</th>\n",
       "      <td>Hawke'sBayRegion</td>\n",
       "      <td>302</td>\n",
       "    </tr>\n",
       "    <tr>\n",
       "      <th>8</th>\n",
       "      <td>NorthlandRegion</td>\n",
       "      <td>234</td>\n",
       "    </tr>\n",
       "    <tr>\n",
       "      <th>9</th>\n",
       "      <td>TaranakiRegion</td>\n",
       "      <td>160</td>\n",
       "    </tr>\n",
       "    <tr>\n",
       "      <th>10</th>\n",
       "      <td>NelsonRegion</td>\n",
       "      <td>94</td>\n",
       "    </tr>\n",
       "    <tr>\n",
       "      <th>11</th>\n",
       "      <td>SouthlandRegion</td>\n",
       "      <td>88</td>\n",
       "    </tr>\n",
       "    <tr>\n",
       "      <th>12</th>\n",
       "      <td>GisborneRegion</td>\n",
       "      <td>78</td>\n",
       "    </tr>\n",
       "    <tr>\n",
       "      <th>13</th>\n",
       "      <td>TasmanRegion</td>\n",
       "      <td>47</td>\n",
       "    </tr>\n",
       "    <tr>\n",
       "      <th>14</th>\n",
       "      <td>MarlboroughRegion</td>\n",
       "      <td>41</td>\n",
       "    </tr>\n",
       "    <tr>\n",
       "      <th>15</th>\n",
       "      <td>WestCoastRegion</td>\n",
       "      <td>32</td>\n",
       "    </tr>\n",
       "  </tbody>\n",
       "</table>\n",
       "</div>"
      ],
      "text/plain": [
       "                     Region  count\n",
       "0            AucklandRegion   1944\n",
       "1          CanterburyRegion    750\n",
       "2          WellingtonRegion    665\n",
       "3             WaikatoRegion    571\n",
       "4         BayofPlentyRegion    391\n",
       "5   Manawatu-WanganuiRegion    352\n",
       "6               OtagoRegion    308\n",
       "7          Hawke'sBayRegion    302\n",
       "8           NorthlandRegion    234\n",
       "9            TaranakiRegion    160\n",
       "10             NelsonRegion     94\n",
       "11          SouthlandRegion     88\n",
       "12           GisborneRegion     78\n",
       "13             TasmanRegion     47\n",
       "14        MarlboroughRegion     41\n",
       "15          WestCoastRegion     32"
      ]
     },
     "execution_count": 15,
     "metadata": {},
     "output_type": "execute_result"
    }
   ],
   "source": [
    "# Group by Region \n",
    "cleanData.groupBy('Region').count().orderBy(col('count').desc()).toPandas()"
   ]
  },
  {
   "cell_type": "code",
   "execution_count": 16,
   "metadata": {},
   "outputs": [
    {
     "data": {
      "text/html": [
       "<div>\n",
       "<style scoped>\n",
       "    .dataframe tbody tr th:only-of-type {\n",
       "        vertical-align: middle;\n",
       "    }\n",
       "\n",
       "    .dataframe tbody tr th {\n",
       "        vertical-align: top;\n",
       "    }\n",
       "\n",
       "    .dataframe thead th {\n",
       "        text-align: right;\n",
       "    }\n",
       "</style>\n",
       "<table border=\"1\" class=\"dataframe\">\n",
       "  <thead>\n",
       "    <tr style=\"text-align: right;\">\n",
       "      <th></th>\n",
       "      <th>DayofWeek</th>\n",
       "      <th>count</th>\n",
       "    </tr>\n",
       "  </thead>\n",
       "  <tbody>\n",
       "    <tr>\n",
       "      <th>0</th>\n",
       "      <td>Sun</td>\n",
       "      <td>948</td>\n",
       "    </tr>\n",
       "    <tr>\n",
       "      <th>1</th>\n",
       "      <td>Sat</td>\n",
       "      <td>941</td>\n",
       "    </tr>\n",
       "    <tr>\n",
       "      <th>2</th>\n",
       "      <td>Fri</td>\n",
       "      <td>924</td>\n",
       "    </tr>\n",
       "    <tr>\n",
       "      <th>3</th>\n",
       "      <td>Thu</td>\n",
       "      <td>843</td>\n",
       "    </tr>\n",
       "    <tr>\n",
       "      <th>4</th>\n",
       "      <td>Tue</td>\n",
       "      <td>814</td>\n",
       "    </tr>\n",
       "    <tr>\n",
       "      <th>5</th>\n",
       "      <td>Wed</td>\n",
       "      <td>809</td>\n",
       "    </tr>\n",
       "    <tr>\n",
       "      <th>6</th>\n",
       "      <td>Mon</td>\n",
       "      <td>778</td>\n",
       "    </tr>\n",
       "  </tbody>\n",
       "</table>\n",
       "</div>"
      ],
      "text/plain": [
       "  DayofWeek  count\n",
       "0       Sun    948\n",
       "1       Sat    941\n",
       "2       Fri    924\n",
       "3       Thu    843\n",
       "4       Tue    814\n",
       "5       Wed    809\n",
       "6       Mon    778"
      ]
     },
     "execution_count": 16,
     "metadata": {},
     "output_type": "execute_result"
    }
   ],
   "source": [
    "# Frequency of assualt happens on each day\n",
    "cleanData.groupBy('DayofWeek').count().orderBy(col('count').desc()).toPandas()"
   ]
  },
  {
   "cell_type": "markdown",
   "metadata": {},
   "source": [
    "### Model Pipeline"
   ]
  },
  {
   "cell_type": "code",
   "execution_count": 17,
   "metadata": {},
   "outputs": [
    {
     "name": "stdout",
     "output_type": "stream",
     "text": [
      "root\n",
      " |-- AssaultType: string (nullable = true)\n",
      " |-- Region: string (nullable = true)\n",
      " |-- District: string (nullable = true)\n",
      " |-- DayofWeek: string (nullable = true)\n",
      "\n"
     ]
    }
   ],
   "source": [
    "cleanData.printSchema()"
   ]
  },
  {
   "cell_type": "code",
   "execution_count": 18,
   "metadata": {},
   "outputs": [],
   "source": [
    "from pyspark.ml import Pipeline\n",
    "from pyspark.ml.feature import OneHotEncoder, StringIndexer, VectorAssembler\n",
    "\n",
    "# Label\n",
    "label_stringIdx = StringIndexer(inputCol = 'AssaultType', outputCol = \"label\")\n",
    "\n",
    "# Features\n",
    "region_indexer = StringIndexer(inputCol='Region',outputCol='regionIndex')\n",
    "district_indexer = StringIndexer(inputCol='District',outputCol='districtIndex')\n",
    "date_indexer = StringIndexer(inputCol='DayofWeek',outputCol='dateIndex')\n",
    "\n",
    "# OnehotEncode features\n",
    "region_encoder = OneHotEncoder(inputCol='regionIndex',outputCol='regionVec')\n",
    "district_encoder = OneHotEncoder(inputCol='districtIndex',outputCol='districtVec')\n",
    "date_encoder = OneHotEncoder(inputCol='dateIndex',outputCol='dateVec')\n",
    "\n",
    "# Set it as feature column\n",
    "assembler = VectorAssembler(inputCols=['regionVec','dateVec','districtVec'], outputCol=\"features\")"
   ]
  },
  {
   "cell_type": "code",
   "execution_count": 19,
   "metadata": {},
   "outputs": [
    {
     "name": "stdout",
     "output_type": "stream",
     "text": [
      "+--------------------+----------------+-----------------+---------+-----+-----------+--------------+---------+-------------+-------------+------------------+--------------------+\n",
      "|         AssaultType|          Region|         District|DayofWeek|label|regionIndex|     regionVec|dateIndex|      dateVec|districtIndex|       districtVec|            features|\n",
      "+--------------------+----------------+-----------------+---------+-----+-----------+--------------+---------+-------------+-------------+------------------+--------------------+\n",
      "|Non-AggravatedSex...|   WaikatoRegion|TeAwamutuCentral.|      Sun|  1.0|        3.0|(15,[3],[1.0])|      0.0|(6,[0],[1.0])|        550.0|(1300,[550],[1.0])|(1321,[3,15,571],...|\n",
      "|AggravatedSexualA...|  AucklandRegion|   TotaraHeights.|      Tue|  0.0|        0.0|(15,[0],[1.0])|      4.0|(6,[4],[1.0])|        503.0|(1300,[503],[1.0])|(1321,[0,19,524],...|\n",
      "|AggravatedSexualA...|Hawke'sBayRegion|    FlaxmereEast.|      Sun|  0.0|        7.0|(15,[7],[1.0])|      0.0|(6,[0],[1.0])|         49.0| (1300,[49],[1.0])|(1321,[7,15,70],[...|\n",
      "|AggravatedSexualA...|  AucklandRegion|    GlenEdenEast.|      Mon|  0.0|        0.0|(15,[0],[1.0])|      6.0|    (6,[],[])|         97.0| (1300,[97],[1.0])|(1321,[0,118],[1....|\n",
      "|AggravatedSexualA...|  AucklandRegion|     GraftonEast.|      Mon|  0.0|        0.0|(15,[0],[1.0])|      6.0|    (6,[],[])|         32.0| (1300,[32],[1.0])|(1321,[0,53],[1.0...|\n",
      "+--------------------+----------------+-----------------+---------+-----+-----------+--------------+---------+-------------+-------------+------------------+--------------------+\n",
      "only showing top 5 rows\n",
      "\n"
     ]
    }
   ],
   "source": [
    "# Get those into pipeline\n",
    "pipeline = Pipeline(stages=[label_stringIdx, region_indexer, region_encoder, date_indexer, date_encoder,\n",
    "                            district_indexer, district_encoder, assembler])\n",
    "\n",
    "# Fit the pipeline to training documents.\n",
    "pipelineFit = pipeline.fit(cleanData)\n",
    "pipe_df = pipelineFit.transform(cleanData)\n",
    "pipe_df.show(5)"
   ]
  },
  {
   "cell_type": "markdown",
   "metadata": {},
   "source": [
    "### Partition Training & Test sets"
   ]
  },
  {
   "cell_type": "code",
   "execution_count": 20,
   "metadata": {},
   "outputs": [
    {
     "name": "stdout",
     "output_type": "stream",
     "text": [
      "Training Dataset Count: 4239\n",
      "Test Dataset Count: 1818\n"
     ]
    }
   ],
   "source": [
    "# Split data into train and test. \n",
    "trainingData, testData = pipe_df.randomSplit([0.7,0.3])\n",
    "print(\"Training Dataset Count: \" + str(trainingData.count()))\n",
    "print(\"Test Dataset Count: \" + str(testData.count()))"
   ]
  },
  {
   "cell_type": "markdown",
   "metadata": {},
   "source": [
    "## 7 Data Mining  \n",
    "### Model Training and Evaluation  \n",
    "\n",
    "At this part, I use 4 different algorithms to classify New Zealand sexual assault into two types.   \n",
    "When a new sexual offence happens with location and day of week details, the algorithm will help  \n",
    "us to assign it into one category."
   ]
  },
  {
   "cell_type": "markdown",
   "metadata": {},
   "source": [
    "### Logistic Regression "
   ]
  },
  {
   "cell_type": "code",
   "execution_count": 21,
   "metadata": {},
   "outputs": [],
   "source": [
    "from pyspark.ml.classification import LogisticRegression\n",
    "from pyspark.ml.evaluation import BinaryClassificationEvaluator\n",
    "\n",
    "\n",
    "# Instantiate the model.\n",
    "lr_model = LogisticRegression(featuresCol='features',labelCol='label')\n",
    "\n",
    "# Fit the model.\n",
    "lr_model = lr_model.fit(trainingData)"
   ]
  },
  {
   "cell_type": "markdown",
   "metadata": {},
   "source": [
    "### Model Training"
   ]
  },
  {
   "cell_type": "code",
   "execution_count": 22,
   "metadata": {},
   "outputs": [
    {
     "data": {
      "text/plain": [
       "<Figure size 640x480 with 1 Axes>"
      ]
     },
     "metadata": {},
     "output_type": "display_data"
    }
   ],
   "source": [
    "import matplotlib.pyplot as plt\n",
    "import numpy as np\n",
    "\n",
    "beta = np.sort(lr_model.coefficients)\n",
    "\n",
    "plt.plot(beta)\n",
    "plt.ylabel('Beta Coefficients')\n",
    "plt.show()"
   ]
  },
  {
   "cell_type": "code",
   "execution_count": 23,
   "metadata": {
    "scrolled": true
   },
   "outputs": [
    {
     "data": {
      "image/png": "[encoded data removed]",
      "text/plain": [
       "<Figure size 432x288 with 1 Axes>"
      ]
     },
     "metadata": {},
     "output_type": "display_data"
    }
   ],
   "source": [
    "# Extract the summary from the returned LogisticRegressionModel instance trained\n",
    "trainingSummary = lr_model.summary\n",
    "\n",
    "# Obtain the objective per iteration\n",
    "objectiveHistory = trainingSummary.objectiveHistory\n",
    "plt.plot(objectiveHistory)\n",
    "plt.ylabel('Objective Function')\n",
    "plt.xlabel('Iteration')\n",
    "plt.show()"
   ]
  },
  {
   "cell_type": "code",
   "execution_count": 24,
   "metadata": {},
   "outputs": [
    {
     "name": "stdout",
     "output_type": "stream",
     "text": [
      "areaUnderROC: 0.8375780792890238\n"
     ]
    },
    {
     "data": {
      "image/png": "[encoded data removed]",
      "text/plain": [
       "<Figure size 432x288 with 1 Axes>"
      ]
     },
     "metadata": {},
     "output_type": "display_data"
    }
   ],
   "source": [
    "# Obtain the receiver-operating characteristic as a dataframe and areaUnderROC.\n",
    "print(\"areaUnderROC: \" + str(trainingSummary.areaUnderROC))\n",
    "\n",
    "#trainingSummary.roc.show(n=10, truncate=15)\n",
    "roc = trainingSummary.roc.toPandas()\n",
    "plt.plot(roc['FPR'],roc['TPR'])\n",
    "plt.ylabel('False Positive Rate')\n",
    "plt.xlabel('True Positive Rate')\n",
    "plt.title('ROC Curve')\n",
    "plt.show()"
   ]
  },
  {
   "cell_type": "code",
   "execution_count": 25,
   "metadata": {},
   "outputs": [
    {
     "data": {
      "image/png": "[encoded data removed]",
      "text/plain": [
       "<Figure size 432x288 with 1 Axes>"
      ]
     },
     "metadata": {},
     "output_type": "display_data"
    }
   ],
   "source": [
    "pr = trainingSummary.pr.toPandas()\n",
    "plt.plot(pr['recall'],pr['precision'])\n",
    "plt.ylabel('Precision')\n",
    "plt.xlabel('Recall')\n",
    "plt.show()"
   ]
  },
  {
   "cell_type": "code",
   "execution_count": 26,
   "metadata": {},
   "outputs": [
    {
     "data": {
      "image/png": "[encoded data removed]",
      "text/plain": [
       "<Figure size 432x288 with 1 Axes>"
      ]
     },
     "metadata": {},
     "output_type": "display_data"
    }
   ],
   "source": [
    "# Set the model threshold to maximize F-Measure\n",
    "# trainingSummary.fMeasureByThreshold.show(n=10, truncate = 15)\n",
    "f = trainingSummary.fMeasureByThreshold.toPandas()\n",
    "plt.plot(f['threshold'],f['F-Measure'])\n",
    "plt.ylabel('F-Measure')\n",
    "plt.xlabel('Threshold')\n",
    "plt.show()"
   ]
  },
  {
   "cell_type": "code",
   "execution_count": 27,
   "metadata": {},
   "outputs": [
    {
     "name": "stdout",
     "output_type": "stream",
     "text": [
      "+-----+------------------------------+------------------------------+----------------------------+----------+\n",
      "|label|                      features|                 rawPrediction|                 probability|prediction|\n",
      "+-----+------------------------------+------------------------------+----------------------------+----------+\n",
      "|  0.0|(1321,[8,20,668],[1.0,1.0,1...|[54.09359302477963,-54.0935...|[1.0,3.2169998675258012E-24]|       0.0|\n",
      "|  0.0|(1321,[8,17,476],[1.0,1.0,1...|[54.31425246900899,-54.3142...|[1.0,2.5800009388997846E-24]|       0.0|\n",
      "|  0.0|(1321,[8,17,668],[1.0,1.0,1...|[54.314527133248646,-54.314...|[1.0,2.5792924022128935E-24]|       0.0|\n",
      "|  0.0|(1321,[9,16,384],[1.0,1.0,1...|[54.331500948838524,-54.331...|[1.0,2.5358814357526225E-24]|       0.0|\n",
      "|  0.0|      (1321,[8,476],[1.0,1.0])|[54.362272400943496,-54.362...|[1.0,2.4590370517031415E-24]|       0.0|\n",
      "|  0.0|(1321,[8,18,652],[1.0,1.0,1...|[54.41120387726462,-54.4112...| [1.0,2.341609128035743E-24]|       0.0|\n",
      "|  0.0|(1321,[8,19,427],[1.0,1.0,1...|[54.54271013568406,-54.5427...|[1.0,2.0530615049749814E-24]|       0.0|\n",
      "|  1.0|(1321,[8,17,903],[1.0,1.0,1...|[54.55189776046785,-54.5518...|[1.0,2.0342851334173344E-24]|       0.0|\n",
      "|  0.0|(1321,[7,16,872],[1.0,1.0,1...|[54.59473278430001,-54.5947...|[1.0,1.9489864097320994E-24]|       0.0|\n",
      "|  1.0|(1321,[9,20,230],[1.0,1.0,1...|[54.63986135966056,-54.6398...|[1.0,1.8629865502636644E-24]|       0.0|\n",
      "|  1.0|(1321,[9,19,384],[1.0,1.0,1...|[54.65428588807189,-54.6542...|[1.0,1.8363067323329116E-24]|       0.0|\n",
      "|  0.0|(1321,[9,15,230],[1.0,1.0,1...|[54.6705391547596,-54.67053...|[1.0,1.8067019879126513E-24]|       0.0|\n",
      "|  0.0|(1321,[7,16,735],[1.0,1.0,1...|[54.81889605183158,-54.8188...|[1.0,1.5576000077095965E-24]|       0.0|\n",
      "|  0.0|(1321,[4,20,905],[1.0,1.0,1...|[54.87570932490053,-54.8757...|[1.0,1.4715744866623884E-24]|       0.0|\n",
      "|  0.0|(1321,[4,20,749],[1.0,1.0,1...|[54.87570932490053,-54.8757...|[1.0,1.4715744866623884E-24]|       0.0|\n",
      "|  0.0|(1321,[9,19,335],[1.0,1.0,1...|[54.905884370206465,-54.905...|[1.0,1.4278329305370084E-24]|       0.0|\n",
      "|  1.0|(1321,[4,15,944],[1.0,1.0,1...|[54.906387119999565,-54.906...| [1.0,1.427115268244001E-24]|       0.0|\n",
      "|  0.0|            (1321,[606],[1.0])|[54.93214351751195,-54.9321...|[1.0,1.3908272504805836E-24]|       0.0|\n",
      "|  0.0|            (1321,[606],[1.0])|[54.93214351751195,-54.9321...|[1.0,1.3908272504805836E-24]|       0.0|\n",
      "|  0.0|(1321,[4,20,388],[1.0,1.0,1...|[54.94597542037699,-54.9459...|[1.0,1.3717218993349731E-24]|       0.0|\n",
      "+-----+------------------------------+------------------------------+----------------------------+----------+\n",
      "only showing top 20 rows\n",
      "\n"
     ]
    }
   ],
   "source": [
    "# Make predictions on test data using the transform() method.\n",
    "predictions = lr_model.transform(testData)\n",
    "\n",
    "# Look top 20 predictions from the highest probability\n",
    "predictions.filter(predictions['prediction'] == 0) \\\n",
    "    .select('label','features','rawPrediction','probability','prediction') \\\n",
    "    .orderBy('probability', ascending=False) \\\n",
    "    .show(n = 20, truncate = 30)"
   ]
  },
  {
   "cell_type": "code",
   "execution_count": 29,
   "metadata": {},
   "outputs": [
    {
     "name": "stdout",
     "output_type": "stream",
     "text": [
      "Training: Area Under ROC: 0.8375780792890238\n",
      "Test: Area Under ROC: 0.5976732038969437\n"
     ]
    }
   ],
   "source": [
    "\n",
    "print(\"Training: Area Under ROC: \" + str(trainingSummary.areaUnderROC))\n",
    "\n",
    "# Evaluate model\n",
    "evaluator = BinaryClassificationEvaluator(rawPredictionCol=\"rawPrediction\")\n",
    "print(\"Test: Area Under ROC: \" + str(evaluator.evaluate(predictions, {evaluator.metricName: \"areaUnderROC\"})))"
   ]
  },
  {
   "cell_type": "markdown",
   "metadata": {},
   "source": [
    "### Logistic regression using Cross-Validation  \n",
    "\n",
    "**This may takes longer time to get result, please wait :)**"
   ]
  },
  {
   "cell_type": "code",
   "execution_count": 31,
   "metadata": {},
   "outputs": [],
   "source": [
    "from pyspark.ml.tuning import ParamGridBuilder, CrossValidator\n",
    "\n",
    "lrCrossVa = LogisticRegression(maxIter=20, regParam=0.3, elasticNetParam=0)\n",
    "\n",
    "# Create ParamGrid for Cross Validation\n",
    "paramGrid = (ParamGridBuilder()\n",
    "             # regularization parameter\n",
    "             .addGrid(lrCrossVa.regParam, [0.1, 0.3, 0.5]) \n",
    "             # Elastic Net Parameter (Ridge = 0)\n",
    "             .addGrid(lrCrossVa.elasticNetParam, [0.0, 0.1, 0.2]) \n",
    "             .build())\n",
    "             \n",
    "# Create 5-fold CrossValidator\n",
    "cv = CrossValidator(estimator=lrCrossVa, \\\n",
    "                    estimatorParamMaps=paramGrid, \\\n",
    "                    evaluator=evaluator, \\\n",
    "                    numFolds=5)\n",
    "cvModel = cv.fit(trainingData)\n",
    "\n",
    "cVpredictions = cvModel.transform(testData)   "
   ]
  },
  {
   "cell_type": "code",
   "execution_count": 32,
   "metadata": {},
   "outputs": [
    {
     "name": "stdout",
     "output_type": "stream",
     "text": [
      "+-----+------------------------------+------------------------------+------------------------------+----------+\n",
      "|label|                      features|                 rawPrediction|                   probability|prediction|\n",
      "+-----+------------------------------+------------------------------+------------------------------+----------+\n",
      "|  1.0|(1321,[9,18,553],[1.0,1.0,1...|[1.4466831324170983,-1.4466...|[0.8094874398954598,0.19051...|       0.0|\n",
      "|  0.0|(1321,[9,19,550],[1.0,1.0,1...|[1.4465489906910607,-1.4465...|[0.8094667520317024,0.19053...|       0.0|\n",
      "|  0.0|(1321,[9,19,870],[1.0,1.0,1...|[1.4465489906910607,-1.4465...|[0.8094667520317024,0.19053...|       0.0|\n",
      "|  1.0|(1321,[9,18,223],[1.0,1.0,1...|[1.4416516468520806,-1.4416...|[0.808710288119915,0.191289...|       0.0|\n",
      "|  0.0|(1321,[9,19,532],[1.0,1.0,1...|[1.4357332022906588,-1.4357...|[0.8077930436257029,0.19220...|       0.0|\n",
      "|  0.0|(1321,[9,18,344],[1.0,1.0,1...|[1.435451161809383,-1.43545...|[0.8077492492482095,0.19225...|       0.0|\n",
      "|  0.0|(1321,[9,18,544],[1.0,1.0,1...|[1.4335928099954942,-1.4335...|[0.8074604999980189,0.19253...|       0.0|\n",
      "|  0.0|(1321,[8,19,823],[1.0,1.0,1...|[1.42981407010075,-1.429814...|[0.8068723440818669,0.19312...|       0.0|\n",
      "|  0.0|(1321,[8,18,90],[1.0,1.0,1.0])|[1.429452373014441,-1.42945...|[0.8068159747987038,0.19318...|       0.0|\n",
      "|  0.0|(1321,[8,18,90],[1.0,1.0,1.0])|[1.429452373014441,-1.42945...|[0.8068159747987038,0.19318...|       0.0|\n",
      "|  0.0|(1321,[9,19,412],[1.0,1.0,1...|[1.428678008948411,-1.42867...|[0.8066952506742606,0.19330...|       0.0|\n",
      "|  0.0|(1321,[9,19,344],[1.0,1.0,1...|[1.427942720483618,-1.42794...|[0.8065805653871164,0.19341...|       0.0|\n",
      "|  0.0|(1321,[8,18,409],[1.0,1.0,1...|[1.4276000742621582,-1.4276...|[0.806527104097585,0.193472...|       0.0|\n",
      "|  0.0|(1321,[8,18,409],[1.0,1.0,1...|[1.4276000742621582,-1.4276...|[0.806527104097585,0.193472...|       0.0|\n",
      "|  0.0|(1321,[9,17,669],[1.0,1.0,1...|[1.426928107669741,-1.42692...|[0.8064222280701936,0.19357...|       0.0|\n",
      "|  0.0|(1321,[8,19,655],[1.0,1.0,1...|[1.4263574200571476,-1.4263...|[0.8063331250626532,0.19366...|       0.0|\n",
      "|  0.0|(1321,[9,19,335],[1.0,1.0,1...|[1.4256999124410592,-1.4256...|[0.8062304279813102,0.19376...|       0.0|\n",
      "|  0.0|      (1321,[9,805],[1.0,1.0])|[1.4254315561857813,-1.4254...|[0.8061885011369261,0.19381...|       0.0|\n",
      "|  0.0|(1321,[8,19,403],[1.0,1.0,1...|[1.4246321568938822,-1.4246...|[0.8060635655418682,0.19393...|       0.0|\n",
      "|  1.0|(1321,[8,19,403],[1.0,1.0,1...|[1.4246321568938822,-1.4246...|[0.8060635655418682,0.19393...|       0.0|\n",
      "+-----+------------------------------+------------------------------+------------------------------+----------+\n",
      "only showing top 20 rows\n",
      "\n"
     ]
    }
   ],
   "source": [
    "cVpredictions.filter(cVpredictions['prediction'] == 0) \\\n",
    "                   .select('label','features','rawPrediction','probability','prediction') \\\n",
    "                   .orderBy('probability', ascending=False) \\\n",
    "                   .show(n = 20, truncate = 30)"
   ]
  },
  {
   "cell_type": "code",
   "execution_count": 33,
   "metadata": {},
   "outputs": [
    {
     "name": "stdout",
     "output_type": "stream",
     "text": [
      "Test: Area Under ROC: 0.6123624930741516\n"
     ]
    }
   ],
   "source": [
    "# Evaluate prediction\n",
    "cVevaluator = BinaryClassificationEvaluator(rawPredictionCol=\"rawPrediction\")\n",
    "cVevaluator.evaluate(cVpredictions)\n",
    "\n",
    "print(\"Test: Area Under ROC: \" + str(cVevaluator.evaluate(cVpredictions, {cVevaluator.metricName: \"areaUnderROC\"})))"
   ]
  },
  {
   "cell_type": "markdown",
   "metadata": {},
   "source": [
    "### Naive Bayes"
   ]
  },
  {
   "cell_type": "code",
   "execution_count": 34,
   "metadata": {},
   "outputs": [
    {
     "name": "stdout",
     "output_type": "stream",
     "text": [
      "+-----+------------------------------+------------------------------+------------------------------+----------+\n",
      "|label|                      features|                 rawPrediction|                   probability|prediction|\n",
      "+-----+------------------------------+------------------------------+------------------------------+----------+\n",
      "|  0.0|(1321,[8,18,90],[1.0,1.0,1.0])|[-14.66140314697813,-18.136...|[0.9699675798262068,0.03003...|       0.0|\n",
      "|  0.0|(1321,[8,18,90],[1.0,1.0,1.0])|[-14.66140314697813,-18.136...|[0.9699675798262068,0.03003...|       0.0|\n",
      "|  0.0|(1321,[8,20,90],[1.0,1.0,1.0])|[-14.818922723871491,-18.17...|[0.9661884657615842,0.03381...|       0.0|\n",
      "|  0.0|(1321,[8,16,90],[1.0,1.0,1.0])|[-14.733443578767496,-17.86...|[0.9580442325515252,0.04195...|       0.0|\n",
      "|  0.0|(1321,[4,17,120],[1.0,1.0,1...|[-14.29843429011785,-17.424...|[0.9579575924766272,0.04204...|       0.0|\n",
      "|  0.0|(1321,[4,17,120],[1.0,1.0,1...|[-14.29843429011785,-17.424...|[0.9579575924766272,0.04204...|       0.0|\n",
      "|  0.0|(1321,[4,20,120],[1.0,1.0,1...|[-14.458193509604719,-17.52...|[0.9555596000616194,0.04444...|       0.0|\n",
      "|  1.0|(1321,[9,18,223],[1.0,1.0,1...|[-15.491659541510481,-18.51...|[0.953443885882599,0.046556...|       0.0|\n",
      "|  0.0|(1321,[1,18,110],[1.0,1.0,1...|[-13.76786940222659,-16.781...|[0.9532014148722712,0.04679...|       0.0|\n",
      "|  0.0|(1321,[5,17,93],[1.0,1.0,1.0])|[-14.446070288923917,-17.40...|[0.9508382545308699,0.04916...|       0.0|\n",
      "|  1.0|(1321,[5,17,93],[1.0,1.0,1.0])|[-14.446070288923917,-17.40...|[0.9508382545308699,0.04916...|       0.0|\n",
      "|  0.0|(1321,[1,17,110],[1.0,1.0,1...|[-13.765629759633086,-16.71...|[0.9502408696233663,0.04975...|       0.0|\n",
      "|  0.0|(1321,[7,20,135],[1.0,1.0,1...|[-14.628819026635483,-17.55...|[0.9493509985783304,0.05064...|       0.0|\n",
      "|  0.0|(1321,[8,19,143],[1.0,1.0,1...|[-15.278586295457615,-18.20...|[0.9492741016370425,0.05072...|       0.0|\n",
      "|  0.0|(1321,[4,19,170],[1.0,1.0,1...|[-14.658345885705756,-17.56...|[0.9480617163698226,0.05193...|       0.0|\n",
      "|  0.0|(1321,[8,17,168],[1.0,1.0,1...|[-15.169989128150615,-18.06...|[0.9478319916199331,0.05216...|       0.0|\n",
      "|  0.0|(1321,[8,17,288],[1.0,1.0,1...|[-15.169989128150615,-18.06...|[0.9478319916199331,0.05216...|       0.0|\n",
      "|  1.0|(1321,[9,20,230],[1.0,1.0,1...|[-15.649179118403843,-18.54...|[0.9476976381854942,0.05230...|       0.0|\n",
      "|  0.0|(1321,[1,18,50],[1.0,1.0,1.0])|[-13.208253614291166,-16.08...|[0.946871096640682,0.053128...|       0.0|\n",
      "|  0.0|(1321,[1,18,150],[1.0,1.0,1...|[-13.901400794851114,-16.78...|[0.9468710966406818,0.05312...|       0.0|\n",
      "+-----+------------------------------+------------------------------+------------------------------+----------+\n",
      "only showing top 20 rows\n",
      "\n"
     ]
    }
   ],
   "source": [
    "from pyspark.ml.classification import NaiveBayes\n",
    "\n",
    "# Build and Train Model\n",
    "nb = NaiveBayes(smoothing=1)\n",
    "nBayesModel = nb.fit(trainingData)\n",
    "nBayespredictions = nBayesModel.transform(testData)\n",
    "\n",
    "# Look top 20 predictions from the highest probability\n",
    "nBayespredictions.filter(nBayespredictions['prediction'] == 0) \\\n",
    "                 .select('label','features','rawPrediction','probability','prediction') \\\n",
    "                 .orderBy('probability', ascending=False) \\\n",
    "                 .show(n = 20, truncate = 30)"
   ]
  },
  {
   "cell_type": "code",
   "execution_count": 35,
   "metadata": {},
   "outputs": [
    {
     "name": "stdout",
     "output_type": "stream",
     "text": [
      "Test: Area Under ROC: 0.6092004109336042\n"
     ]
    }
   ],
   "source": [
    "# Evaluate prediction\n",
    "nBayesEvaluator = BinaryClassificationEvaluator(rawPredictionCol=\"rawPrediction\")\n",
    "nBayesEvaluator.evaluate(nBayespredictions)\n",
    "\n",
    "print(\"Test: Area Under ROC: \" + str(nBayesEvaluator.evaluate(nBayespredictions, {nBayesEvaluator.metricName: \"areaUnderROC\"})))"
   ]
  },
  {
   "cell_type": "markdown",
   "metadata": {},
   "source": [
    "### Random Forest"
   ]
  },
  {
   "cell_type": "code",
   "execution_count": 36,
   "metadata": {
    "scrolled": true
   },
   "outputs": [
    {
     "name": "stdout",
     "output_type": "stream",
     "text": [
      "+-----+------------------------------+------------------------------+------------------------------+----------+\n",
      "|label|                      features|                 rawPrediction|                   probability|prediction|\n",
      "+-----+------------------------------+------------------------------+------------------------------+----------+\n",
      "|  0.0|(1321,[1,18,349],[1.0,1.0,1...|[71.8155876923104,28.184412...|[0.7181558769231036,0.28184...|       0.0|\n",
      "|  0.0|(1321,[1,18,50],[1.0,1.0,1.0])|[71.75759032544498,28.24240...|[0.7175759032544494,0.28242...|       0.0|\n",
      "|  0.0|(1321,[1,17,50],[1.0,1.0,1.0])|[71.69020488070105,28.30979...|[0.71690204880701,0.2830979...|       0.0|\n",
      "|  0.0|(1321,[1,17,50],[1.0,1.0,1.0])|[71.69020488070105,28.30979...|[0.71690204880701,0.2830979...|       0.0|\n",
      "|  1.0|(1321,[1,20,50],[1.0,1.0,1.0])|[71.69020488070105,28.30979...|[0.71690204880701,0.2830979...|       0.0|\n",
      "|  0.0|(1321,[1,18,145],[1.0,1.0,1...|[71.64840735191444,28.35159...|[0.7164840735191441,0.28351...|       0.0|\n",
      "|  1.0|      (1321,[1,145],[1.0,1.0])|[71.58102190717051,28.41897...|[0.7158102190717048,0.28418...|       0.0|\n",
      "|  1.0|(1321,[1,16,349],[1.0,1.0,1...|[71.54791536882026,28.45208...|[0.7154791536882021,0.28452...|       0.0|\n",
      "|  0.0|(1321,[1,15,145],[1.0,1.0,1...|[71.50623763851438,28.49376...|[0.7150623763851434,0.28493...|       0.0|\n",
      "|  1.0|(1321,[1,19,145],[1.0,1.0,1...|[71.49399741045065,28.50600...|[0.7149399741045062,0.28506...|       0.0|\n",
      "|  0.0|(1321,[1,16,50],[1.0,1.0,1.0])|[71.48991800195483,28.51008...|[0.7148991800195479,0.28510...|       0.0|\n",
      "|  0.0|(1321,[1,16,50],[1.0,1.0,1.0])|[71.48991800195483,28.51008...|[0.7148991800195479,0.28510...|       0.0|\n",
      "|  0.0|(1321,[8,18,90],[1.0,1.0,1.0])|[71.449103763786,28.5508962...|[0.7144910376378598,0.28550...|       0.0|\n",
      "|  0.0|(1321,[8,18,90],[1.0,1.0,1.0])|[71.449103763786,28.5508962...|[0.7144910376378598,0.28550...|       0.0|\n",
      "|  0.0|(1321,[8,20,90],[1.0,1.0,1.0])|[71.449103763786,28.5508962...|[0.7144910376378598,0.28550...|       0.0|\n",
      "|  0.0|(1321,[8,17,288],[1.0,1.0,1...|[71.42450533265153,28.57549...|[0.7142450533265151,0.28575...|       0.0|\n",
      "|  0.0|(1321,[1,18,382],[1.0,1.0,1...|[71.41085916743391,28.58914...|[0.7141085916743388,0.28589...|       0.0|\n",
      "|  1.0|(1321,[1,16,145],[1.0,1.0,1...|[71.3807350284243,28.619264...|[0.7138073502842427,0.28619...|       0.0|\n",
      "|  0.0|(1321,[1,20,190],[1.0,1.0,1...|[71.34484578314208,28.65515...|[0.7134484578314204,0.28655...|       0.0|\n",
      "|  0.0|(1321,[8,17,168],[1.0,1.0,1...|[71.33416881932318,28.66583...|[0.7133416881932316,0.28665...|       0.0|\n",
      "+-----+------------------------------+------------------------------+------------------------------+----------+\n",
      "only showing top 20 rows\n",
      "\n"
     ]
    }
   ],
   "source": [
    "from pyspark.ml.classification import RandomForestClassifier\n",
    "\n",
    "randmFor = RandomForestClassifier(labelCol='label', \\\n",
    "                            featuresCol='features', \\\n",
    "                            numTrees = 100, \\\n",
    "                            maxDepth = 4, \\\n",
    "                            maxBins = 32)\n",
    "\n",
    "# Train model with Training Data\n",
    "rfModel = randmFor.fit(trainingData)\n",
    "\n",
    "randmForPredictions = rfModel.transform(testData)\n",
    "\n",
    "# Look top 20 predictions from the highest probability\n",
    "randmForPredictions.filter(randmForPredictions['prediction'] == 0) \\\n",
    "                   .select('label','features','rawPrediction','probability','prediction') \\\n",
    "                   .orderBy('probability', ascending=False) \\\n",
    "                   .show(n = 20, truncate = 30)"
   ]
  },
  {
   "cell_type": "code",
   "execution_count": 37,
   "metadata": {},
   "outputs": [
    {
     "name": "stdout",
     "output_type": "stream",
     "text": [
      "Test: Area Under ROC: 0.6122593268076465\n"
     ]
    }
   ],
   "source": [
    "# Evaluate prediction\n",
    "randmForEvaluator = BinaryClassificationEvaluator(rawPredictionCol=\"rawPrediction\")\n",
    "randmForEvaluator.evaluate(randmForPredictions)\n",
    "\n",
    "print(\"Test: Area Under ROC: \" + str(randmForEvaluator.evaluate(randmForPredictions, {randmForEvaluator.metricName: \"areaUnderROC\"})))"
   ]
  },
  {
   "cell_type": "code",
   "execution_count": null,
   "metadata": {},
   "outputs": [],
   "source": []
  },
  {
   "cell_type": "code",
   "execution_count": null,
   "metadata": {},
   "outputs": [],
   "source": []
  }
 ],
 "metadata": {
  "kernelspec": {
   "display_name": "Python 3",
   "language": "python",
   "name": "python3"
  },
  "language_info": {
   "codemirror_mode": {
    "name": "ipython",
    "version": 3
   },
   "file_extension": ".py",
   "mimetype": "text/x-python",
   "name": "python",
   "nbconvert_exporter": "python",
   "pygments_lexer": "ipython3",
   "version": "3.5.2"
  }
 },
 "nbformat": 4,
 "nbformat_minor": 2
}
